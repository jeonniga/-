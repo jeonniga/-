{
  "nbformat": 4,
  "nbformat_minor": 0,
  "metadata": {
    "kernelspec": {
      "name": "python3",
      "display_name": "Python 3"
    },
    "language_info": {
      "codemirror_mode": {
        "name": "ipython",
        "version": 3
      },
      "file_extension": ".py",
      "mimetype": "text/x-python",
      "name": "python",
      "nbconvert_exporter": "python",
      "pygments_lexer": "ipython3",
      "version": "3.7.3"
    },
    "colab": {
      "name": "Copy of 1. Getting Started.ipynb",
      "provenance": [],
      "collapsed_sections": [],
      "toc_visible": true,
      "include_colab_link": true
    },
    "accelerator": "GPU",
    "widgets": {
      "application/vnd.jupyter.widget-state+json": {
        "23e88ceff0394c999aeab0882b8fa980": {
          "model_module": "@jupyter-widgets/controls",
          "model_name": "HBoxModel",
          "state": {
            "_view_name": "HBoxView",
            "_dom_classes": [],
            "_model_name": "HBoxModel",
            "_view_module": "@jupyter-widgets/controls",
            "_model_module_version": "1.5.0",
            "_view_count": null,
            "_view_module_version": "1.5.0",
            "box_style": "",
            "layout": "IPY_MODEL_54146cce4c064c1eb7047433d4bf92df",
            "_model_module": "@jupyter-widgets/controls",
            "children": [
              "IPY_MODEL_d74bbbe633c746108b624c58a9eefab3",
              "IPY_MODEL_be7c5292092e44ff86eb88caa49f48d4"
            ]
          }
        },
        "54146cce4c064c1eb7047433d4bf92df": {
          "model_module": "@jupyter-widgets/base",
          "model_name": "LayoutModel",
          "state": {
            "_view_name": "LayoutView",
            "grid_template_rows": null,
            "right": null,
            "justify_content": null,
            "_view_module": "@jupyter-widgets/base",
            "overflow": null,
            "_model_module_version": "1.2.0",
            "_view_count": null,
            "flex_flow": null,
            "width": null,
            "min_width": null,
            "border": null,
            "align_items": null,
            "bottom": null,
            "_model_module": "@jupyter-widgets/base",
            "top": null,
            "grid_column": null,
            "overflow_y": null,
            "overflow_x": null,
            "grid_auto_flow": null,
            "grid_area": null,
            "grid_template_columns": null,
            "flex": null,
            "_model_name": "LayoutModel",
            "justify_items": null,
            "grid_row": null,
            "max_height": null,
            "align_content": null,
            "visibility": null,
            "align_self": null,
            "height": null,
            "min_height": null,
            "padding": null,
            "grid_auto_rows": null,
            "grid_gap": null,
            "max_width": null,
            "order": null,
            "_view_module_version": "1.2.0",
            "grid_template_areas": null,
            "object_position": null,
            "object_fit": null,
            "grid_auto_columns": null,
            "margin": null,
            "display": null,
            "left": null
          }
        },
        "d74bbbe633c746108b624c58a9eefab3": {
          "model_module": "@jupyter-widgets/controls",
          "model_name": "FloatProgressModel",
          "state": {
            "_view_name": "ProgressView",
            "style": "IPY_MODEL_6370b8f271364e6fbc9689243202ec54",
            "_dom_classes": [],
            "description": "100%",
            "_model_name": "FloatProgressModel",
            "bar_style": "success",
            "max": 20000263,
            "_view_module": "@jupyter-widgets/controls",
            "_model_module_version": "1.5.0",
            "value": 20000263,
            "_view_count": null,
            "_view_module_version": "1.5.0",
            "orientation": "horizontal",
            "min": 0,
            "description_tooltip": null,
            "_model_module": "@jupyter-widgets/controls",
            "layout": "IPY_MODEL_daead702a64f443bbe42a4072f2d08dd"
          }
        },
        "be7c5292092e44ff86eb88caa49f48d4": {
          "model_module": "@jupyter-widgets/controls",
          "model_name": "HTMLModel",
          "state": {
            "_view_name": "HTMLView",
            "style": "IPY_MODEL_c96744df1d2546708b7e19863e4f02a7",
            "_dom_classes": [],
            "description": "",
            "_model_name": "HTMLModel",
            "placeholder": "​",
            "_view_module": "@jupyter-widgets/controls",
            "_model_module_version": "1.5.0",
            "value": " 20000263/20000263 [00:59&lt;00:00, 335938.99it/s]",
            "_view_count": null,
            "_view_module_version": "1.5.0",
            "description_tooltip": null,
            "_model_module": "@jupyter-widgets/controls",
            "layout": "IPY_MODEL_ccad919fe71b4a7d87dce176532e7541"
          }
        },
        "6370b8f271364e6fbc9689243202ec54": {
          "model_module": "@jupyter-widgets/controls",
          "model_name": "ProgressStyleModel",
          "state": {
            "_view_name": "StyleView",
            "_model_name": "ProgressStyleModel",
            "description_width": "initial",
            "_view_module": "@jupyter-widgets/base",
            "_model_module_version": "1.5.0",
            "_view_count": null,
            "_view_module_version": "1.2.0",
            "bar_color": null,
            "_model_module": "@jupyter-widgets/controls"
          }
        },
        "daead702a64f443bbe42a4072f2d08dd": {
          "model_module": "@jupyter-widgets/base",
          "model_name": "LayoutModel",
          "state": {
            "_view_name": "LayoutView",
            "grid_template_rows": null,
            "right": null,
            "justify_content": null,
            "_view_module": "@jupyter-widgets/base",
            "overflow": null,
            "_model_module_version": "1.2.0",
            "_view_count": null,
            "flex_flow": null,
            "width": null,
            "min_width": null,
            "border": null,
            "align_items": null,
            "bottom": null,
            "_model_module": "@jupyter-widgets/base",
            "top": null,
            "grid_column": null,
            "overflow_y": null,
            "overflow_x": null,
            "grid_auto_flow": null,
            "grid_area": null,
            "grid_template_columns": null,
            "flex": null,
            "_model_name": "LayoutModel",
            "justify_items": null,
            "grid_row": null,
            "max_height": null,
            "align_content": null,
            "visibility": null,
            "align_self": null,
            "height": null,
            "min_height": null,
            "padding": null,
            "grid_auto_rows": null,
            "grid_gap": null,
            "max_width": null,
            "order": null,
            "_view_module_version": "1.2.0",
            "grid_template_areas": null,
            "object_position": null,
            "object_fit": null,
            "grid_auto_columns": null,
            "margin": null,
            "display": null,
            "left": null
          }
        },
        "c96744df1d2546708b7e19863e4f02a7": {
          "model_module": "@jupyter-widgets/controls",
          "model_name": "DescriptionStyleModel",
          "state": {
            "_view_name": "StyleView",
            "_model_name": "DescriptionStyleModel",
            "description_width": "",
            "_view_module": "@jupyter-widgets/base",
            "_model_module_version": "1.5.0",
            "_view_count": null,
            "_view_module_version": "1.2.0",
            "_model_module": "@jupyter-widgets/controls"
          }
        },
        "ccad919fe71b4a7d87dce176532e7541": {
          "model_module": "@jupyter-widgets/base",
          "model_name": "LayoutModel",
          "state": {
            "_view_name": "LayoutView",
            "grid_template_rows": null,
            "right": null,
            "justify_content": null,
            "_view_module": "@jupyter-widgets/base",
            "overflow": null,
            "_model_module_version": "1.2.0",
            "_view_count": null,
            "flex_flow": null,
            "width": null,
            "min_width": null,
            "border": null,
            "align_items": null,
            "bottom": null,
            "_model_module": "@jupyter-widgets/base",
            "top": null,
            "grid_column": null,
            "overflow_y": null,
            "overflow_x": null,
            "grid_auto_flow": null,
            "grid_area": null,
            "grid_template_columns": null,
            "flex": null,
            "_model_name": "LayoutModel",
            "justify_items": null,
            "grid_row": null,
            "max_height": null,
            "align_content": null,
            "visibility": null,
            "align_self": null,
            "height": null,
            "min_height": null,
            "padding": null,
            "grid_auto_rows": null,
            "grid_gap": null,
            "max_width": null,
            "order": null,
            "_view_module_version": "1.2.0",
            "grid_template_areas": null,
            "object_position": null,
            "object_fit": null,
            "grid_auto_columns": null,
            "margin": null,
            "display": null,
            "left": null
          }
        },
        "4201df14764746c1b8f64180d3fc8941": {
          "model_module": "@jupyter-widgets/controls",
          "model_name": "HBoxModel",
          "state": {
            "_view_name": "HBoxView",
            "_dom_classes": [],
            "_model_name": "HBoxModel",
            "_view_module": "@jupyter-widgets/controls",
            "_model_module_version": "1.5.0",
            "_view_count": null,
            "_view_module_version": "1.5.0",
            "box_style": "",
            "layout": "IPY_MODEL_e233867a32f34d6db756fee75e8f4d5a",
            "_model_module": "@jupyter-widgets/controls",
            "children": [
              "IPY_MODEL_3d5c66bf06d04236ad659ee17748ae13",
              "IPY_MODEL_cc4dd6428ad044bdbad1876380d3835e"
            ]
          }
        },
        "e233867a32f34d6db756fee75e8f4d5a": {
          "model_module": "@jupyter-widgets/base",
          "model_name": "LayoutModel",
          "state": {
            "_view_name": "LayoutView",
            "grid_template_rows": null,
            "right": null,
            "justify_content": null,
            "_view_module": "@jupyter-widgets/base",
            "overflow": null,
            "_model_module_version": "1.2.0",
            "_view_count": null,
            "flex_flow": null,
            "width": null,
            "min_width": null,
            "border": null,
            "align_items": null,
            "bottom": null,
            "_model_module": "@jupyter-widgets/base",
            "top": null,
            "grid_column": null,
            "overflow_y": null,
            "overflow_x": null,
            "grid_auto_flow": null,
            "grid_area": null,
            "grid_template_columns": null,
            "flex": null,
            "_model_name": "LayoutModel",
            "justify_items": null,
            "grid_row": null,
            "max_height": null,
            "align_content": null,
            "visibility": null,
            "align_self": null,
            "height": null,
            "min_height": null,
            "padding": null,
            "grid_auto_rows": null,
            "grid_gap": null,
            "max_width": null,
            "order": null,
            "_view_module_version": "1.2.0",
            "grid_template_areas": null,
            "object_position": null,
            "object_fit": null,
            "grid_auto_columns": null,
            "margin": null,
            "display": null,
            "left": null
          }
        },
        "3d5c66bf06d04236ad659ee17748ae13": {
          "model_module": "@jupyter-widgets/controls",
          "model_name": "FloatProgressModel",
          "state": {
            "_view_name": "ProgressView",
            "style": "IPY_MODEL_df618a451a9d44cbb844d7f2eae137ae",
            "_dom_classes": [],
            "description": "100%",
            "_model_name": "FloatProgressModel",
            "bar_style": "success",
            "max": 20000263,
            "_view_module": "@jupyter-widgets/controls",
            "_model_module_version": "1.5.0",
            "value": 20000263,
            "_view_count": null,
            "_view_module_version": "1.5.0",
            "orientation": "horizontal",
            "min": 0,
            "description_tooltip": null,
            "_model_module": "@jupyter-widgets/controls",
            "layout": "IPY_MODEL_16904b99baf24b269b54f42762ee9148"
          }
        },
        "cc4dd6428ad044bdbad1876380d3835e": {
          "model_module": "@jupyter-widgets/controls",
          "model_name": "HTMLModel",
          "state": {
            "_view_name": "HTMLView",
            "style": "IPY_MODEL_a84f1816e8464ec5861c5bac40608737",
            "_dom_classes": [],
            "description": "",
            "_model_name": "HTMLModel",
            "placeholder": "​",
            "_view_module": "@jupyter-widgets/controls",
            "_model_module_version": "1.5.0",
            "value": " 20000263/20000263 [00:27&lt;00:00, 722373.56it/s]",
            "_view_count": null,
            "_view_module_version": "1.5.0",
            "description_tooltip": null,
            "_model_module": "@jupyter-widgets/controls",
            "layout": "IPY_MODEL_06f0f90620c842ada986300532bce825"
          }
        },
        "df618a451a9d44cbb844d7f2eae137ae": {
          "model_module": "@jupyter-widgets/controls",
          "model_name": "ProgressStyleModel",
          "state": {
            "_view_name": "StyleView",
            "_model_name": "ProgressStyleModel",
            "description_width": "initial",
            "_view_module": "@jupyter-widgets/base",
            "_model_module_version": "1.5.0",
            "_view_count": null,
            "_view_module_version": "1.2.0",
            "bar_color": null,
            "_model_module": "@jupyter-widgets/controls"
          }
        },
        "16904b99baf24b269b54f42762ee9148": {
          "model_module": "@jupyter-widgets/base",
          "model_name": "LayoutModel",
          "state": {
            "_view_name": "LayoutView",
            "grid_template_rows": null,
            "right": null,
            "justify_content": null,
            "_view_module": "@jupyter-widgets/base",
            "overflow": null,
            "_model_module_version": "1.2.0",
            "_view_count": null,
            "flex_flow": null,
            "width": null,
            "min_width": null,
            "border": null,
            "align_items": null,
            "bottom": null,
            "_model_module": "@jupyter-widgets/base",
            "top": null,
            "grid_column": null,
            "overflow_y": null,
            "overflow_x": null,
            "grid_auto_flow": null,
            "grid_area": null,
            "grid_template_columns": null,
            "flex": null,
            "_model_name": "LayoutModel",
            "justify_items": null,
            "grid_row": null,
            "max_height": null,
            "align_content": null,
            "visibility": null,
            "align_self": null,
            "height": null,
            "min_height": null,
            "padding": null,
            "grid_auto_rows": null,
            "grid_gap": null,
            "max_width": null,
            "order": null,
            "_view_module_version": "1.2.0",
            "grid_template_areas": null,
            "object_position": null,
            "object_fit": null,
            "grid_auto_columns": null,
            "margin": null,
            "display": null,
            "left": null
          }
        },
        "a84f1816e8464ec5861c5bac40608737": {
          "model_module": "@jupyter-widgets/controls",
          "model_name": "DescriptionStyleModel",
          "state": {
            "_view_name": "StyleView",
            "_model_name": "DescriptionStyleModel",
            "description_width": "",
            "_view_module": "@jupyter-widgets/base",
            "_model_module_version": "1.5.0",
            "_view_count": null,
            "_view_module_version": "1.2.0",
            "_model_module": "@jupyter-widgets/controls"
          }
        },
        "06f0f90620c842ada986300532bce825": {
          "model_module": "@jupyter-widgets/base",
          "model_name": "LayoutModel",
          "state": {
            "_view_name": "LayoutView",
            "grid_template_rows": null,
            "right": null,
            "justify_content": null,
            "_view_module": "@jupyter-widgets/base",
            "overflow": null,
            "_model_module_version": "1.2.0",
            "_view_count": null,
            "flex_flow": null,
            "width": null,
            "min_width": null,
            "border": null,
            "align_items": null,
            "bottom": null,
            "_model_module": "@jupyter-widgets/base",
            "top": null,
            "grid_column": null,
            "overflow_y": null,
            "overflow_x": null,
            "grid_auto_flow": null,
            "grid_area": null,
            "grid_template_columns": null,
            "flex": null,
            "_model_name": "LayoutModel",
            "justify_items": null,
            "grid_row": null,
            "max_height": null,
            "align_content": null,
            "visibility": null,
            "align_self": null,
            "height": null,
            "min_height": null,
            "padding": null,
            "grid_auto_rows": null,
            "grid_gap": null,
            "max_width": null,
            "order": null,
            "_view_module_version": "1.2.0",
            "grid_template_areas": null,
            "object_position": null,
            "object_fit": null,
            "grid_auto_columns": null,
            "margin": null,
            "display": null,
            "left": null
          }
        },
        "5d672131c55a4b41ad3fbbc182de90c3": {
          "model_module": "@jupyter-widgets/controls",
          "model_name": "HBoxModel",
          "state": {
            "_view_name": "HBoxView",
            "_dom_classes": [],
            "_model_name": "HBoxModel",
            "_view_module": "@jupyter-widgets/controls",
            "_model_module_version": "1.5.0",
            "_view_count": null,
            "_view_module_version": "1.5.0",
            "box_style": "",
            "layout": "IPY_MODEL_792c34944bf143c0aa03207f546edc96",
            "_model_module": "@jupyter-widgets/controls",
            "children": [
              "IPY_MODEL_fee95341375648108d471b32a253dbaa",
              "IPY_MODEL_1a81bbfb96404fbe8a4b0f90ad848baa"
            ]
          }
        },
        "792c34944bf143c0aa03207f546edc96": {
          "model_module": "@jupyter-widgets/base",
          "model_name": "LayoutModel",
          "state": {
            "_view_name": "LayoutView",
            "grid_template_rows": null,
            "right": null,
            "justify_content": null,
            "_view_module": "@jupyter-widgets/base",
            "overflow": null,
            "_model_module_version": "1.2.0",
            "_view_count": null,
            "flex_flow": null,
            "width": null,
            "min_width": null,
            "border": null,
            "align_items": null,
            "bottom": null,
            "_model_module": "@jupyter-widgets/base",
            "top": null,
            "grid_column": null,
            "overflow_y": null,
            "overflow_x": null,
            "grid_auto_flow": null,
            "grid_area": null,
            "grid_template_columns": null,
            "flex": null,
            "_model_name": "LayoutModel",
            "justify_items": null,
            "grid_row": null,
            "max_height": null,
            "align_content": null,
            "visibility": null,
            "align_self": null,
            "height": null,
            "min_height": null,
            "padding": null,
            "grid_auto_rows": null,
            "grid_gap": null,
            "max_width": null,
            "order": null,
            "_view_module_version": "1.2.0",
            "grid_template_areas": null,
            "object_position": null,
            "object_fit": null,
            "grid_auto_columns": null,
            "margin": null,
            "display": null,
            "left": null
          }
        },
        "fee95341375648108d471b32a253dbaa": {
          "model_module": "@jupyter-widgets/controls",
          "model_name": "FloatProgressModel",
          "state": {
            "_view_name": "ProgressView",
            "style": "IPY_MODEL_897821c51d7848678fa904f29b6f2173",
            "_dom_classes": [],
            "description": "100%",
            "_model_name": "FloatProgressModel",
            "bar_style": "success",
            "max": 138493,
            "_view_module": "@jupyter-widgets/controls",
            "_model_module_version": "1.5.0",
            "value": 138493,
            "_view_count": null,
            "_view_module_version": "1.5.0",
            "orientation": "horizontal",
            "min": 0,
            "description_tooltip": null,
            "_model_module": "@jupyter-widgets/controls",
            "layout": "IPY_MODEL_db11ca5faffe482e882d313075ec295b"
          }
        },
        "1a81bbfb96404fbe8a4b0f90ad848baa": {
          "model_module": "@jupyter-widgets/controls",
          "model_name": "HTMLModel",
          "state": {
            "_view_name": "HTMLView",
            "style": "IPY_MODEL_1b058edd60964a9cb4ac5b8095b56ee7",
            "_dom_classes": [],
            "description": "",
            "_model_name": "HTMLModel",
            "placeholder": "​",
            "_view_module": "@jupyter-widgets/controls",
            "_model_module_version": "1.5.0",
            "value": " 138493/138493 [00:07&lt;00:00, 17828.38it/s]",
            "_view_count": null,
            "_view_module_version": "1.5.0",
            "description_tooltip": null,
            "_model_module": "@jupyter-widgets/controls",
            "layout": "IPY_MODEL_226709a29a8a41b4b0bf862bc23a8188"
          }
        },
        "897821c51d7848678fa904f29b6f2173": {
          "model_module": "@jupyter-widgets/controls",
          "model_name": "ProgressStyleModel",
          "state": {
            "_view_name": "StyleView",
            "_model_name": "ProgressStyleModel",
            "description_width": "initial",
            "_view_module": "@jupyter-widgets/base",
            "_model_module_version": "1.5.0",
            "_view_count": null,
            "_view_module_version": "1.2.0",
            "bar_color": null,
            "_model_module": "@jupyter-widgets/controls"
          }
        },
        "db11ca5faffe482e882d313075ec295b": {
          "model_module": "@jupyter-widgets/base",
          "model_name": "LayoutModel",
          "state": {
            "_view_name": "LayoutView",
            "grid_template_rows": null,
            "right": null,
            "justify_content": null,
            "_view_module": "@jupyter-widgets/base",
            "overflow": null,
            "_model_module_version": "1.2.0",
            "_view_count": null,
            "flex_flow": null,
            "width": null,
            "min_width": null,
            "border": null,
            "align_items": null,
            "bottom": null,
            "_model_module": "@jupyter-widgets/base",
            "top": null,
            "grid_column": null,
            "overflow_y": null,
            "overflow_x": null,
            "grid_auto_flow": null,
            "grid_area": null,
            "grid_template_columns": null,
            "flex": null,
            "_model_name": "LayoutModel",
            "justify_items": null,
            "grid_row": null,
            "max_height": null,
            "align_content": null,
            "visibility": null,
            "align_self": null,
            "height": null,
            "min_height": null,
            "padding": null,
            "grid_auto_rows": null,
            "grid_gap": null,
            "max_width": null,
            "order": null,
            "_view_module_version": "1.2.0",
            "grid_template_areas": null,
            "object_position": null,
            "object_fit": null,
            "grid_auto_columns": null,
            "margin": null,
            "display": null,
            "left": null
          }
        },
        "1b058edd60964a9cb4ac5b8095b56ee7": {
          "model_module": "@jupyter-widgets/controls",
          "model_name": "DescriptionStyleModel",
          "state": {
            "_view_name": "StyleView",
            "_model_name": "DescriptionStyleModel",
            "description_width": "",
            "_view_module": "@jupyter-widgets/base",
            "_model_module_version": "1.5.0",
            "_view_count": null,
            "_view_module_version": "1.2.0",
            "_model_module": "@jupyter-widgets/controls"
          }
        },
        "226709a29a8a41b4b0bf862bc23a8188": {
          "model_module": "@jupyter-widgets/base",
          "model_name": "LayoutModel",
          "state": {
            "_view_name": "LayoutView",
            "grid_template_rows": null,
            "right": null,
            "justify_content": null,
            "_view_module": "@jupyter-widgets/base",
            "overflow": null,
            "_model_module_version": "1.2.0",
            "_view_count": null,
            "flex_flow": null,
            "width": null,
            "min_width": null,
            "border": null,
            "align_items": null,
            "bottom": null,
            "_model_module": "@jupyter-widgets/base",
            "top": null,
            "grid_column": null,
            "overflow_y": null,
            "overflow_x": null,
            "grid_auto_flow": null,
            "grid_area": null,
            "grid_template_columns": null,
            "flex": null,
            "_model_name": "LayoutModel",
            "justify_items": null,
            "grid_row": null,
            "max_height": null,
            "align_content": null,
            "visibility": null,
            "align_self": null,
            "height": null,
            "min_height": null,
            "padding": null,
            "grid_auto_rows": null,
            "grid_gap": null,
            "max_width": null,
            "order": null,
            "_view_module_version": "1.2.0",
            "grid_template_areas": null,
            "object_position": null,
            "object_fit": null,
            "grid_auto_columns": null,
            "margin": null,
            "display": null,
            "left": null
          }
        },
        "ebc0aedec1234f64b08fec5eebd55640": {
          "model_module": "@jupyter-widgets/controls",
          "model_name": "HBoxModel",
          "state": {
            "_view_name": "HBoxView",
            "_dom_classes": [],
            "_model_name": "HBoxModel",
            "_view_module": "@jupyter-widgets/controls",
            "_model_module_version": "1.5.0",
            "_view_count": null,
            "_view_module_version": "1.5.0",
            "box_style": "",
            "layout": "IPY_MODEL_e439f00548154b238ac017b3fb4383a4",
            "_model_module": "@jupyter-widgets/controls",
            "children": [
              "IPY_MODEL_c0e4c5235a6a4f0ba9b4aca9505fcebf",
              "IPY_MODEL_3e5d99f3a5c845469281cc12b590f11c"
            ]
          }
        },
        "e439f00548154b238ac017b3fb4383a4": {
          "model_module": "@jupyter-widgets/base",
          "model_name": "LayoutModel",
          "state": {
            "_view_name": "LayoutView",
            "grid_template_rows": null,
            "right": null,
            "justify_content": null,
            "_view_module": "@jupyter-widgets/base",
            "overflow": null,
            "_model_module_version": "1.2.0",
            "_view_count": null,
            "flex_flow": null,
            "width": null,
            "min_width": null,
            "border": null,
            "align_items": null,
            "bottom": null,
            "_model_module": "@jupyter-widgets/base",
            "top": null,
            "grid_column": null,
            "overflow_y": null,
            "overflow_x": null,
            "grid_auto_flow": null,
            "grid_area": null,
            "grid_template_columns": null,
            "flex": null,
            "_model_name": "LayoutModel",
            "justify_items": null,
            "grid_row": null,
            "max_height": null,
            "align_content": null,
            "visibility": null,
            "align_self": null,
            "height": null,
            "min_height": null,
            "padding": null,
            "grid_auto_rows": null,
            "grid_gap": null,
            "max_width": null,
            "order": null,
            "_view_module_version": "1.2.0",
            "grid_template_areas": null,
            "object_position": null,
            "object_fit": null,
            "grid_auto_columns": null,
            "margin": null,
            "display": null,
            "left": null
          }
        },
        "c0e4c5235a6a4f0ba9b4aca9505fcebf": {
          "model_module": "@jupyter-widgets/controls",
          "model_name": "FloatProgressModel",
          "state": {
            "_view_name": "ProgressView",
            "style": "IPY_MODEL_2ed25f0c743c4d62861cb4ccaacb2c8d",
            "_dom_classes": [],
            "description": " 19%",
            "_model_name": "FloatProgressModel",
            "bar_style": "danger",
            "max": 5263,
            "_view_module": "@jupyter-widgets/controls",
            "_model_module_version": "1.5.0",
            "value": 999,
            "_view_count": null,
            "_view_module_version": "1.5.0",
            "orientation": "horizontal",
            "min": 0,
            "description_tooltip": null,
            "_model_module": "@jupyter-widgets/controls",
            "layout": "IPY_MODEL_ae85e9d3a65a4bbdb78c24cfec85f986"
          }
        },
        "3e5d99f3a5c845469281cc12b590f11c": {
          "model_module": "@jupyter-widgets/controls",
          "model_name": "HTMLModel",
          "state": {
            "_view_name": "HTMLView",
            "style": "IPY_MODEL_13b6032fab1f4253944c2667d127b996",
            "_dom_classes": [],
            "description": "",
            "_model_name": "HTMLModel",
            "placeholder": "​",
            "_view_module": "@jupyter-widgets/controls",
            "_model_module_version": "1.5.0",
            "value": " 999/5263 [01:40&lt;04:35, 15.49it/s]",
            "_view_count": null,
            "_view_module_version": "1.5.0",
            "description_tooltip": null,
            "_model_module": "@jupyter-widgets/controls",
            "layout": "IPY_MODEL_642babd951c94ca39c8d710554b21da6"
          }
        },
        "2ed25f0c743c4d62861cb4ccaacb2c8d": {
          "model_module": "@jupyter-widgets/controls",
          "model_name": "ProgressStyleModel",
          "state": {
            "_view_name": "StyleView",
            "_model_name": "ProgressStyleModel",
            "description_width": "initial",
            "_view_module": "@jupyter-widgets/base",
            "_model_module_version": "1.5.0",
            "_view_count": null,
            "_view_module_version": "1.2.0",
            "bar_color": null,
            "_model_module": "@jupyter-widgets/controls"
          }
        },
        "ae85e9d3a65a4bbdb78c24cfec85f986": {
          "model_module": "@jupyter-widgets/base",
          "model_name": "LayoutModel",
          "state": {
            "_view_name": "LayoutView",
            "grid_template_rows": null,
            "right": null,
            "justify_content": null,
            "_view_module": "@jupyter-widgets/base",
            "overflow": null,
            "_model_module_version": "1.2.0",
            "_view_count": null,
            "flex_flow": null,
            "width": null,
            "min_width": null,
            "border": null,
            "align_items": null,
            "bottom": null,
            "_model_module": "@jupyter-widgets/base",
            "top": null,
            "grid_column": null,
            "overflow_y": null,
            "overflow_x": null,
            "grid_auto_flow": null,
            "grid_area": null,
            "grid_template_columns": null,
            "flex": null,
            "_model_name": "LayoutModel",
            "justify_items": null,
            "grid_row": null,
            "max_height": null,
            "align_content": null,
            "visibility": null,
            "align_self": null,
            "height": null,
            "min_height": null,
            "padding": null,
            "grid_auto_rows": null,
            "grid_gap": null,
            "max_width": null,
            "order": null,
            "_view_module_version": "1.2.0",
            "grid_template_areas": null,
            "object_position": null,
            "object_fit": null,
            "grid_auto_columns": null,
            "margin": null,
            "display": null,
            "left": null
          }
        },
        "13b6032fab1f4253944c2667d127b996": {
          "model_module": "@jupyter-widgets/controls",
          "model_name": "DescriptionStyleModel",
          "state": {
            "_view_name": "StyleView",
            "_model_name": "DescriptionStyleModel",
            "description_width": "",
            "_view_module": "@jupyter-widgets/base",
            "_model_module_version": "1.5.0",
            "_view_count": null,
            "_view_module_version": "1.2.0",
            "_model_module": "@jupyter-widgets/controls"
          }
        },
        "642babd951c94ca39c8d710554b21da6": {
          "model_module": "@jupyter-widgets/base",
          "model_name": "LayoutModel",
          "state": {
            "_view_name": "LayoutView",
            "grid_template_rows": null,
            "right": null,
            "justify_content": null,
            "_view_module": "@jupyter-widgets/base",
            "overflow": null,
            "_model_module_version": "1.2.0",
            "_view_count": null,
            "flex_flow": null,
            "width": null,
            "min_width": null,
            "border": null,
            "align_items": null,
            "bottom": null,
            "_model_module": "@jupyter-widgets/base",
            "top": null,
            "grid_column": null,
            "overflow_y": null,
            "overflow_x": null,
            "grid_auto_flow": null,
            "grid_area": null,
            "grid_template_columns": null,
            "flex": null,
            "_model_name": "LayoutModel",
            "justify_items": null,
            "grid_row": null,
            "max_height": null,
            "align_content": null,
            "visibility": null,
            "align_self": null,
            "height": null,
            "min_height": null,
            "padding": null,
            "grid_auto_rows": null,
            "grid_gap": null,
            "max_width": null,
            "order": null,
            "_view_module_version": "1.2.0",
            "grid_template_areas": null,
            "object_position": null,
            "object_fit": null,
            "grid_auto_columns": null,
            "margin": null,
            "display": null,
            "left": null
          }
        },
        "1e1f5004b9e645b2b4a461e46c57a5b0": {
          "model_module": "@jupyter-widgets/controls",
          "model_name": "HBoxModel",
          "state": {
            "_view_name": "HBoxView",
            "_dom_classes": [],
            "_model_name": "HBoxModel",
            "_view_module": "@jupyter-widgets/controls",
            "_model_module_version": "1.5.0",
            "_view_count": null,
            "_view_module_version": "1.5.0",
            "box_style": "",
            "layout": "IPY_MODEL_f48624751ba744bf81c6c192158e8870",
            "_model_module": "@jupyter-widgets/controls",
            "children": [
              "IPY_MODEL_9627518a53a5413289733c5490257830",
              "IPY_MODEL_6c7ae3455db8481cbb74bfd11ad5cf91"
            ]
          }
        },
        "f48624751ba744bf81c6c192158e8870": {
          "model_module": "@jupyter-widgets/base",
          "model_name": "LayoutModel",
          "state": {
            "_view_name": "LayoutView",
            "grid_template_rows": null,
            "right": null,
            "justify_content": null,
            "_view_module": "@jupyter-widgets/base",
            "overflow": null,
            "_model_module_version": "1.2.0",
            "_view_count": null,
            "flex_flow": null,
            "width": null,
            "min_width": null,
            "border": null,
            "align_items": null,
            "bottom": null,
            "_model_module": "@jupyter-widgets/base",
            "top": null,
            "grid_column": null,
            "overflow_y": null,
            "overflow_x": null,
            "grid_auto_flow": null,
            "grid_area": null,
            "grid_template_columns": null,
            "flex": null,
            "_model_name": "LayoutModel",
            "justify_items": null,
            "grid_row": null,
            "max_height": null,
            "align_content": null,
            "visibility": null,
            "align_self": null,
            "height": null,
            "min_height": null,
            "padding": null,
            "grid_auto_rows": null,
            "grid_gap": null,
            "max_width": null,
            "order": null,
            "_view_module_version": "1.2.0",
            "grid_template_areas": null,
            "object_position": null,
            "object_fit": null,
            "grid_auto_columns": null,
            "margin": null,
            "display": null,
            "left": null
          }
        },
        "9627518a53a5413289733c5490257830": {
          "model_module": "@jupyter-widgets/controls",
          "model_name": "FloatProgressModel",
          "state": {
            "_view_name": "ProgressView",
            "style": "IPY_MODEL_0b340d160fce4f90b56c97d69c11f483",
            "_dom_classes": [],
            "description": " 19%",
            "_model_name": "FloatProgressModel",
            "bar_style": "danger",
            "max": 5263,
            "_view_module": "@jupyter-widgets/controls",
            "_model_module_version": "1.5.0",
            "value": 1000,
            "_view_count": null,
            "_view_module_version": "1.5.0",
            "orientation": "horizontal",
            "min": 0,
            "description_tooltip": null,
            "_model_module": "@jupyter-widgets/controls",
            "layout": "IPY_MODEL_56acbf1a5e364e6c9ee4756d2cf99586"
          }
        },
        "6c7ae3455db8481cbb74bfd11ad5cf91": {
          "model_module": "@jupyter-widgets/controls",
          "model_name": "HTMLModel",
          "state": {
            "_view_name": "HTMLView",
            "style": "IPY_MODEL_4aabb7b60442413a86f407645c0ef9df",
            "_dom_classes": [],
            "description": "",
            "_model_name": "HTMLModel",
            "placeholder": "​",
            "_view_module": "@jupyter-widgets/controls",
            "_model_module_version": "1.5.0",
            "value": " 1000/5263 [03:20&lt;28:46,  2.47it/s]",
            "_view_count": null,
            "_view_module_version": "1.5.0",
            "description_tooltip": null,
            "_model_module": "@jupyter-widgets/controls",
            "layout": "IPY_MODEL_1a4231ab3d764a8c8ac5f1cfb20401a4"
          }
        },
        "0b340d160fce4f90b56c97d69c11f483": {
          "model_module": "@jupyter-widgets/controls",
          "model_name": "ProgressStyleModel",
          "state": {
            "_view_name": "StyleView",
            "_model_name": "ProgressStyleModel",
            "description_width": "initial",
            "_view_module": "@jupyter-widgets/base",
            "_model_module_version": "1.5.0",
            "_view_count": null,
            "_view_module_version": "1.2.0",
            "bar_color": null,
            "_model_module": "@jupyter-widgets/controls"
          }
        },
        "56acbf1a5e364e6c9ee4756d2cf99586": {
          "model_module": "@jupyter-widgets/base",
          "model_name": "LayoutModel",
          "state": {
            "_view_name": "LayoutView",
            "grid_template_rows": null,
            "right": null,
            "justify_content": null,
            "_view_module": "@jupyter-widgets/base",
            "overflow": null,
            "_model_module_version": "1.2.0",
            "_view_count": null,
            "flex_flow": null,
            "width": null,
            "min_width": null,
            "border": null,
            "align_items": null,
            "bottom": null,
            "_model_module": "@jupyter-widgets/base",
            "top": null,
            "grid_column": null,
            "overflow_y": null,
            "overflow_x": null,
            "grid_auto_flow": null,
            "grid_area": null,
            "grid_template_columns": null,
            "flex": null,
            "_model_name": "LayoutModel",
            "justify_items": null,
            "grid_row": null,
            "max_height": null,
            "align_content": null,
            "visibility": null,
            "align_self": null,
            "height": null,
            "min_height": null,
            "padding": null,
            "grid_auto_rows": null,
            "grid_gap": null,
            "max_width": null,
            "order": null,
            "_view_module_version": "1.2.0",
            "grid_template_areas": null,
            "object_position": null,
            "object_fit": null,
            "grid_auto_columns": null,
            "margin": null,
            "display": null,
            "left": null
          }
        },
        "4aabb7b60442413a86f407645c0ef9df": {
          "model_module": "@jupyter-widgets/controls",
          "model_name": "DescriptionStyleModel",
          "state": {
            "_view_name": "StyleView",
            "_model_name": "DescriptionStyleModel",
            "description_width": "",
            "_view_module": "@jupyter-widgets/base",
            "_model_module_version": "1.5.0",
            "_view_count": null,
            "_view_module_version": "1.2.0",
            "_model_module": "@jupyter-widgets/controls"
          }
        },
        "1a4231ab3d764a8c8ac5f1cfb20401a4": {
          "model_module": "@jupyter-widgets/base",
          "model_name": "LayoutModel",
          "state": {
            "_view_name": "LayoutView",
            "grid_template_rows": null,
            "right": null,
            "justify_content": null,
            "_view_module": "@jupyter-widgets/base",
            "overflow": null,
            "_model_module_version": "1.2.0",
            "_view_count": null,
            "flex_flow": null,
            "width": null,
            "min_width": null,
            "border": null,
            "align_items": null,
            "bottom": null,
            "_model_module": "@jupyter-widgets/base",
            "top": null,
            "grid_column": null,
            "overflow_y": null,
            "overflow_x": null,
            "grid_auto_flow": null,
            "grid_area": null,
            "grid_template_columns": null,
            "flex": null,
            "_model_name": "LayoutModel",
            "justify_items": null,
            "grid_row": null,
            "max_height": null,
            "align_content": null,
            "visibility": null,
            "align_self": null,
            "height": null,
            "min_height": null,
            "padding": null,
            "grid_auto_rows": null,
            "grid_gap": null,
            "max_width": null,
            "order": null,
            "_view_module_version": "1.2.0",
            "grid_template_areas": null,
            "object_position": null,
            "object_fit": null,
            "grid_auto_columns": null,
            "margin": null,
            "display": null,
            "left": null
          }
        },
        "378543ea2df74ec8878ad172b226d3c1": {
          "model_module": "@jupyter-widgets/controls",
          "model_name": "HBoxModel",
          "state": {
            "_view_name": "HBoxView",
            "_dom_classes": [],
            "_model_name": "HBoxModel",
            "_view_module": "@jupyter-widgets/controls",
            "_model_module_version": "1.5.0",
            "_view_count": null,
            "_view_module_version": "1.5.0",
            "box_style": "",
            "layout": "IPY_MODEL_347799a89f1040828aedebfd56e36e2c",
            "_model_module": "@jupyter-widgets/controls",
            "children": [
              "IPY_MODEL_bb1cd48005ab4cf8baa53e24a6f4013c",
              "IPY_MODEL_23fdbda10c05450594e54b8d07354664"
            ]
          }
        },
        "347799a89f1040828aedebfd56e36e2c": {
          "model_module": "@jupyter-widgets/base",
          "model_name": "LayoutModel",
          "state": {
            "_view_name": "LayoutView",
            "grid_template_rows": null,
            "right": null,
            "justify_content": null,
            "_view_module": "@jupyter-widgets/base",
            "overflow": null,
            "_model_module_version": "1.2.0",
            "_view_count": null,
            "flex_flow": null,
            "width": null,
            "min_width": null,
            "border": null,
            "align_items": null,
            "bottom": null,
            "_model_module": "@jupyter-widgets/base",
            "top": null,
            "grid_column": null,
            "overflow_y": null,
            "overflow_x": null,
            "grid_auto_flow": null,
            "grid_area": null,
            "grid_template_columns": null,
            "flex": null,
            "_model_name": "LayoutModel",
            "justify_items": null,
            "grid_row": null,
            "max_height": null,
            "align_content": null,
            "visibility": null,
            "align_self": null,
            "height": null,
            "min_height": null,
            "padding": null,
            "grid_auto_rows": null,
            "grid_gap": null,
            "max_width": null,
            "order": null,
            "_view_module_version": "1.2.0",
            "grid_template_areas": null,
            "object_position": null,
            "object_fit": null,
            "grid_auto_columns": null,
            "margin": null,
            "display": null,
            "left": null
          }
        },
        "bb1cd48005ab4cf8baa53e24a6f4013c": {
          "model_module": "@jupyter-widgets/controls",
          "model_name": "FloatProgressModel",
          "state": {
            "_view_name": "ProgressView",
            "style": "IPY_MODEL_a78332665eb5445ea059de408af0c004",
            "_dom_classes": [],
            "description": "100%",
            "_model_name": "FloatProgressModel",
            "bar_style": "success",
            "max": 38,
            "_view_module": "@jupyter-widgets/controls",
            "_model_module_version": "1.5.0",
            "value": 38,
            "_view_count": null,
            "_view_module_version": "1.5.0",
            "orientation": "horizontal",
            "min": 0,
            "description_tooltip": null,
            "_model_module": "@jupyter-widgets/controls",
            "layout": "IPY_MODEL_b02fc1ba86974f72930c4a40e2aa5824"
          }
        },
        "23fdbda10c05450594e54b8d07354664": {
          "model_module": "@jupyter-widgets/controls",
          "model_name": "HTMLModel",
          "state": {
            "_view_name": "HTMLView",
            "style": "IPY_MODEL_65ad3824a8e44a8ea665ffbfe3b55212",
            "_dom_classes": [],
            "description": "",
            "_model_name": "HTMLModel",
            "placeholder": "​",
            "_view_module": "@jupyter-widgets/controls",
            "_model_module_version": "1.5.0",
            "value": " 38/38 [00:16&lt;00:00,  2.31it/s]",
            "_view_count": null,
            "_view_module_version": "1.5.0",
            "description_tooltip": null,
            "_model_module": "@jupyter-widgets/controls",
            "layout": "IPY_MODEL_19d3734d5ca9494eb1ca2dbeedd6d2d0"
          }
        },
        "a78332665eb5445ea059de408af0c004": {
          "model_module": "@jupyter-widgets/controls",
          "model_name": "ProgressStyleModel",
          "state": {
            "_view_name": "StyleView",
            "_model_name": "ProgressStyleModel",
            "description_width": "initial",
            "_view_module": "@jupyter-widgets/base",
            "_model_module_version": "1.5.0",
            "_view_count": null,
            "_view_module_version": "1.2.0",
            "bar_color": null,
            "_model_module": "@jupyter-widgets/controls"
          }
        },
        "b02fc1ba86974f72930c4a40e2aa5824": {
          "model_module": "@jupyter-widgets/base",
          "model_name": "LayoutModel",
          "state": {
            "_view_name": "LayoutView",
            "grid_template_rows": null,
            "right": null,
            "justify_content": null,
            "_view_module": "@jupyter-widgets/base",
            "overflow": null,
            "_model_module_version": "1.2.0",
            "_view_count": null,
            "flex_flow": null,
            "width": null,
            "min_width": null,
            "border": null,
            "align_items": null,
            "bottom": null,
            "_model_module": "@jupyter-widgets/base",
            "top": null,
            "grid_column": null,
            "overflow_y": null,
            "overflow_x": null,
            "grid_auto_flow": null,
            "grid_area": null,
            "grid_template_columns": null,
            "flex": null,
            "_model_name": "LayoutModel",
            "justify_items": null,
            "grid_row": null,
            "max_height": null,
            "align_content": null,
            "visibility": null,
            "align_self": null,
            "height": null,
            "min_height": null,
            "padding": null,
            "grid_auto_rows": null,
            "grid_gap": null,
            "max_width": null,
            "order": null,
            "_view_module_version": "1.2.0",
            "grid_template_areas": null,
            "object_position": null,
            "object_fit": null,
            "grid_auto_columns": null,
            "margin": null,
            "display": null,
            "left": null
          }
        },
        "65ad3824a8e44a8ea665ffbfe3b55212": {
          "model_module": "@jupyter-widgets/controls",
          "model_name": "DescriptionStyleModel",
          "state": {
            "_view_name": "StyleView",
            "_model_name": "DescriptionStyleModel",
            "description_width": "",
            "_view_module": "@jupyter-widgets/base",
            "_model_module_version": "1.5.0",
            "_view_count": null,
            "_view_module_version": "1.2.0",
            "_model_module": "@jupyter-widgets/controls"
          }
        },
        "19d3734d5ca9494eb1ca2dbeedd6d2d0": {
          "model_module": "@jupyter-widgets/base",
          "model_name": "LayoutModel",
          "state": {
            "_view_name": "LayoutView",
            "grid_template_rows": null,
            "right": null,
            "justify_content": null,
            "_view_module": "@jupyter-widgets/base",
            "overflow": null,
            "_model_module_version": "1.2.0",
            "_view_count": null,
            "flex_flow": null,
            "width": null,
            "min_width": null,
            "border": null,
            "align_items": null,
            "bottom": null,
            "_model_module": "@jupyter-widgets/base",
            "top": null,
            "grid_column": null,
            "overflow_y": null,
            "overflow_x": null,
            "grid_auto_flow": null,
            "grid_area": null,
            "grid_template_columns": null,
            "flex": null,
            "_model_name": "LayoutModel",
            "justify_items": null,
            "grid_row": null,
            "max_height": null,
            "align_content": null,
            "visibility": null,
            "align_self": null,
            "height": null,
            "min_height": null,
            "padding": null,
            "grid_auto_rows": null,
            "grid_gap": null,
            "max_width": null,
            "order": null,
            "_view_module_version": "1.2.0",
            "grid_template_areas": null,
            "object_position": null,
            "object_fit": null,
            "grid_auto_columns": null,
            "margin": null,
            "display": null,
            "left": null
          }
        },
        "5cd60ae929a540508a731e0d6c75672f": {
          "model_module": "@jupyter-widgets/controls",
          "model_name": "HBoxModel",
          "state": {
            "_view_name": "HBoxView",
            "_dom_classes": [],
            "_model_name": "HBoxModel",
            "_view_module": "@jupyter-widgets/controls",
            "_model_module_version": "1.5.0",
            "_view_count": null,
            "_view_module_version": "1.5.0",
            "box_style": "",
            "layout": "IPY_MODEL_a4f92f4751e34672a63320dc8672e8c1",
            "_model_module": "@jupyter-widgets/controls",
            "children": [
              "IPY_MODEL_a29b05b001fa452b9e20f61daf281a02",
              "IPY_MODEL_1c24077eda83415eb4f8bee745dc4cc2"
            ]
          }
        },
        "a4f92f4751e34672a63320dc8672e8c1": {
          "model_module": "@jupyter-widgets/base",
          "model_name": "LayoutModel",
          "state": {
            "_view_name": "LayoutView",
            "grid_template_rows": null,
            "right": null,
            "justify_content": null,
            "_view_module": "@jupyter-widgets/base",
            "overflow": null,
            "_model_module_version": "1.2.0",
            "_view_count": null,
            "flex_flow": null,
            "width": null,
            "min_width": null,
            "border": null,
            "align_items": null,
            "bottom": null,
            "_model_module": "@jupyter-widgets/base",
            "top": null,
            "grid_column": null,
            "overflow_y": null,
            "overflow_x": null,
            "grid_auto_flow": null,
            "grid_area": null,
            "grid_template_columns": null,
            "flex": null,
            "_model_name": "LayoutModel",
            "justify_items": null,
            "grid_row": null,
            "max_height": null,
            "align_content": null,
            "visibility": null,
            "align_self": null,
            "height": null,
            "min_height": null,
            "padding": null,
            "grid_auto_rows": null,
            "grid_gap": null,
            "max_width": null,
            "order": null,
            "_view_module_version": "1.2.0",
            "grid_template_areas": null,
            "object_position": null,
            "object_fit": null,
            "grid_auto_columns": null,
            "margin": null,
            "display": null,
            "left": null
          }
        },
        "a29b05b001fa452b9e20f61daf281a02": {
          "model_module": "@jupyter-widgets/controls",
          "model_name": "FloatProgressModel",
          "state": {
            "_view_name": "ProgressView",
            "style": "IPY_MODEL_cc78ff25334c4d2191c3b939397c7179",
            "_dom_classes": [],
            "description": "100%",
            "_model_name": "FloatProgressModel",
            "bar_style": "success",
            "max": 38,
            "_view_module": "@jupyter-widgets/controls",
            "_model_module_version": "1.5.0",
            "value": 38,
            "_view_count": null,
            "_view_module_version": "1.5.0",
            "orientation": "horizontal",
            "min": 0,
            "description_tooltip": null,
            "_model_module": "@jupyter-widgets/controls",
            "layout": "IPY_MODEL_5c27ff9029e341e987958cf0fa30ca44"
          }
        },
        "1c24077eda83415eb4f8bee745dc4cc2": {
          "model_module": "@jupyter-widgets/controls",
          "model_name": "HTMLModel",
          "state": {
            "_view_name": "HTMLView",
            "style": "IPY_MODEL_55277456381242adb6cc4adfc2da9346",
            "_dom_classes": [],
            "description": "",
            "_model_name": "HTMLModel",
            "placeholder": "​",
            "_view_module": "@jupyter-widgets/controls",
            "_model_module_version": "1.5.0",
            "value": " 38/38 [00:09&lt;00:00,  3.98it/s]",
            "_view_count": null,
            "_view_module_version": "1.5.0",
            "description_tooltip": null,
            "_model_module": "@jupyter-widgets/controls",
            "layout": "IPY_MODEL_4454548f89594b5a8f417f2d420af2b1"
          }
        },
        "cc78ff25334c4d2191c3b939397c7179": {
          "model_module": "@jupyter-widgets/controls",
          "model_name": "ProgressStyleModel",
          "state": {
            "_view_name": "StyleView",
            "_model_name": "ProgressStyleModel",
            "description_width": "initial",
            "_view_module": "@jupyter-widgets/base",
            "_model_module_version": "1.5.0",
            "_view_count": null,
            "_view_module_version": "1.2.0",
            "bar_color": null,
            "_model_module": "@jupyter-widgets/controls"
          }
        },
        "5c27ff9029e341e987958cf0fa30ca44": {
          "model_module": "@jupyter-widgets/base",
          "model_name": "LayoutModel",
          "state": {
            "_view_name": "LayoutView",
            "grid_template_rows": null,
            "right": null,
            "justify_content": null,
            "_view_module": "@jupyter-widgets/base",
            "overflow": null,
            "_model_module_version": "1.2.0",
            "_view_count": null,
            "flex_flow": null,
            "width": null,
            "min_width": null,
            "border": null,
            "align_items": null,
            "bottom": null,
            "_model_module": "@jupyter-widgets/base",
            "top": null,
            "grid_column": null,
            "overflow_y": null,
            "overflow_x": null,
            "grid_auto_flow": null,
            "grid_area": null,
            "grid_template_columns": null,
            "flex": null,
            "_model_name": "LayoutModel",
            "justify_items": null,
            "grid_row": null,
            "max_height": null,
            "align_content": null,
            "visibility": null,
            "align_self": null,
            "height": null,
            "min_height": null,
            "padding": null,
            "grid_auto_rows": null,
            "grid_gap": null,
            "max_width": null,
            "order": null,
            "_view_module_version": "1.2.0",
            "grid_template_areas": null,
            "object_position": null,
            "object_fit": null,
            "grid_auto_columns": null,
            "margin": null,
            "display": null,
            "left": null
          }
        },
        "55277456381242adb6cc4adfc2da9346": {
          "model_module": "@jupyter-widgets/controls",
          "model_name": "DescriptionStyleModel",
          "state": {
            "_view_name": "StyleView",
            "_model_name": "DescriptionStyleModel",
            "description_width": "",
            "_view_module": "@jupyter-widgets/base",
            "_model_module_version": "1.5.0",
            "_view_count": null,
            "_view_module_version": "1.2.0",
            "_model_module": "@jupyter-widgets/controls"
          }
        },
        "4454548f89594b5a8f417f2d420af2b1": {
          "model_module": "@jupyter-widgets/base",
          "model_name": "LayoutModel",
          "state": {
            "_view_name": "LayoutView",
            "grid_template_rows": null,
            "right": null,
            "justify_content": null,
            "_view_module": "@jupyter-widgets/base",
            "overflow": null,
            "_model_module_version": "1.2.0",
            "_view_count": null,
            "flex_flow": null,
            "width": null,
            "min_width": null,
            "border": null,
            "align_items": null,
            "bottom": null,
            "_model_module": "@jupyter-widgets/base",
            "top": null,
            "grid_column": null,
            "overflow_y": null,
            "overflow_x": null,
            "grid_auto_flow": null,
            "grid_area": null,
            "grid_template_columns": null,
            "flex": null,
            "_model_name": "LayoutModel",
            "justify_items": null,
            "grid_row": null,
            "max_height": null,
            "align_content": null,
            "visibility": null,
            "align_self": null,
            "height": null,
            "min_height": null,
            "padding": null,
            "grid_auto_rows": null,
            "grid_gap": null,
            "max_width": null,
            "order": null,
            "_view_module_version": "1.2.0",
            "grid_template_areas": null,
            "object_position": null,
            "object_fit": null,
            "grid_auto_columns": null,
            "margin": null,
            "display": null,
            "left": null
          }
        }
      }
    }
  },
  "cells": [
    {
      "cell_type": "markdown",
      "metadata": {
        "id": "view-in-github",
        "colab_type": "text"
      },
      "source": [
        "<a href=\"https://colab.research.google.com/github/jeonniga/-/blob/master/dqn_recsys_Getting_Started.ipynb\" target=\"_parent\"><img src=\"https://colab.research.google.com/assets/colab-badge.svg\" alt=\"Open In Colab\"/></a>"
      ]
    },
    {
      "cell_type": "markdown",
      "metadata": {
        "id": "-fP2MWpvcMAp"
      },
      "source": [
        "# Pre Setup\n",
        "You ideally should have pytorch pre installed with google colab\n"
      ]
    },
    {
      "cell_type": "code",
      "metadata": {
        "id": "JLzu-ZMPXVh7"
      },
      "source": [
        "from IPython.display import clear_output\n",
        "\n",
        "! git clone https://github.com/awarebayes/RecNN\n",
        "! pip install -r ./RecNN/requirements.txt\n",
        "! pip install ./RecNN\n",
        "! pip install gdown\n",
        "\n",
        "clear_output()"
      ],
      "execution_count": 1,
      "outputs": []
    },
    {
      "cell_type": "code",
      "metadata": {
        "id": "2RxhPDDeXYuV"
      },
      "source": [
        "! wget http://files.grouplens.org/datasets/movielens/ml-20m.zip\n",
        "! gdown https://drive.google.com/uc?id=1EQ_zXBR3DKpmJR3jBgLvt-xoOvArGMsL\n",
        "! unzip ml-20m.zip\n",
        "clear_output()"
      ],
      "execution_count": 2,
      "outputs": []
    },
    {
      "cell_type": "markdown",
      "metadata": {
        "id": "FQ5yY1-0kjyY"
      },
      "source": [
        "## Pandas backends\n",
        "\n",
        "You can get better loading speed performance if you use Modin.\n",
        "It does not come with recnn by default so you have to install it. \n",
        "\n",
        "It will not affect the performance in a google colab notebook, but if your pc has plenty of cores, it will."
      ]
    },
    {
      "cell_type": "code",
      "metadata": {
        "id": "TLgEitQSkjVn"
      },
      "source": [
        "# !pip install modin[ray]\n",
        "# recnn.pd.set(\"modin\")"
      ],
      "execution_count": null,
      "outputs": []
    },
    {
      "cell_type": "markdown",
      "metadata": {
        "id": "3ZA9MbXhn2Iu"
      },
      "source": [
        "## Restart runtime\n",
        "Dont panic if it says \"Your session crashed\". Run and jump over to \"Getting started section\""
      ]
    },
    {
      "cell_type": "code",
      "metadata": {
        "id": "YSEGL7lhlWFF"
      },
      "source": [
        "import os\n",
        "os.kill(os.getpid(), 9)"
      ],
      "execution_count": null,
      "outputs": []
    },
    {
      "cell_type": "markdown",
      "metadata": {
        "id": "_m-oFm2_XTpU"
      },
      "source": [
        "# Getting Started with recnn\n",
        "This is my school project. It focuses on Reinforcement Learning for personalized news recommendation. The main distinction is that it tries to solve online off-policy learning with dynamically generated item embeddings. I want to create a library with SOTA algorithms for reinforcement learning recommendation, providing the level of abstraction you like. In this notebook, you can play around with library's key components.\n",
        "\n",
        "P.S. this tutorial is available offline\n",
        "\n",
        "\n",
        "Also some bugs may occure: tqdm.pandas import error\n",
        "\n",
        "Go to runtime, click restart"
      ]
    },
    {
      "cell_type": "code",
      "metadata": {
        "id": "gKf6hfmxXTpW"
      },
      "source": [
        "from IPython.display import clear_output\n",
        "import recnn\n",
        "\n",
        "import torch\n",
        "import torch.nn as nn\n",
        "from tqdm.auto import tqdm\n",
        "import torch_optimizer as optim"
      ],
      "execution_count": 1,
      "outputs": []
    },
    {
      "cell_type": "markdown",
      "metadata": {
        "id": "Y1lDsRU6XTpa"
      },
      "source": [
        "# Environments\n",
        "\n",
        "Main abstraction of the library for datasets is called environment, similar to how other reinforcement\n",
        "learning libraries name it. This interface is created to provide SARSA like input for your RL Models. When you are working with recommendation env, you have two choices: using static length inputs (say 10 items) or dynamic length time series with sequential encoders (many to one rnn). Static length is provided via FrameEnv, and dynamic length along with sequential state representation encoder is implemented in SeqEnv. Let’s take a look at FrameEnv first:\n",
        "\n",
        "In order to initialize an env, you need to provide embeddings and ratings directories.\n",
        "You can also use caching."
      ]
    },
    {
      "cell_type": "code",
      "metadata": {
        "id": "jtpcUIldXTpb",
        "outputId": "9c480ab9-d9ae-4b7d-8764-2ecf94694b1c",
        "colab": {
          "base_uri": "https://localhost:8080/",
          "height": 166,
          "referenced_widgets": [
            "23e88ceff0394c999aeab0882b8fa980",
            "54146cce4c064c1eb7047433d4bf92df",
            "d74bbbe633c746108b624c58a9eefab3",
            "be7c5292092e44ff86eb88caa49f48d4",
            "6370b8f271364e6fbc9689243202ec54",
            "daead702a64f443bbe42a4072f2d08dd",
            "c96744df1d2546708b7e19863e4f02a7",
            "ccad919fe71b4a7d87dce176532e7541",
            "4201df14764746c1b8f64180d3fc8941",
            "e233867a32f34d6db756fee75e8f4d5a",
            "3d5c66bf06d04236ad659ee17748ae13",
            "cc4dd6428ad044bdbad1876380d3835e",
            "df618a451a9d44cbb844d7f2eae137ae",
            "16904b99baf24b269b54f42762ee9148",
            "a84f1816e8464ec5861c5bac40608737",
            "06f0f90620c842ada986300532bce825",
            "5d672131c55a4b41ad3fbbc182de90c3",
            "792c34944bf143c0aa03207f546edc96",
            "fee95341375648108d471b32a253dbaa",
            "1a81bbfb96404fbe8a4b0f90ad848baa",
            "897821c51d7848678fa904f29b6f2173",
            "db11ca5faffe482e882d313075ec295b",
            "1b058edd60964a9cb4ac5b8095b56ee7",
            "226709a29a8a41b4b0bf862bc23a8188"
          ]
        }
      },
      "source": [
        "frame_size = 10\n",
        "batch_size = 25\n",
        "# embeddgings: https://drive.google.com/open?id=1EQ_zXBR3DKpmJR3jBgLvt-xoOvArGMsL\n",
        "dirs = recnn.data.env.DataPath(\n",
        "    base=\"\",\n",
        "    embeddings=\"ml20_pca128.pkl\",\n",
        "    ratings=\"ml-20m/ratings.csv\",\n",
        "    cache=\"cached_frame_env.pkl\", # cache will generate after you run\n",
        "    use_cache=True\n",
        ")\n",
        "env = recnn.data.env.FrameEnv(dirs, frame_size, batch_size)"
      ],
      "execution_count": 2,
      "outputs": [
        {
          "output_type": "display_data",
          "data": {
            "application/vnd.jupyter.widget-view+json": {
              "model_id": "23e88ceff0394c999aeab0882b8fa980",
              "version_minor": 0,
              "version_major": 2
            },
            "text/plain": [
              "HBox(children=(FloatProgress(value=0.0, max=20000263.0), HTML(value='')))"
            ]
          },
          "metadata": {
            "tags": []
          }
        },
        {
          "output_type": "stream",
          "text": [
            "\n"
          ],
          "name": "stdout"
        },
        {
          "output_type": "display_data",
          "data": {
            "application/vnd.jupyter.widget-view+json": {
              "model_id": "4201df14764746c1b8f64180d3fc8941",
              "version_minor": 0,
              "version_major": 2
            },
            "text/plain": [
              "HBox(children=(FloatProgress(value=0.0, max=20000263.0), HTML(value='')))"
            ]
          },
          "metadata": {
            "tags": []
          }
        },
        {
          "output_type": "stream",
          "text": [
            "\n"
          ],
          "name": "stdout"
        },
        {
          "output_type": "display_data",
          "data": {
            "application/vnd.jupyter.widget-view+json": {
              "model_id": "5d672131c55a4b41ad3fbbc182de90c3",
              "version_minor": 0,
              "version_major": 2
            },
            "text/plain": [
              "HBox(children=(FloatProgress(value=0.0, max=138493.0), HTML(value='')))"
            ]
          },
          "metadata": {
            "tags": []
          }
        },
        {
          "output_type": "stream",
          "text": [
            "\n"
          ],
          "name": "stdout"
        }
      ]
    },
    {
      "cell_type": "markdown",
      "metadata": {
        "id": "aafirYfDXTpg"
      },
      "source": [
        "You can get train and test batches directly from the environmnent"
      ]
    },
    {
      "cell_type": "code",
      "metadata": {
        "id": "JMBU6ix8XTph"
      },
      "source": [
        "train = env.train_batch()\n",
        "test = env.train_batch()\n",
        "state, action, reward, next_state, done = recnn.data.get_base_batch(train, device=torch.device('cpu'))"
      ],
      "execution_count": 4,
      "outputs": []
    },
    {
      "cell_type": "code",
      "metadata": {
        "id": "1eQlppreXTpj",
        "colab": {
          "base_uri": "https://localhost:8080/"
        },
        "outputId": "5f911d93-937f-478e-c708-48bbdf29da95"
      },
      "source": [
        "print(state)"
      ],
      "execution_count": 5,
      "outputs": [
        {
          "output_type": "stream",
          "text": [
            "tensor([[  6.0919,  -1.2394,   1.1477,  ...,   5.0000,   5.0000,   5.0000],\n",
            "        [  5.8175,  -1.2590,  -9.0728,  ...,   5.0000,   5.0000,   5.0000],\n",
            "        [  3.1487,   3.3241, -12.5570,  ...,   5.0000,   5.0000,   5.0000],\n",
            "        ...,\n",
            "        [  5.0938,  -1.5238,  -5.7540,  ...,  -2.0000,   4.0000,   1.0000],\n",
            "        [  6.3019,  -6.2144,  -1.8957,  ...,   4.0000,   1.0000,   2.0000],\n",
            "        [  3.6832,  -1.0374,  -7.8407,  ...,   1.0000,   2.0000,   2.0000]])\n"
          ],
          "name": "stdout"
        }
      ]
    },
    {
      "cell_type": "markdown",
      "metadata": {
        "id": "0UvlWSc1XTpn"
      },
      "source": [
        "You can also look at the metadata:\n",
        "    user ids and their positions"
      ]
    },
    {
      "cell_type": "code",
      "metadata": {
        "id": "VjgWGWVtXTpn",
        "colab": {
          "base_uri": "https://localhost:8080/"
        },
        "outputId": "422c57ff-ae10-4edd-857f-9bcdee79e2f1"
      },
      "source": [
        "train['meta']"
      ],
      "execution_count": 6,
      "outputs": [
        {
          "output_type": "execute_result",
          "data": {
            "text/plain": [
              "{'sizes': tensor([ 236,  199,  214,  532,   70, 1474,   69,   37,   39,   30,   80,   70,\n",
              "           29,   44,   21,   74,   22,  130,   23,   29,   20,  203,  255,  237,\n",
              "          282]),\n",
              " 'users': tensor([ 45451,  33570,  80914,  76741,  53800,  49229, 125875,  99666,  27891,\n",
              "          21545,  77765,  91899,   7776, 111255,  41133,  39113,    197, 133708,\n",
              "          26048, 118842, 103729, 120089,  36593,  67495, 106622])}"
            ]
          },
          "metadata": {
            "tags": []
          },
          "execution_count": 6
        }
      ]
    },
    {
      "cell_type": "markdown",
      "metadata": {
        "id": "IqRb0aeeXTpq"
      },
      "source": [
        "## Working with metadata\n",
        "you can display user_id: their item/rating positions in the batch"
      ]
    },
    {
      "cell_type": "code",
      "metadata": {
        "id": "MAy7DAc2XTpq",
        "colab": {
          "base_uri": "https://localhost:8080/"
        },
        "outputId": "db4c33f1-6ba2-4f7e-998a-c109440fd7cf"
      },
      "source": [
        "import numpy as np\n",
        "user_ends = np.cumsum(train['meta']['sizes']).numpy().tolist() + [0]\n",
        "user_starts = [0] + user_ends\n",
        "starts_ends = list(zip(user_starts, user_ends))[:-1]\n",
        "user_range = dict(zip(train['meta']['users'].numpy(), starts_ends))\n",
        "user_range"
      ],
      "execution_count": 7,
      "outputs": [
        {
          "output_type": "execute_result",
          "data": {
            "text/plain": [
              "{197: (3218, 3240),\n",
              " 7776: (3050, 3079),\n",
              " 21545: (2870, 2900),\n",
              " 26048: (3370, 3393),\n",
              " 27891: (2831, 2870),\n",
              " 33570: (236, 435),\n",
              " 36593: (3645, 3900),\n",
              " 39113: (3144, 3218),\n",
              " 41133: (3123, 3144),\n",
              " 45451: (0, 236),\n",
              " 49229: (1251, 2725),\n",
              " 53800: (1181, 1251),\n",
              " 67495: (3900, 4137),\n",
              " 76741: (649, 1181),\n",
              " 77765: (2900, 2980),\n",
              " 80914: (435, 649),\n",
              " 91899: (2980, 3050),\n",
              " 99666: (2794, 2831),\n",
              " 103729: (3422, 3442),\n",
              " 106622: (4137, 4419),\n",
              " 111255: (3079, 3123),\n",
              " 118842: (3393, 3422),\n",
              " 120089: (3442, 3645),\n",
              " 125875: (2725, 2794),\n",
              " 133708: (3240, 3370)}"
            ]
          },
          "metadata": {
            "tags": []
          },
          "execution_count": 7
        }
      ]
    },
    {
      "cell_type": "markdown",
      "metadata": {
        "id": "45ctbrwoXTpt"
      },
      "source": [
        "# Recommending"
      ]
    },
    {
      "cell_type": "markdown",
      "metadata": {
        "id": "zIBQiqKTXTpv"
      },
      "source": [
        "Let's initialize main networks, and recommend something!"
      ]
    },
    {
      "cell_type": "code",
      "metadata": {
        "id": "Ym0yOEbBXTpw"
      },
      "source": [
        "value_net  = recnn.nn.Critic(1290, 128, 256, 54e-2)\n",
        "policy_net = recnn.nn.Actor(1290, 128, 256, 6e-1)"
      ],
      "execution_count": 8,
      "outputs": []
    },
    {
      "cell_type": "code",
      "metadata": {
        "id": "0yXfHvvxXTpz",
        "colab": {
          "base_uri": "https://localhost:8080/"
        },
        "outputId": "1b807965-4d19-4b6f-e99f-a8825b0629bb"
      },
      "source": [
        "recommendation = policy_net(state)\n",
        "value = value_net(state, recommendation)\n",
        "print(recommendation)\n",
        "print(value)"
      ],
      "execution_count": 9,
      "outputs": [
        {
          "output_type": "stream",
          "text": [
            "tensor([[ -0.0429,   4.0228,   4.6988,  ...,   4.4322,  -0.6010,  -5.3859],\n",
            "        [ -2.9168,   3.1831,  -9.1667,  ...,   3.1363,   6.8549,  -7.3664],\n",
            "        [ -2.9340,  -4.4668,  -1.2368,  ...,   0.2389,  -9.8812,  -6.1002],\n",
            "        ...,\n",
            "        [ -1.6067,  -1.5906,  -3.9627,  ...,  -0.1376,  -3.7005, -10.7235],\n",
            "        [ -5.1449,   1.4699,   0.9481,  ...,  -0.5809,  -2.2753,  -0.8915],\n",
            "        [ -1.5316,   2.4869,  -0.8978,  ...,   0.5183,   6.2981,  -3.2225]],\n",
            "       grad_fn=<AddmmBackward>)\n",
            "tensor([[-1.4894],\n",
            "        [-2.7197],\n",
            "        [-4.3218],\n",
            "        ...,\n",
            "        [ 2.6723],\n",
            "        [ 0.2003],\n",
            "        [ 0.7195]], grad_fn=<AddmmBackward>)\n"
          ],
          "name": "stdout"
        }
      ]
    },
    {
      "cell_type": "markdown",
      "metadata": {
        "id": "Ei9hlgwVXTp3"
      },
      "source": [
        "# Algo classes\n",
        "\n",
        "Algo is a high level abstraction for an RL algorithm. You need two networks (policy and value) in order to initialize it. Later on you can tweak parameters and stuff in the algo itself\n",
        ".\n",
        "#### Important: you can set writer to torch.SummaryWriter and get the debug output\n",
        "\n",
        "\n",
        "## Tweak how you want\n",
        "```\n",
        "ddpg = recnn.nn.DDPG(policy_net, value_net)\n",
        "print(ddpg.params)\n",
        "ddpg.params['gamma'] = 0.9\n",
        "ddpg.params['policy_step'] = 3\n",
        "ddpg.optimizers['policy_optimizer'] = torch.optim.Adam(ddpg.nets['policy_net'], your_lr)\n",
        "ddpg.writer = torch.utils.tensorboard.SummaryWriter('./runs')\n",
        "ddpg = ddpg.to(torch.device('cuda'))\n",
        "```\n",
        "\n",
        "ddpg.loss_layout is also handy, it allows you to see how the loss should look like"
      ]
    },
    {
      "cell_type": "code",
      "metadata": {
        "id": "6zD_EYCWXTp4"
      },
      "source": [
        "# test function\n",
        "def run_tests():\n",
        "    batch = next(iter(env.test_dataloader))\n",
        "    loss = ddpg.update(batch, learn=False)\n",
        "    return loss"
      ],
      "execution_count": 10,
      "outputs": []
    },
    {
      "cell_type": "code",
      "metadata": {
        "id": "Uwh2z5zSXTp7"
      },
      "source": [
        "value_net  = recnn.nn.Critic(1290, 128, 256, 54e-2)\n",
        "policy_net = recnn.nn.Actor(1290, 128, 256, 6e-1)"
      ],
      "execution_count": 11,
      "outputs": []
    },
    {
      "cell_type": "code",
      "metadata": {
        "id": "Of6jbPfWXTp-"
      },
      "source": [
        "cuda = torch.device('cuda')\n",
        "ddpg = recnn.nn.DDPG(policy_net, value_net)\n",
        "ddpg = ddpg.to(cuda)\n",
        "plotter = recnn.utils.Plotter(ddpg.loss_layout, [['value', 'policy']],)"
      ],
      "execution_count": 12,
      "outputs": []
    },
    {
      "cell_type": "code",
      "metadata": {
        "id": "aW0TTlwrXTqB",
        "colab": {
          "base_uri": "https://localhost:8080/",
          "height": 306,
          "referenced_widgets": [
            "ebc0aedec1234f64b08fec5eebd55640",
            "e439f00548154b238ac017b3fb4383a4",
            "c0e4c5235a6a4f0ba9b4aca9505fcebf",
            "3e5d99f3a5c845469281cc12b590f11c",
            "2ed25f0c743c4d62861cb4ccaacb2c8d",
            "ae85e9d3a65a4bbdb78c24cfec85f986",
            "13b6032fab1f4253944c2667d127b996",
            "642babd951c94ca39c8d710554b21da6"
          ]
        },
        "outputId": "e6d75933-00b5-4e4f-f4ea-0e10b4ccdd75"
      },
      "source": [
        "from IPython.display import clear_output\n",
        "import matplotlib.pyplot as plt\n",
        "%matplotlib inline\n",
        "\n",
        "plot_every = 50\n",
        "n_epochs = 2\n",
        "\n",
        "def learn():\n",
        "    for epoch in range(n_epochs):\n",
        "        for batch in tqdm(env.train_dataloader):\n",
        "            loss = ddpg.update(batch, learn=True)\n",
        "            plotter.log_losses(loss)\n",
        "            ddpg.step()\n",
        "            if ddpg._step % plot_every == 0:\n",
        "                clear_output(True)\n",
        "                print('step', ddpg._step)\n",
        "                test_loss = run_tests()\n",
        "                plotter.log_losses(test_loss, test=True)\n",
        "                plotter.plot_loss()\n",
        "            if ddpg._step > 1000:\n",
        "                return\n",
        "            \n",
        "learn()"
      ],
      "execution_count": 13,
      "outputs": [
        {
          "output_type": "stream",
          "text": [
            "step 1000\n"
          ],
          "name": "stdout"
        },
        {
          "output_type": "display_data",
          "data": {
            "image/png": "[encoded data removed]",
            "text/plain": [
              "<Figure size 1152x432 with 2 Axes>"
            ]
          },
          "metadata": {
            "tags": [],
            "needs_background": "light"
          }
        }
      ]
    },
    {
      "cell_type": "markdown",
      "metadata": {
        "id": "YlEWXTnsdDsI"
      },
      "source": [
        "if ImportError: cannot import name '_png':\n",
        "\n",
        "Headbar -> Runtime -> Restart Runtime\n",
        "\n",
        "Or: Contol+M\n"
      ]
    },
    {
      "cell_type": "markdown",
      "metadata": {
        "id": "J0E2gbTjXTqF"
      },
      "source": [
        "# Update Functions\n",
        "## Here is what's going on inside algo class"
      ]
    },
    {
      "cell_type": "code",
      "metadata": {
        "id": "6O9hkgUaXTqG"
      },
      "source": [
        "value_net  = recnn.nn.Critic(1290, 128, 256, 54e-2)\n",
        "policy_net = recnn.nn.Actor(1290, 128, 256, 6e-1)\n",
        "# these are target networks that we need for ddpg algorigm to work\n",
        "target_value_net = recnn.nn.Critic(1290, 128, 256)\n",
        "target_policy_net = recnn.nn.Actor(1290, 128, 256)\n",
        "\n",
        "target_policy_net.eval()\n",
        "target_value_net.eval()\n",
        "\n",
        "\n",
        "# soft update\n",
        "recnn.utils.soft_update(value_net, target_value_net, soft_tau=1.0)\n",
        "recnn.utils.soft_update(policy_net, target_policy_net, soft_tau=1.0)\n",
        "\n",
        "# define optimizers\n",
        "value_optimizer = optim.RAdam(value_net.parameters(),\n",
        "                              lr=1e-5, weight_decay=1e-2)\n",
        "policy_optimizer = optim.RAdam(policy_net.parameters(), lr=1e-5 , weight_decay=1e-2)\n",
        "\n",
        "nets = {\n",
        "    'value_net': value_net.to(cuda),\n",
        "    'target_value_net': target_value_net.to(cuda),\n",
        "    'policy_net': policy_net.to(cuda),\n",
        "    'target_policy_net': target_policy_net.to(cuda),\n",
        "}\n",
        "\n",
        "optimizer = {\n",
        "    'policy_optimizer': policy_optimizer,\n",
        "    'value_optimizer':  value_optimizer\n",
        "}\n",
        "\n",
        "debug = {}\n",
        "writer = recnn.utils.misc.DummyWriter()\n"
      ],
      "execution_count": 14,
      "outputs": []
    },
    {
      "cell_type": "code",
      "metadata": {
        "id": "C_uJw8cQXTqI",
        "colab": {
          "base_uri": "https://localhost:8080/"
        },
        "outputId": "7e908476-8202-4dc7-9fdd-f781939d5082"
      },
      "source": [
        "step = 0\n",
        "params = {\n",
        "    'gamma'      : 0.99,\n",
        "    'min_value'  : -10,\n",
        "    'max_value'  : 10,\n",
        "    'policy_step': 10,\n",
        "    'soft_tau'   : 0.001,\n",
        "}\n",
        "batch = {'state': state, 'action': action, 'reward': reward, 'next_state': next_state, 'done':done}\n",
        "loss = recnn.nn.update.ddpg_update(batch, params, nets, optimizer, cuda, debug, writer, step=step)\n",
        "print(loss)"
      ],
      "execution_count": 15,
      "outputs": [
        {
          "output_type": "stream",
          "text": [
            "{'value': 13.708120346069336, 'policy': -1.1476987600326538, 'step': 0}\n"
          ],
          "name": "stdout"
        }
      ]
    },
    {
      "cell_type": "markdown",
      "metadata": {
        "id": "6WL3CmNdXTqL"
      },
      "source": [
        "## Training Loop\n",
        "Let's wrap this thing in the training loop. I also will use Colab's gpu for training.\n",
        "\n",
        "In an error pops up, go to runtime -> change runtime type -> select GPU. And also restart the session."
      ]
    },
    {
      "cell_type": "code",
      "metadata": {
        "id": "JS2MWwCwXTqM"
      },
      "source": [
        "cuda = torch.device('cuda')\n",
        "loss = {\n",
        "    'test': {'value': [], 'policy': [], 'step': []},\n",
        "    'train': {'value': [], 'policy': [], 'step': []}\n",
        "    }\n",
        "\n",
        "plotter = recnn.utils.Plotter(loss, [['value', 'policy']],)"
      ],
      "execution_count": 16,
      "outputs": []
    },
    {
      "cell_type": "code",
      "metadata": {
        "id": "U1qNjAfXXTqQ"
      },
      "source": [
        "# test function\n",
        "def run_tests():\n",
        "    batch = next(iter(env.test_dataloader))\n",
        "    loss = recnn.nn.ddpg_update(batch, params, nets, optimizer,\n",
        "                       cuda, debug, writer, step=step, learn=False)\n",
        "    return loss"
      ],
      "execution_count": 17,
      "outputs": []
    },
    {
      "cell_type": "code",
      "metadata": {
        "id": "N4F_vYzgXTqT",
        "colab": {
          "base_uri": "https://localhost:8080/",
          "height": 303,
          "referenced_widgets": [
            "1e1f5004b9e645b2b4a461e46c57a5b0",
            "f48624751ba744bf81c6c192158e8870",
            "9627518a53a5413289733c5490257830",
            "6c7ae3455db8481cbb74bfd11ad5cf91",
            "0b340d160fce4f90b56c97d69c11f483",
            "56acbf1a5e364e6c9ee4756d2cf99586",
            "4aabb7b60442413a86f407645c0ef9df",
            "1a4231ab3d764a8c8ac5f1cfb20401a4"
          ]
        },
        "outputId": "723d3a9a-7712-4f8b-ca40-e7f50890afe8"
      },
      "source": [
        "from IPython.display import clear_output\n",
        "import matplotlib.pyplot as plt\n",
        "%matplotlib inline\n",
        "\n",
        "plot_every = 50\n",
        "n_epochs = 2\n",
        "\n",
        "def learn():\n",
        "    step = 0\n",
        "    for epoch in range(n_epochs):\n",
        "        for batch in tqdm(env.train_dataloader):\n",
        "            loss = recnn.nn.ddpg_update(batch, params,\n",
        "                                               nets, optimizer, cuda, debug,\n",
        "                                               writer, step=step)\n",
        "            plotter.log_losses(loss)\n",
        "            step += 1\n",
        "            if step % plot_every == 0:\n",
        "                clear_output(True)\n",
        "                print('step', step)\n",
        "                test_loss = run_tests()\n",
        "                plotter.log_losses(test_loss, test=True)\n",
        "                plotter.plot_loss()\n",
        "            if step > 1000:\n",
        "                return\n",
        "            \n",
        "        \n",
        "learn()"
      ],
      "execution_count": 18,
      "outputs": [
        {
          "output_type": "stream",
          "text": [
            "step 1000\n"
          ],
          "name": "stdout"
        },
        {
          "output_type": "display_data",
          "data": {
            "image/png": "[encoded data removed]",
            "text/plain": [
              "<Figure size 1152x432 with 2 Axes>"
            ]
          },
          "metadata": {
            "tags": [],
            "needs_background": "light"
          }
        }
      ]
    },
    {
      "cell_type": "code",
      "metadata": {
        "id": "k_ebfkkLXTqa"
      },
      "source": [
        "def plot_grad_flow(named_parameters):\n",
        "    ave_grads = []\n",
        "    layers = []\n",
        "    for n, p in named_parameters:\n",
        "        if(p.requires_grad) and (\"bias\" not in n):\n",
        "            print('plotting', n)\n",
        "            layers.append(n)\n",
        "            ave_grads.append(p.grad.abs().mean())\n",
        "    plt.plot(ave_grads, alpha=0.3, color=\"b\")\n",
        "    plt.hlines(0, 0, len(ave_grads)+1, linewidth=1, color=\"k\" )\n",
        "    plt.xticks(range(0,len(ave_grads), 1), layers, rotation=\"vertical\")\n",
        "    plt.xlim(xmin=0, xmax=len(ave_grads))\n",
        "    plt.xlabel(\"Layers\")\n",
        "    plt.ylabel(\"average gradient\")\n",
        "    plt.title(\"Gradient flow\")\n",
        "    plt.grid(True)"
      ],
      "execution_count": 19,
      "outputs": []
    },
    {
      "cell_type": "code",
      "metadata": {
        "id": "YTHj8oN2XTqh",
        "colab": {
          "base_uri": "https://localhost:8080/",
          "height": 410
        },
        "outputId": "e26d3c08-4329-401f-f0b5-7f83596a80ec"
      },
      "source": [
        "plot_grad_flow(ddpg.nets['policy_net'].named_parameters())"
      ],
      "execution_count": 20,
      "outputs": [
        {
          "output_type": "stream",
          "text": [
            "plotting linear1.weight\n",
            "plotting linear2.weight\n",
            "plotting linear3.weight\n"
          ],
          "name": "stdout"
        },
        {
          "output_type": "display_data",
          "data": {
            "image/png": "[encoded data removed]",
            "text/plain": [
              "<Figure size 432x288 with 1 Axes>"
            ]
          },
          "metadata": {
            "tags": [],
            "needs_background": "light"
          }
        }
      ]
    },
    {
      "cell_type": "markdown",
      "metadata": {
        "id": "4H_0JBCbeStU"
      },
      "source": [
        "# Bonus: working with your own data\n",
        "RecNN's main goal is to provide a wrapper for Markov Descision Process.\n",
        "\n",
        "It literally does one thing: iterates over table with columns [item, user, rating, timestamp]\n",
        "\n",
        "Anyways, here is how my preparedataset function looks like:"
      ]
    },
    {
      "cell_type": "code",
      "metadata": {
        "id": "v6cMKTZZXTq1"
      },
      "source": [
        "def prepare_dataset(args_mut, kwargs):\n",
        "\n",
        "    \"\"\"\n",
        "        Basic prepare dataset function. Automatically makes index linear, in ml20 movie indices look like:\n",
        "        [1, 34, 123, 2000], recnn makes it look like [0,1,2,3] for you.\n",
        "    \"\"\"\n",
        "\n",
        "    # get args\n",
        "    frame_size = kwargs.get('frame_size')\n",
        "    key_to_id = args_mut.base.key_to_id\n",
        "    df = args_mut.df\n",
        "\n",
        "    # rating range mapped from [0, 5] to [-5, 5]\n",
        "    df['rating'] = try_progress_apply(df['rating'], lambda i: 2 * (i - 2.5))\n",
        "    # id's tend to be inconsistent and sparse so they are remapped here\n",
        "    df['movieId'] = try_progress_apply(df['movieId'], lambda i: key_to_id.get(i))\n",
        "    users = df[['userId', 'movieId']].groupby(['userId']).size()\n",
        "    users = users[users > frame_size].sort_values(ascending=False).index\n",
        "\n",
        "    if pd.get_type() == \"modin\":\n",
        "        df = df._to_pandas() # pandas groupby is sync and doesnt affect performance\n",
        "    ratings = df.sort_values(by='timestamp').set_index('userId').drop('timestamp', axis=1).groupby('userId')\n",
        "\n",
        "    # groupby user\n",
        "    user_dict = {}\n",
        "\n",
        "    def app(x):\n",
        "        userid = (x.index[0])\n",
        "        user_dict[userid] = {}\n",
        "        user_dict[userid]['items'] = x['movieId'].values\n",
        "        user_dict[userid]['ratings'] = x['rating'].values\n",
        "\n",
        "    # collect\n",
        "    try_progress_apply(ratings, app)\n",
        "\n",
        "    # set args\n",
        "    args_mut.user_dict = user_dict\n",
        "    args_mut.users = users\n",
        "\n",
        "    return args_mut, kwargs"
      ],
      "execution_count": 21,
      "outputs": []
    },
    {
      "cell_type": "markdown",
      "metadata": {
        "id": "D49wWJMw0ocf"
      },
      "source": [
        " Look up the docs: reference/data/dataset_functions for further details."
      ]
    },
    {
      "cell_type": "code",
      "metadata": {
        "id": "sQO3CAmEXTq3",
        "colab": {
          "base_uri": "https://localhost:8080/",
          "height": 203
        },
        "outputId": "f27753fe-90a3-4cc1-b015-0f0251135d81"
      },
      "source": [
        "import pandas as pd\n",
        "import numpy as np\n",
        "import datetime\n",
        "import random\n",
        "import time\n",
        "\n",
        "def random_string_date():\n",
        "  return datetime.datetime.strptime('{} {} {} {}'.format(random.randint(1, 366),\n",
        "                                                         random.randint(0, 23),\n",
        "                                                         random.randint(1, 59),\n",
        "                                                          2019), '%j %H %M %Y').strftime(\"%m/%d/%Y, %H:%M:%S\")\n",
        "\n",
        "def string_time_to_unix(s):\n",
        "  return int(time.mktime(datetime.datetime.strptime(s, \"%m/%d/%Y, %H:%M:%S\").timetuple()))\n",
        "\n",
        "size = 100000\n",
        "n_emb = 1000\n",
        "n_usr = 1000\n",
        "mydf = pd.DataFrame({'book_id': np.random.randint(0, n_emb, size=size),\n",
        "                     'reader_id': np.random.randint(1, n_usr, size=size),\n",
        "                     'liked': np.random.randint(0, 2, size=size),\n",
        "                     'when': [random_string_date() for i in range(size)]})\n",
        "my_embeddings = dict([(i, torch.tensor(np.random.randn(128)).float()) for i in range(n_emb)])\n",
        "mydf.head()"
      ],
      "execution_count": 22,
      "outputs": [
        {
          "output_type": "execute_result",
          "data": {
            "text/html": [
              "<div>\n",
              "<style scoped>\n",
              "    .dataframe tbody tr th:only-of-type {\n",
              "        vertical-align: middle;\n",
              "    }\n",
              "\n",
              "    .dataframe tbody tr th {\n",
              "        vertical-align: top;\n",
              "    }\n",
              "\n",
              "    .dataframe thead th {\n",
              "        text-align: right;\n",
              "    }\n",
              "</style>\n",
              "<table border=\"1\" class=\"dataframe\">\n",
              "  <thead>\n",
              "    <tr style=\"text-align: right;\">\n",
              "      <th></th>\n",
              "      <th>book_id</th>\n",
              "      <th>reader_id</th>\n",
              "      <th>liked</th>\n",
              "      <th>when</th>\n",
              "    </tr>\n",
              "  </thead>\n",
              "  <tbody>\n",
              "    <tr>\n",
              "      <th>0</th>\n",
              "      <td>820</td>\n",
              "      <td>512</td>\n",
              "      <td>1</td>\n",
              "      <td>03/02/2019, 21:02:00</td>\n",
              "    </tr>\n",
              "    <tr>\n",
              "      <th>1</th>\n",
              "      <td>62</td>\n",
              "      <td>835</td>\n",
              "      <td>0</td>\n",
              "      <td>11/24/2019, 13:48:00</td>\n",
              "    </tr>\n",
              "    <tr>\n",
              "      <th>2</th>\n",
              "      <td>485</td>\n",
              "      <td>653</td>\n",
              "      <td>1</td>\n",
              "      <td>01/01/2020, 04:40:00</td>\n",
              "    </tr>\n",
              "    <tr>\n",
              "      <th>3</th>\n",
              "      <td>566</td>\n",
              "      <td>938</td>\n",
              "      <td>1</td>\n",
              "      <td>07/20/2019, 05:39:00</td>\n",
              "    </tr>\n",
              "    <tr>\n",
              "      <th>4</th>\n",
              "      <td>51</td>\n",
              "      <td>743</td>\n",
              "      <td>0</td>\n",
              "      <td>12/25/2019, 20:43:00</td>\n",
              "    </tr>\n",
              "  </tbody>\n",
              "</table>\n",
              "</div>"
            ],
            "text/plain": [
              "   book_id  reader_id  liked                  when\n",
              "0      820        512      1  03/02/2019, 21:02:00\n",
              "1       62        835      0  11/24/2019, 13:48:00\n",
              "2      485        653      1  01/01/2020, 04:40:00\n",
              "3      566        938      1  07/20/2019, 05:39:00\n",
              "4       51        743      0  12/25/2019, 20:43:00"
            ]
          },
          "metadata": {
            "tags": []
          },
          "execution_count": 22
        }
      ]
    },
    {
      "cell_type": "code",
      "metadata": {
        "id": "NdOFZBGok2q_"
      },
      "source": [
        "! mkdir mydataset\n",
        "import pickle\n",
        "\n",
        "mydf.to_csv('mydataset/mydf.csv', index=False)\n",
        "with open('mydataset/myembeddings.pickle', 'wb') as handle:\n",
        "    pickle.dump(my_embeddings, handle)"
      ],
      "execution_count": 23,
      "outputs": []
    },
    {
      "cell_type": "code",
      "metadata": {
        "id": "Z6j-4zKBf7bq"
      },
      "source": [
        "   def prepare_my_dataset(args_mut, kwargs):\n",
        "\n",
        "        # get args\n",
        "        frame_size = kwargs.get('frame_size')\n",
        "        key_to_id = args_mut.base.key_to_id\n",
        "        df = args_mut.df\n",
        "\n",
        "        df['liked'] = df['liked'].apply(lambda a: (a - 1) * (1 - a) + a)\n",
        "        df['when'] = df['when'].apply(string_time_to_unix)\n",
        "        df['book_id'] = df['book_id'].apply(key_to_id.get)\n",
        "\n",
        "        users = df[['reader_id', 'book_id']].groupby(['reader_id']).size()\n",
        "        users = users[users > frame_size].sort_values(ascending=False).index\n",
        "\n",
        "        # If using modin: pandas groupby is sync and doesnt affect performance\n",
        "        # if pd.get_type() == \"modin\": df = df._to_pandas()  \n",
        "        ratings = df.sort_values(by='when').set_index('reader_id').drop('when', axis=1).groupby('reader_id')\n",
        "\n",
        "        # Groupby user\n",
        "        user_dict = {}\n",
        "\n",
        "        def app(x):\n",
        "            userid = x.index[0]\n",
        "            user_dict[int(userid)] = {}\n",
        "            user_dict[int(userid)]['items'] = x['book_id'].values\n",
        "            user_dict[int(userid)]['ratings'] = x['liked'].values\n",
        "\n",
        "        ratings.apply(app)\n",
        "\n",
        "        args_mut.user_dict = user_dict\n",
        "        args_mut.users = users\n",
        "\n",
        "        return args_mut, kwargs"
      ],
      "execution_count": 24,
      "outputs": []
    },
    {
      "cell_type": "code",
      "metadata": {
        "id": "Nzr5vRFUf_EV"
      },
      "source": [
        "frame_size = 10\n",
        "batch_size = 25\n",
        "\n",
        "\n",
        "dirs = recnn.data.env.DataPath(\n",
        "    base=\"mydataset/\",\n",
        "    embeddings=\"myembeddings.pickle\",\n",
        "    ratings=\"mydf.csv\",\n",
        "    cache=\"frame_env.pkl\", # cache will generate after you run\n",
        "    use_cache=True # generally you want to save env after it runs\n",
        ")\n",
        "\n",
        "env = recnn.data.env.FrameEnv(\n",
        "    dirs,\n",
        "    frame_size,\n",
        "    batch_size, \n",
        "    prepare_dataset=prepare_my_dataset # <- ! pass YOUR function here\n",
        ") "
      ],
      "execution_count": 25,
      "outputs": []
    },
    {
      "cell_type": "markdown",
      "metadata": {
        "id": "0Vqkc3m1qJwj"
      },
      "source": [
        "# That's it!\n",
        "\n",
        "Now let's use the library"
      ]
    },
    {
      "cell_type": "code",
      "metadata": {
        "id": "82wWJ-2sjd5j",
        "colab": {
          "base_uri": "https://localhost:8080/",
          "height": 321,
          "referenced_widgets": [
            "378543ea2df74ec8878ad172b226d3c1",
            "347799a89f1040828aedebfd56e36e2c",
            "bb1cd48005ab4cf8baa53e24a6f4013c",
            "23fdbda10c05450594e54b8d07354664",
            "a78332665eb5445ea059de408af0c004",
            "b02fc1ba86974f72930c4a40e2aa5824",
            "65ad3824a8e44a8ea665ffbfe3b55212",
            "19d3734d5ca9494eb1ca2dbeedd6d2d0",
            "5cd60ae929a540508a731e0d6c75672f",
            "a4f92f4751e34672a63320dc8672e8c1",
            "a29b05b001fa452b9e20f61daf281a02",
            "1c24077eda83415eb4f8bee745dc4cc2",
            "cc78ff25334c4d2191c3b939397c7179",
            "5c27ff9029e341e987958cf0fa30ca44",
            "55277456381242adb6cc4adfc2da9346",
            "4454548f89594b5a8f417f2d420af2b1"
          ]
        },
        "outputId": "325426f5-3209-4667-93ba-c26438b49f9c"
      },
      "source": [
        "# test function\n",
        "def run_tests():\n",
        "    batch = next(iter(env.test_dataloader))\n",
        "    loss = ddpg.update(batch, learn=False)\n",
        "    return loss\n",
        "  \n",
        "value_net  = recnn.nn.Critic(1290, 128, 256, 54e-2)\n",
        "policy_net = recnn.nn.Actor(1290, 128, 256, 6e-1)\n",
        "\n",
        "cuda = torch.device('cuda')\n",
        "ddpg = recnn.nn.DDPG(policy_net, value_net)\n",
        "ddpg = ddpg.to(cuda)\n",
        "plotter = recnn.utils.Plotter(ddpg.loss_layout, [['value', 'policy']],)\n",
        "\n",
        "from IPython.display import clear_output\n",
        "import matplotlib.pyplot as plt\n",
        "%matplotlib inline\n",
        "\n",
        "plot_every = 3\n",
        "n_epochs = 2\n",
        "\n",
        "def learn():\n",
        "    for epoch in range(n_epochs):\n",
        "        for batch in tqdm(env.train_dataloader):\n",
        "            loss = ddpg.update(batch, learn=True)\n",
        "            plotter.log_losses(loss)\n",
        "            ddpg.step()\n",
        "            if ddpg._step % plot_every == 0:\n",
        "                clear_output(True)\n",
        "                print('step', ddpg._step)\n",
        "                test_loss = run_tests()\n",
        "                plotter.log_losses(test_loss, test=True)\n",
        "                plotter.plot_loss()\n",
        "            if ddpg._step > 100:\n",
        "                return\n",
        "            \n",
        "learn()"
      ],
      "execution_count": 26,
      "outputs": [
        {
          "output_type": "stream",
          "text": [
            "step 75\n"
          ],
          "name": "stdout"
        },
        {
          "output_type": "display_data",
          "data": {
            "image/png": "[encoded data removed]",
            "text/plain": [
              "<Figure size 1152x432 with 2 Axes>"
            ]
          },
          "metadata": {
            "tags": [],
            "needs_background": "light"
          }
        },
        {
          "output_type": "stream",
          "text": [
            "\n"
          ],
          "name": "stdout"
        }
      ]
    },
    {
      "cell_type": "markdown",
      "metadata": {
        "id": "exrxI8d4rAYA"
      },
      "source": [
        "# Congratulations you've made it\n",
        "Now you know how to use the library with your own data and is ready to apply it in your project. \n",
        "\n",
        "**Make sure to give it a star**"
      ]
    }
  ]
}