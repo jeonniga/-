{
  "nbformat": 4,
  "nbformat_minor": 0,
  "metadata": {
    "colab": {
      "name": "tutorial_deep_learning_basics.ipynb",
      "provenance": [],
      "collapsed_sections": [],
      "toc_visible": true,
      "include_colab_link": true
    },
    "kernelspec": {
      "display_name": "Python 3",
      "language": "python",
      "name": "python3"
    },
    "language_info": {
      "codemirror_mode": {
        "name": "ipython",
        "version": 3
      },
      "file_extension": ".py",
      "mimetype": "text/x-python",
      "name": "python",
      "nbconvert_exporter": "python",
      "pygments_lexer": "ipython3",
      "version": "3.6.7"
    }
  },
  "cells": [
    {
      "cell_type": "markdown",
      "metadata": {
        "id": "view-in-github",
        "colab_type": "text"
      },
      "source": [
        "<a href=\"https://colab.research.google.com/github/jeonniga/-/blob/master/tutorial_deep_learning_basics.ipynb\" target=\"_parent\"><img src=\"https://colab.research.google.com/assets/colab-badge.svg\" alt=\"Open In Colab\"/></a>"
      ]
    },
    {
      "cell_type": "markdown",
      "metadata": {
        "id": "7uiYhOg9Qc7T"
      },
      "source": [
        "![MIT Deep Learning](https://deeplearning.mit.edu/files/images/github/mit_deep_learning.png)"
      ]
    },
    {
      "cell_type": "markdown",
      "metadata": {
        "id": "qmjdv3h_Qc7U"
      },
      "source": [
        "<table align=\"center\">\n",
        "  <td align=\"center\"><a target=\"_blank\" href=\"https://deeplearning.mit.edu\">\n",
        "        <img src=\"https://deeplearning.mit.edu/files/images/github/icon_mit.png\" style=\"padding-bottom:5px;\" />\n",
        "      Visit MIT Deep Learning</a></td>\n",
        "  <td align=\"center\"><a target=\"_blank\" href=\"http://colab.research.google.com/github/lexfridman/mit-deep-learning/blob/master/tutorial_deep_learning_basics/deep_learning_basics.ipynb\">\n",
        "        <img src=\"https://deeplearning.mit.edu/files/images/github/icon_google_colab.png\" style=\"padding-bottom:5px;\" />Run in Google Colab</a></td>\n",
        "  <td align=\"center\"><a target=\"_blank\" href=\"https://github.com/lexfridman/mit-deep-learning/blob/master/tutorial_deep_learning_basics/deep_learning_basics.ipynb\">\n",
        "        <img src=\"https://deeplearning.mit.edu/files/images/github/icon_github.png\" style=\"padding-bottom:5px;\"  />View Source on GitHub</a></td>\n",
        "  <td align=\"center\"><a target=\"_blank\" align=\"center\" href=\"https://www.youtube.com/watch?v=O5xeyoRL95U&list=PLrAXtmErZgOeiKm4sgNOknGvNjby9efdf\">\n",
        "        <img src=\"https://deeplearning.mit.edu/files/images/github/icon_youtube.png\" style=\"padding-bottom:5px;\" />Watch YouTube Videos</a></td>\n",
        "<!--   <td><a target=\"_blank\" href=\"link\">\n",
        "        <img src=\"image\" />text</a></td> -->\n",
        "</table>"
      ]
    },
    {
      "cell_type": "markdown",
      "metadata": {
        "id": "wZQOAuQAQc7V"
      },
      "source": [
        "# Deep Learning Basics\n",
        "\n",
        "This tutorial accompanies the [lecture on Deep Learning Basics](https://www.youtube.com/watch?list=PLrAXtmErZgOeiKm4sgNOknGvNjby9efdf&v=O5xeyoRL95U) given as part of [MIT Deep Learning](https://deeplearning.mit.edu). Acknowledgement to amazing people involved is provided throughout the tutorial and at the end. You can watch the video on YouTube:\n",
        "\n",
        "[![Deep Learning Basics](https://i.imgur.com/FfQVV8q.png)](https://www.youtube.com/watch?list=PLrAXtmErZgOeiKm4sgNOknGvNjby9efdf&v=O5xeyoRL95U)\n",
        "\n",
        "In this tutorial, we mention seven important types/concepts/approaches in deep learning, introducing the first 2 and providing pointers to tutorials on the others. Here is a visual representation of the seven:\n",
        "\n",
        "![Deep learning concepts](https://i.imgur.com/EAl47rp.png)\n",
        "\n",
        "At a high-level, neural networks are either encoders, decoders, or a combination of both. Encoders find patterns in raw data to form compact, useful representations. Decoders generate new data or high-resolution useful infomation from those representations. As the lecture describes, deep learning discovers ways to **represent** the world so that we can reason about it. The rest is clever methods that help use deal effectively with visual information, language, sound (#1-6) and even act in a world based on this information and occasional rewards (#7).\n",
        "\n",
        "1. **Feed Forward Neural Networks (FFNNs)** - classification and regression based on features. See [Part 2](#Part-2:-Boston-Housing-Price-Prediction-with-Feed-Forward-Neural-Networks) of this tutorial for an example.\n",
        "2. **Convolutional Neural Networks (CNNs)** - image classification, object detection, video action recognition, etc. See [Part 3](#Part-3:-Classification-of-MNIST-Dreams-with-Convolution-Neural-Networks) of this tutorial for an example.\n",
        "3. **Recurrent Neural Networks (RNNs)** - language modeling, speech recognition/generation, etc. See [this TF tutorial on text generation](https://www.tensorflow.org/tutorials/sequences/text_generation) for an example.\n",
        "4. **Encoder Decoder Architectures** - semantic segmentation, machine translation, etc. See [our tutorial on semantic segmentation](https://github.com/lexfridman/mit-deep-learning/blob/master/tutorial_driving_scene_segmentation/tutorial_driving_scene_segmentation.ipynb) for an example.\n",
        "뭔지 정확히 개념을 알고 싶다면 https://medium.com/hyunjulie/1%ED%8E%B8-semantic-segmentation-%EC%B2%AB%EA%B1%B8%EC%9D%8C-4180367ec9cb\n",
        "\n",
        "5. **Autoencoder** - unsupervised embeddings, denoising, etc.\n",
        "6. **Generative Adversarial Networks (GANs)** - unsupervised generation of realistic images, etc. See [this TF tutorial on DCGANs](https://github.com/tensorflow/tensorflow/blob/r1.11/tensorflow/contrib/eager/python/examples/generative_examples/dcgan.ipynb) for an example.\n",
        "7. **Deep Reinforcement Learning** - game playing, robotics in simulation, self-play, neural arhitecture search, etc. We'll be releasing notebooks on this soon and will link them here.\n",
        "\n",
        "There are selective omissions and simplifications throughout these tutorials, hopefully without losing the essence of the underlying ideas. See Einstein quote..."
      ]
    },
    {
      "cell_type": "code",
      "metadata": {
        "id": "tQ-C7FkT0OOM"
      },
      "source": [
        "이론 개요\n",
        "\n",
        "기본 이론 \n",
        "https://github.com/jeonniga/-/blob/master/Deep%20Learning%20with%20Keras_part1.pptx\n",
        "\n",
        "기본 이론 (보완)\n",
        "https://github.com/jeonniga/-/blob/master/Deep%20Learning%20with%20Keras_part2.pptx\n",
        "\n",
        "코딩 이해에 꼭 필요한 이론\n",
        "https://github.com/jeonniga/-/blob/master/%EC%BD%94%EB%93%9C%EC%99%80%ED%95%A8%EA%BB%98%EB%B3%B4%EB%8A%94%20%EC%9D%B4%EB%A1%A0.pptx"
      ],
      "execution_count": null,
      "outputs": []
    },
    {
      "cell_type": "markdown",
      "metadata": {
        "id": "OY9S4_U99jsk"
      },
      "source": [
        "numpy 부터 짚어봐야함."
      ]
    },
    {
      "cell_type": "code",
      "metadata": {
        "id": "c6Ir7ubY9noZ",
        "outputId": "7437b6a4-64ca-4eda-9eb2-79ee56aaa3e7",
        "colab": {
          "base_uri": "https://localhost:8080/",
          "height": 179
        }
      },
      "source": [
        "import numpy as np\n",
        "\n",
        "test_array = np.array([[1,2,3,4,5],[6,7,8,9,10]], float)\n",
        "print('shape : ', test_array.shape)\n",
        "print(' rows : ', test_array.shape[0])\n",
        "print(' cols : ', test_array.shape[1])\n",
        "print(' ndim : ', test_array.ndim)\n",
        "print(' size : ', test_array.size)\n",
        "\n",
        "x_train = np.random.random((3, 2))\n",
        "print(x_train)\n",
        "\n",
        "x_test = x_train.reshape(1,6)\n",
        "print(x_test)"
      ],
      "execution_count": 23,
      "outputs": [
        {
          "output_type": "stream",
          "text": [
            "shape :  (2, 5)\n",
            " rows :  2\n",
            " cols :  5\n",
            " ndim :  2\n",
            " size :  10\n",
            "[[0.42821909 0.52528845]\n",
            " [0.52216771 0.40295437]\n",
            " [0.04615492 0.24557267]]\n",
            "[[0.42821909 0.52528845 0.52216771 0.40295437 0.04615492 0.24557267]]\n"
          ],
          "name": "stdout"
        }
      ]
    },
    {
      "cell_type": "markdown",
      "metadata": {
        "id": "ns0UhMN7Qc7V"
      },
      "source": [
        "## Part 0: Prerequisites:\n",
        "\n",
        "We recommend that you run this this notebook in the cloud on Google Colab (see link with icon at the top) if you're not already doing so. It's the simplest way to get started. You can also [install TensorFlow locally](https://www.tensorflow.org/install/). But, again, simple is best (with caveats):\n",
        "\n",
        "![Einstein](https://i.imgur.com/vfPDHGN.png)\n",
        "\n",
        "[tf.keras](https://www.tensorflow.org/guide/keras) is the simplest way to build and train neural network models in TensorFlow. So, that's what we'll stick with in this tutorial, unless the models neccessitate a lower-level API.\n",
        "\n",
        "Note that there's [tf.keras](https://www.tensorflow.org/guide/keras) (comes with TensorFlow) and there's [Keras](https://keras.io/) (standalone). You should be using [tf.keras](https://www.tensorflow.org/guide/keras) because (1) it comes with TensorFlow so you don't need to install anything extra and (2) it comes with powerful TensorFlow-specific features.\n",
        "\n",
        "note : https://m.blog.naver.com/PostView.nhn?blogId=imbad99&logNo=80051979352&proxyReferer=https:%2F%2Fwww.google.com%2F"
      ]
    },
    {
      "cell_type": "markdown",
      "metadata": {
        "id": "ciR-N9lQQC2j"
      },
      "source": [
        "## Part1. 기본구조"
      ]
    },
    {
      "cell_type": "markdown",
      "metadata": {
        "id": "nctsAUpWQVKQ"
      },
      "source": [
        "1. 선형이론"
      ]
    },
    {
      "cell_type": "markdown",
      "metadata": {
        "id": "zb2X-NRcQp3K"
      },
      "source": [
        "Sequential로 model이라는 이름의 모델을 만들고, 그리고 add를 통해 필요한 사항들을 추가해갑니다. 첫번째 인자인 1은 출력의 차원을 의미하며, 두번째 인자인 input_dim은 입력의 차원을 정의하는데 이번 실습과 같이 1개의 실수 x를 가지고 하는 1개의 실수 y를 예측하는 단순 선형 회귀를 구현하는 경우에는 각각 1의 값을 가집니다. 이제 직접 실습을 진행해보겠습니다"
      ]
    },
    {
      "cell_type": "markdown",
      "metadata": {
        "id": "PJMqLrYiUTma"
      },
      "source": [
        "Dense를 먼저 살펴보면\n",
        "첫번째 인자 : 출력 뉴런의 수를 설정합니다.\n",
        "input_dim : 입력 뉴런의 수를 설정합니다.\n",
        "init : 가중치 초기화 방법 설정합니다.\n",
        "‘uniform’ : 균일 분포\n",
        "‘normal’ : 가우시안 분포\n",
        "activation : 활성화 함수 설정합니다.\n",
        "‘linear’ : 디폴트 값, 입력뉴런과 가중치로 계산된 \n",
        "             결과값이 그대로 출력으로 나옵니다.\n",
        "‘relu’ : rectifier 함수, 은익층에 주로 쓰입니다.\n",
        "‘sigmoid : 시그모이드 함수, 이진 분류 ,출력층에 사용.\n",
        "‘softmax’: 소프트맥스 함수, 다중클래스 분류 출력층에 사용"
      ]
    },
    {
      "cell_type": "code",
      "metadata": {
        "id": "muNLN36SQZ_M",
        "outputId": "3d98e2a3-383b-4b09-97e1-fbc885fcac6a",
        "colab": {
          "base_uri": "https://localhost:8080/",
          "height": 1000
        }
      },
      "source": [
        "from tensorflow.keras.models import Sequential  # 케라스의 Sequential()을 임포트\n",
        "from tensorflow.keras.layers import Dense       # 케라스의 Dense()를 임포트\n",
        "from tensorflow.keras import optimizers         # 케라스의 옵티마이저를 임포트\n",
        "import numpy as np                              # Numpy를 임포트\n",
        "\n",
        "X=np.array([1,2,3,4,5,6,7,8,9])                 # 공부하는 시간\n",
        "y=np.array([11,22,33,44,53,66,77,87,95])        # 각 공부하는 시간에 맵핑되는 성적\n",
        "\n",
        "model=Sequential()\n",
        "model.add(Dense(1, input_dim=1, activation='linear'))\n",
        "sgd=optimizers.SGD(lr=0.01)\n",
        "# 학습률(learning rate, lr)은 0.01로 합니다.\n",
        "model.compile(optimizer=sgd ,loss='mse',metrics=['mse'])\n",
        "# sgd는 경사 하강법을 의미.\n",
        "# 손실 함수(Loss function)은 평균제곱오차 mse를 사용합니다.\n",
        "model.fit(X,y, batch_size=1, epochs=300, shuffle=False)\n",
        "# 주어진 X와 y데이터에 대해서 오차를 최소화하는 작업을 300번 시도합니다."
      ],
      "execution_count": 3,
      "outputs": [
        {
          "output_type": "stream",
          "text": [
            "Epoch 1/300\n",
            "9/9 [==============================] - 0s 1ms/step - loss: 393.3808 - mse: 393.3808\n",
            "Epoch 2/300\n",
            "9/9 [==============================] - 0s 1ms/step - loss: 2.3240 - mse: 2.3240\n",
            "Epoch 3/300\n",
            "9/9 [==============================] - 0s 1ms/step - loss: 2.3174 - mse: 2.3174\n",
            "Epoch 4/300\n",
            "9/9 [==============================] - 0s 1ms/step - loss: 2.3110 - mse: 2.3110\n",
            "Epoch 5/300\n",
            "9/9 [==============================] - 0s 1ms/step - loss: 2.3049 - mse: 2.3049\n",
            "Epoch 6/300\n",
            "9/9 [==============================] - 0s 975us/step - loss: 2.2990 - mse: 2.2990\n",
            "Epoch 7/300\n",
            "9/9 [==============================] - 0s 1ms/step - loss: 2.2934 - mse: 2.2934\n",
            "Epoch 8/300\n",
            "9/9 [==============================] - 0s 1ms/step - loss: 2.2880 - mse: 2.2880\n",
            "Epoch 9/300\n",
            "9/9 [==============================] - 0s 2ms/step - loss: 2.2828 - mse: 2.2828\n",
            "Epoch 10/300\n",
            "9/9 [==============================] - 0s 1ms/step - loss: 2.2778 - mse: 2.2778\n",
            "Epoch 11/300\n",
            "9/9 [==============================] - 0s 1ms/step - loss: 2.2730 - mse: 2.2730\n",
            "Epoch 12/300\n",
            "9/9 [==============================] - 0s 1ms/step - loss: 2.2684 - mse: 2.2684\n",
            "Epoch 13/300\n",
            "9/9 [==============================] - 0s 1ms/step - loss: 2.2640 - mse: 2.2640\n",
            "Epoch 14/300\n",
            "9/9 [==============================] - 0s 1ms/step - loss: 2.2598 - mse: 2.2598\n",
            "Epoch 15/300\n",
            "9/9 [==============================] - 0s 1ms/step - loss: 2.2557 - mse: 2.2557\n",
            "Epoch 16/300\n",
            "9/9 [==============================] - 0s 2ms/step - loss: 2.2517 - mse: 2.2517\n",
            "Epoch 17/300\n",
            "9/9 [==============================] - 0s 1ms/step - loss: 2.2480 - mse: 2.2480\n",
            "Epoch 18/300\n",
            "9/9 [==============================] - 0s 1ms/step - loss: 2.2443 - mse: 2.2443\n",
            "Epoch 19/300\n",
            "9/9 [==============================] - 0s 1ms/step - loss: 2.2408 - mse: 2.2408\n",
            "Epoch 20/300\n",
            "9/9 [==============================] - 0s 1ms/step - loss: 2.2375 - mse: 2.2375\n",
            "Epoch 21/300\n",
            "9/9 [==============================] - 0s 1ms/step - loss: 2.2342 - mse: 2.2342\n",
            "Epoch 22/300\n",
            "9/9 [==============================] - 0s 2ms/step - loss: 2.2311 - mse: 2.2311\n",
            "Epoch 23/300\n",
            "9/9 [==============================] - 0s 1ms/step - loss: 2.2281 - mse: 2.2281\n",
            "Epoch 24/300\n",
            "9/9 [==============================] - 0s 1ms/step - loss: 2.2252 - mse: 2.2252\n",
            "Epoch 25/300\n",
            "9/9 [==============================] - 0s 1ms/step - loss: 2.2224 - mse: 2.2224\n",
            "Epoch 26/300\n",
            "9/9 [==============================] - 0s 1ms/step - loss: 2.2197 - mse: 2.2197\n",
            "Epoch 27/300\n",
            "9/9 [==============================] - 0s 1ms/step - loss: 2.2171 - mse: 2.2171\n",
            "Epoch 28/300\n",
            "9/9 [==============================] - 0s 1ms/step - loss: 2.2147 - mse: 2.2147\n",
            "Epoch 29/300\n",
            "9/9 [==============================] - 0s 1ms/step - loss: 2.2123 - mse: 2.2123\n",
            "Epoch 30/300\n",
            "9/9 [==============================] - 0s 1ms/step - loss: 2.2100 - mse: 2.2100\n",
            "Epoch 31/300\n",
            "9/9 [==============================] - 0s 1ms/step - loss: 2.2077 - mse: 2.2077\n",
            "Epoch 32/300\n",
            "9/9 [==============================] - 0s 1ms/step - loss: 2.2056 - mse: 2.2056\n",
            "Epoch 33/300\n",
            "9/9 [==============================] - 0s 1ms/step - loss: 2.2035 - mse: 2.2035\n",
            "Epoch 34/300\n",
            "9/9 [==============================] - 0s 2ms/step - loss: 2.2015 - mse: 2.2015\n",
            "Epoch 35/300\n",
            "9/9 [==============================] - 0s 1ms/step - loss: 2.1996 - mse: 2.1996\n",
            "Epoch 36/300\n",
            "9/9 [==============================] - 0s 1ms/step - loss: 2.1978 - mse: 2.1978\n",
            "Epoch 37/300\n",
            "9/9 [==============================] - 0s 1ms/step - loss: 2.1960 - mse: 2.1960\n",
            "Epoch 38/300\n",
            "9/9 [==============================] - 0s 1ms/step - loss: 2.1943 - mse: 2.1943\n",
            "Epoch 39/300\n",
            "9/9 [==============================] - 0s 1ms/step - loss: 2.1926 - mse: 2.1926\n",
            "Epoch 40/300\n",
            "9/9 [==============================] - 0s 2ms/step - loss: 2.1910 - mse: 2.1910\n",
            "Epoch 41/300\n",
            "9/9 [==============================] - 0s 1ms/step - loss: 2.1895 - mse: 2.1895\n",
            "Epoch 42/300\n",
            "9/9 [==============================] - 0s 1ms/step - loss: 2.1880 - mse: 2.1880\n",
            "Epoch 43/300\n",
            "9/9 [==============================] - 0s 1ms/step - loss: 2.1865 - mse: 2.1865\n",
            "Epoch 44/300\n",
            "9/9 [==============================] - 0s 1ms/step - loss: 2.1852 - mse: 2.1852\n",
            "Epoch 45/300\n",
            "9/9 [==============================] - 0s 1ms/step - loss: 2.1838 - mse: 2.1838\n",
            "Epoch 46/300\n",
            "9/9 [==============================] - 0s 1ms/step - loss: 2.1825 - mse: 2.1825\n",
            "Epoch 47/300\n",
            "9/9 [==============================] - 0s 1ms/step - loss: 2.1813 - mse: 2.1813\n",
            "Epoch 48/300\n",
            "9/9 [==============================] - 0s 1ms/step - loss: 2.1801 - mse: 2.1801\n",
            "Epoch 49/300\n",
            "9/9 [==============================] - 0s 1ms/step - loss: 2.1789 - mse: 2.1789\n",
            "Epoch 50/300\n",
            "9/9 [==============================] - 0s 1ms/step - loss: 2.1778 - mse: 2.1778\n",
            "Epoch 51/300\n",
            "9/9 [==============================] - 0s 1ms/step - loss: 2.1767 - mse: 2.1767\n",
            "Epoch 52/300\n",
            "9/9 [==============================] - 0s 1ms/step - loss: 2.1757 - mse: 2.1757\n",
            "Epoch 53/300\n",
            "9/9 [==============================] - 0s 1ms/step - loss: 2.1747 - mse: 2.1747\n",
            "Epoch 54/300\n",
            "9/9 [==============================] - 0s 1ms/step - loss: 2.1737 - mse: 2.1737\n",
            "Epoch 55/300\n",
            "9/9 [==============================] - 0s 1ms/step - loss: 2.1728 - mse: 2.1728\n",
            "Epoch 56/300\n",
            "9/9 [==============================] - 0s 2ms/step - loss: 2.1719 - mse: 2.1719\n",
            "Epoch 57/300\n",
            "9/9 [==============================] - 0s 1ms/step - loss: 2.1710 - mse: 2.1710\n",
            "Epoch 58/300\n",
            "9/9 [==============================] - 0s 1ms/step - loss: 2.1702 - mse: 2.1702\n",
            "Epoch 59/300\n",
            "9/9 [==============================] - 0s 1ms/step - loss: 2.1694 - mse: 2.1694\n",
            "Epoch 60/300\n",
            "9/9 [==============================] - 0s 1ms/step - loss: 2.1686 - mse: 2.1686\n",
            "Epoch 61/300\n",
            "9/9 [==============================] - 0s 1ms/step - loss: 2.1678 - mse: 2.1678\n",
            "Epoch 62/300\n",
            "9/9 [==============================] - 0s 1ms/step - loss: 2.1671 - mse: 2.1671\n",
            "Epoch 63/300\n",
            "9/9 [==============================] - 0s 1ms/step - loss: 2.1664 - mse: 2.1664\n",
            "Epoch 64/300\n",
            "9/9 [==============================] - 0s 1ms/step - loss: 2.1657 - mse: 2.1657\n",
            "Epoch 65/300\n",
            "9/9 [==============================] - 0s 1ms/step - loss: 2.1650 - mse: 2.1650\n",
            "Epoch 66/300\n",
            "9/9 [==============================] - 0s 1ms/step - loss: 2.1644 - mse: 2.1644\n",
            "Epoch 67/300\n",
            "9/9 [==============================] - 0s 1ms/step - loss: 2.1638 - mse: 2.1638\n",
            "Epoch 68/300\n",
            "9/9 [==============================] - 0s 1ms/step - loss: 2.1632 - mse: 2.1632\n",
            "Epoch 69/300\n",
            "9/9 [==============================] - 0s 1ms/step - loss: 2.1626 - mse: 2.1626\n",
            "Epoch 70/300\n",
            "9/9 [==============================] - 0s 1ms/step - loss: 2.1621 - mse: 2.1621\n",
            "Epoch 71/300\n",
            "9/9 [==============================] - 0s 1ms/step - loss: 2.1615 - mse: 2.1615\n",
            "Epoch 72/300\n",
            "9/9 [==============================] - 0s 2ms/step - loss: 2.1610 - mse: 2.1610\n",
            "Epoch 73/300\n",
            "9/9 [==============================] - 0s 1ms/step - loss: 2.1605 - mse: 2.1605\n",
            "Epoch 74/300\n",
            "9/9 [==============================] - 0s 2ms/step - loss: 2.1600 - mse: 2.1600\n",
            "Epoch 75/300\n",
            "9/9 [==============================] - 0s 2ms/step - loss: 2.1595 - mse: 2.1595\n",
            "Epoch 76/300\n",
            "9/9 [==============================] - 0s 2ms/step - loss: 2.1591 - mse: 2.1591\n",
            "Epoch 77/300\n",
            "9/9 [==============================] - 0s 2ms/step - loss: 2.1587 - mse: 2.1587\n",
            "Epoch 78/300\n",
            "9/9 [==============================] - 0s 1ms/step - loss: 2.1582 - mse: 2.1582\n",
            "Epoch 79/300\n",
            "9/9 [==============================] - 0s 1ms/step - loss: 2.1578 - mse: 2.1578\n",
            "Epoch 80/300\n",
            "9/9 [==============================] - 0s 1ms/step - loss: 2.1574 - mse: 2.1574\n",
            "Epoch 81/300\n",
            "9/9 [==============================] - 0s 1ms/step - loss: 2.1571 - mse: 2.1571\n",
            "Epoch 82/300\n",
            "9/9 [==============================] - 0s 1ms/step - loss: 2.1567 - mse: 2.1567\n",
            "Epoch 83/300\n",
            "9/9 [==============================] - 0s 1ms/step - loss: 2.1563 - mse: 2.1563\n",
            "Epoch 84/300\n",
            "9/9 [==============================] - 0s 1ms/step - loss: 2.1560 - mse: 2.1560\n",
            "Epoch 85/300\n",
            "9/9 [==============================] - 0s 1ms/step - loss: 2.1557 - mse: 2.1557\n",
            "Epoch 86/300\n",
            "9/9 [==============================] - 0s 1ms/step - loss: 2.1553 - mse: 2.1553\n",
            "Epoch 87/300\n",
            "9/9 [==============================] - 0s 1ms/step - loss: 2.1550 - mse: 2.1550\n",
            "Epoch 88/300\n",
            "9/9 [==============================] - 0s 2ms/step - loss: 2.1547 - mse: 2.1547\n",
            "Epoch 89/300\n",
            "9/9 [==============================] - 0s 2ms/step - loss: 2.1544 - mse: 2.1544\n",
            "Epoch 90/300\n",
            "9/9 [==============================] - 0s 2ms/step - loss: 2.1542 - mse: 2.1542\n",
            "Epoch 91/300\n",
            "9/9 [==============================] - 0s 1ms/step - loss: 2.1539 - mse: 2.1539\n",
            "Epoch 92/300\n",
            "9/9 [==============================] - 0s 2ms/step - loss: 2.1536 - mse: 2.1536\n",
            "Epoch 93/300\n",
            "9/9 [==============================] - 0s 1ms/step - loss: 2.1534 - mse: 2.1534\n",
            "Epoch 94/300\n",
            "9/9 [==============================] - 0s 1ms/step - loss: 2.1531 - mse: 2.1531\n",
            "Epoch 95/300\n",
            "9/9 [==============================] - 0s 1ms/step - loss: 2.1529 - mse: 2.1529\n",
            "Epoch 96/300\n",
            "9/9 [==============================] - 0s 1ms/step - loss: 2.1527 - mse: 2.1527\n",
            "Epoch 97/300\n",
            "9/9 [==============================] - 0s 1ms/step - loss: 2.1525 - mse: 2.1525\n",
            "Epoch 98/300\n",
            "9/9 [==============================] - 0s 1ms/step - loss: 2.1522 - mse: 2.1522\n",
            "Epoch 99/300\n",
            "9/9 [==============================] - 0s 1ms/step - loss: 2.1520 - mse: 2.1520\n",
            "Epoch 100/300\n",
            "9/9 [==============================] - 0s 1ms/step - loss: 2.1518 - mse: 2.1518\n",
            "Epoch 101/300\n",
            "9/9 [==============================] - 0s 1ms/step - loss: 2.1516 - mse: 2.1516\n",
            "Epoch 102/300\n",
            "9/9 [==============================] - 0s 2ms/step - loss: 2.1515 - mse: 2.1515\n",
            "Epoch 103/300\n",
            "9/9 [==============================] - 0s 1ms/step - loss: 2.1513 - mse: 2.1513\n",
            "Epoch 104/300\n",
            "9/9 [==============================] - 0s 1ms/step - loss: 2.1511 - mse: 2.1511\n",
            "Epoch 105/300\n",
            "9/9 [==============================] - 0s 1ms/step - loss: 2.1509 - mse: 2.1509\n",
            "Epoch 106/300\n",
            "9/9 [==============================] - 0s 1ms/step - loss: 2.1508 - mse: 2.1508\n",
            "Epoch 107/300\n",
            "9/9 [==============================] - 0s 2ms/step - loss: 2.1506 - mse: 2.1506\n",
            "Epoch 108/300\n",
            "9/9 [==============================] - 0s 1ms/step - loss: 2.1505 - mse: 2.1505\n",
            "Epoch 109/300\n",
            "9/9 [==============================] - 0s 1ms/step - loss: 2.1503 - mse: 2.1503\n",
            "Epoch 110/300\n",
            "9/9 [==============================] - 0s 1ms/step - loss: 2.1502 - mse: 2.1502\n",
            "Epoch 111/300\n",
            "9/9 [==============================] - 0s 1ms/step - loss: 2.1500 - mse: 2.1500\n",
            "Epoch 112/300\n",
            "9/9 [==============================] - 0s 2ms/step - loss: 2.1499 - mse: 2.1499\n",
            "Epoch 113/300\n",
            "9/9 [==============================] - 0s 1ms/step - loss: 2.1498 - mse: 2.1498\n",
            "Epoch 114/300\n",
            "9/9 [==============================] - 0s 1ms/step - loss: 2.1496 - mse: 2.1496\n",
            "Epoch 115/300\n",
            "9/9 [==============================] - 0s 1ms/step - loss: 2.1495 - mse: 2.1495\n",
            "Epoch 116/300\n",
            "9/9 [==============================] - 0s 1ms/step - loss: 2.1494 - mse: 2.1494\n",
            "Epoch 117/300\n",
            "9/9 [==============================] - 0s 1ms/step - loss: 2.1493 - mse: 2.1493\n",
            "Epoch 118/300\n",
            "9/9 [==============================] - 0s 1ms/step - loss: 2.1492 - mse: 2.1492\n",
            "Epoch 119/300\n",
            "9/9 [==============================] - 0s 1ms/step - loss: 2.1491 - mse: 2.1491\n",
            "Epoch 120/300\n",
            "9/9 [==============================] - 0s 5ms/step - loss: 2.1490 - mse: 2.1490\n",
            "Epoch 121/300\n",
            "9/9 [==============================] - 0s 5ms/step - loss: 2.1489 - mse: 2.1489\n",
            "Epoch 122/300\n",
            "9/9 [==============================] - 0s 2ms/step - loss: 2.1488 - mse: 2.1488\n",
            "Epoch 123/300\n",
            "9/9 [==============================] - 0s 2ms/step - loss: 2.1487 - mse: 2.1487\n",
            "Epoch 124/300\n",
            "9/9 [==============================] - 0s 1ms/step - loss: 2.1486 - mse: 2.1486\n",
            "Epoch 125/300\n",
            "9/9 [==============================] - 0s 1ms/step - loss: 2.1485 - mse: 2.1485\n",
            "Epoch 126/300\n",
            "9/9 [==============================] - 0s 2ms/step - loss: 2.1484 - mse: 2.1484\n",
            "Epoch 127/300\n",
            "9/9 [==============================] - 0s 1ms/step - loss: 2.1484 - mse: 2.1484\n",
            "Epoch 128/300\n",
            "9/9 [==============================] - 0s 1ms/step - loss: 2.1483 - mse: 2.1483\n",
            "Epoch 129/300\n",
            "9/9 [==============================] - 0s 1ms/step - loss: 2.1482 - mse: 2.1482\n",
            "Epoch 130/300\n",
            "9/9 [==============================] - 0s 1ms/step - loss: 2.1481 - mse: 2.1481\n",
            "Epoch 131/300\n",
            "9/9 [==============================] - 0s 2ms/step - loss: 2.1481 - mse: 2.1481\n",
            "Epoch 132/300\n",
            "9/9 [==============================] - 0s 2ms/step - loss: 2.1480 - mse: 2.1480\n",
            "Epoch 133/300\n",
            "9/9 [==============================] - 0s 2ms/step - loss: 2.1479 - mse: 2.1479\n",
            "Epoch 134/300\n",
            "9/9 [==============================] - 0s 2ms/step - loss: 2.1479 - mse: 2.1479\n",
            "Epoch 135/300\n",
            "9/9 [==============================] - 0s 2ms/step - loss: 2.1478 - mse: 2.1478\n",
            "Epoch 136/300\n",
            "9/9 [==============================] - 0s 2ms/step - loss: 2.1478 - mse: 2.1478\n",
            "Epoch 137/300\n",
            "9/9 [==============================] - 0s 1ms/step - loss: 2.1477 - mse: 2.1477\n",
            "Epoch 138/300\n",
            "9/9 [==============================] - 0s 1ms/step - loss: 2.1476 - mse: 2.1476\n",
            "Epoch 139/300\n",
            "9/9 [==============================] - 0s 1ms/step - loss: 2.1476 - mse: 2.1476\n",
            "Epoch 140/300\n",
            "9/9 [==============================] - 0s 2ms/step - loss: 2.1475 - mse: 2.1475\n",
            "Epoch 141/300\n",
            "9/9 [==============================] - 0s 1ms/step - loss: 2.1475 - mse: 2.1475\n",
            "Epoch 142/300\n",
            "9/9 [==============================] - 0s 2ms/step - loss: 2.1474 - mse: 2.1474\n",
            "Epoch 143/300\n",
            "9/9 [==============================] - 0s 1ms/step - loss: 2.1474 - mse: 2.1474\n",
            "Epoch 144/300\n",
            "9/9 [==============================] - 0s 1ms/step - loss: 2.1473 - mse: 2.1473\n",
            "Epoch 145/300\n",
            "9/9 [==============================] - 0s 1ms/step - loss: 2.1473 - mse: 2.1473\n",
            "Epoch 146/300\n",
            "9/9 [==============================] - 0s 2ms/step - loss: 2.1473 - mse: 2.1473\n",
            "Epoch 147/300\n",
            "9/9 [==============================] - 0s 1ms/step - loss: 2.1472 - mse: 2.1472\n",
            "Epoch 148/300\n",
            "9/9 [==============================] - 0s 1ms/step - loss: 2.1472 - mse: 2.1472\n",
            "Epoch 149/300\n",
            "9/9 [==============================] - 0s 2ms/step - loss: 2.1471 - mse: 2.1471\n",
            "Epoch 150/300\n",
            "9/9 [==============================] - 0s 1ms/step - loss: 2.1471 - mse: 2.1471\n",
            "Epoch 151/300\n",
            "9/9 [==============================] - 0s 2ms/step - loss: 2.1471 - mse: 2.1471\n",
            "Epoch 152/300\n",
            "9/9 [==============================] - 0s 2ms/step - loss: 2.1470 - mse: 2.1470\n",
            "Epoch 153/300\n",
            "9/9 [==============================] - 0s 1ms/step - loss: 2.1470 - mse: 2.1470\n",
            "Epoch 154/300\n",
            "9/9 [==============================] - 0s 1ms/step - loss: 2.1470 - mse: 2.1470\n",
            "Epoch 155/300\n",
            "9/9 [==============================] - 0s 1ms/step - loss: 2.1469 - mse: 2.1469\n",
            "Epoch 156/300\n",
            "9/9 [==============================] - 0s 1ms/step - loss: 2.1469 - mse: 2.1469\n",
            "Epoch 157/300\n",
            "9/9 [==============================] - 0s 1ms/step - loss: 2.1469 - mse: 2.1469\n",
            "Epoch 158/300\n",
            "9/9 [==============================] - 0s 1ms/step - loss: 2.1469 - mse: 2.1469\n",
            "Epoch 159/300\n",
            "9/9 [==============================] - 0s 2ms/step - loss: 2.1468 - mse: 2.1468\n",
            "Epoch 160/300\n",
            "9/9 [==============================] - 0s 1ms/step - loss: 2.1468 - mse: 2.1468\n",
            "Epoch 161/300\n",
            "9/9 [==============================] - 0s 1ms/step - loss: 2.1468 - mse: 2.1468\n",
            "Epoch 162/300\n",
            "9/9 [==============================] - 0s 1ms/step - loss: 2.1467 - mse: 2.1467\n",
            "Epoch 163/300\n",
            "9/9 [==============================] - 0s 1ms/step - loss: 2.1467 - mse: 2.1467\n",
            "Epoch 164/300\n",
            "9/9 [==============================] - 0s 1ms/step - loss: 2.1467 - mse: 2.1467\n",
            "Epoch 165/300\n",
            "9/9 [==============================] - 0s 1ms/step - loss: 2.1467 - mse: 2.1467\n",
            "Epoch 166/300\n",
            "9/9 [==============================] - 0s 2ms/step - loss: 2.1467 - mse: 2.1467\n",
            "Epoch 167/300\n",
            "9/9 [==============================] - 0s 1ms/step - loss: 2.1466 - mse: 2.1466\n",
            "Epoch 168/300\n",
            "9/9 [==============================] - 0s 2ms/step - loss: 2.1466 - mse: 2.1466\n",
            "Epoch 169/300\n",
            "9/9 [==============================] - 0s 2ms/step - loss: 2.1466 - mse: 2.1466\n",
            "Epoch 170/300\n",
            "9/9 [==============================] - 0s 1ms/step - loss: 2.1466 - mse: 2.1466\n",
            "Epoch 171/300\n",
            "9/9 [==============================] - 0s 2ms/step - loss: 2.1466 - mse: 2.1466\n",
            "Epoch 172/300\n",
            "9/9 [==============================] - 0s 2ms/step - loss: 2.1465 - mse: 2.1465\n",
            "Epoch 173/300\n",
            "9/9 [==============================] - 0s 1ms/step - loss: 2.1465 - mse: 2.1465\n",
            "Epoch 174/300\n",
            "9/9 [==============================] - 0s 2ms/step - loss: 2.1465 - mse: 2.1465\n",
            "Epoch 175/300\n",
            "9/9 [==============================] - 0s 2ms/step - loss: 2.1465 - mse: 2.1465\n",
            "Epoch 176/300\n",
            "9/9 [==============================] - 0s 2ms/step - loss: 2.1465 - mse: 2.1465\n",
            "Epoch 177/300\n",
            "9/9 [==============================] - 0s 2ms/step - loss: 2.1465 - mse: 2.1465\n",
            "Epoch 178/300\n",
            "9/9 [==============================] - 0s 2ms/step - loss: 2.1464 - mse: 2.1464\n",
            "Epoch 179/300\n",
            "9/9 [==============================] - 0s 1ms/step - loss: 2.1464 - mse: 2.1464\n",
            "Epoch 180/300\n",
            "9/9 [==============================] - 0s 2ms/step - loss: 2.1464 - mse: 2.1464\n",
            "Epoch 181/300\n",
            "9/9 [==============================] - 0s 2ms/step - loss: 2.1464 - mse: 2.1464\n",
            "Epoch 182/300\n",
            "9/9 [==============================] - 0s 1ms/step - loss: 2.1464 - mse: 2.1464\n",
            "Epoch 183/300\n",
            "9/9 [==============================] - 0s 1ms/step - loss: 2.1464 - mse: 2.1464\n",
            "Epoch 184/300\n",
            "9/9 [==============================] - 0s 2ms/step - loss: 2.1464 - mse: 2.1464\n",
            "Epoch 185/300\n",
            "9/9 [==============================] - 0s 1ms/step - loss: 2.1464 - mse: 2.1464\n",
            "Epoch 186/300\n",
            "9/9 [==============================] - 0s 1ms/step - loss: 2.1463 - mse: 2.1463\n",
            "Epoch 187/300\n",
            "9/9 [==============================] - 0s 1ms/step - loss: 2.1463 - mse: 2.1463\n",
            "Epoch 188/300\n",
            "9/9 [==============================] - 0s 2ms/step - loss: 2.1463 - mse: 2.1463\n",
            "Epoch 189/300\n",
            "9/9 [==============================] - 0s 5ms/step - loss: 2.1463 - mse: 2.1463\n",
            "Epoch 190/300\n",
            "9/9 [==============================] - 0s 1ms/step - loss: 2.1463 - mse: 2.1463\n",
            "Epoch 191/300\n",
            "9/9 [==============================] - 0s 1ms/step - loss: 2.1463 - mse: 2.1463\n",
            "Epoch 192/300\n",
            "9/9 [==============================] - 0s 1ms/step - loss: 2.1463 - mse: 2.1463\n",
            "Epoch 193/300\n",
            "9/9 [==============================] - 0s 2ms/step - loss: 2.1463 - mse: 2.1463\n",
            "Epoch 194/300\n",
            "9/9 [==============================] - 0s 2ms/step - loss: 2.1463 - mse: 2.1463\n",
            "Epoch 195/300\n",
            "9/9 [==============================] - 0s 2ms/step - loss: 2.1463 - mse: 2.1463\n",
            "Epoch 196/300\n",
            "9/9 [==============================] - 0s 2ms/step - loss: 2.1463 - mse: 2.1463\n",
            "Epoch 197/300\n",
            "9/9 [==============================] - 0s 1ms/step - loss: 2.1462 - mse: 2.1462\n",
            "Epoch 198/300\n",
            "9/9 [==============================] - 0s 2ms/step - loss: 2.1462 - mse: 2.1462\n",
            "Epoch 199/300\n",
            "9/9 [==============================] - 0s 2ms/step - loss: 2.1462 - mse: 2.1462\n",
            "Epoch 200/300\n",
            "9/9 [==============================] - 0s 1ms/step - loss: 2.1462 - mse: 2.1462\n",
            "Epoch 201/300\n",
            "9/9 [==============================] - 0s 2ms/step - loss: 2.1462 - mse: 2.1462\n",
            "Epoch 202/300\n",
            "9/9 [==============================] - 0s 2ms/step - loss: 2.1462 - mse: 2.1462\n",
            "Epoch 203/300\n",
            "9/9 [==============================] - 0s 1ms/step - loss: 2.1462 - mse: 2.1462\n",
            "Epoch 204/300\n",
            "9/9 [==============================] - 0s 1ms/step - loss: 2.1462 - mse: 2.1462\n",
            "Epoch 205/300\n",
            "9/9 [==============================] - 0s 2ms/step - loss: 2.1462 - mse: 2.1462\n",
            "Epoch 206/300\n",
            "9/9 [==============================] - 0s 2ms/step - loss: 2.1462 - mse: 2.1462\n",
            "Epoch 207/300\n",
            "9/9 [==============================] - 0s 2ms/step - loss: 2.1462 - mse: 2.1462\n",
            "Epoch 208/300\n",
            "9/9 [==============================] - 0s 1ms/step - loss: 2.1462 - mse: 2.1462\n",
            "Epoch 209/300\n",
            "9/9 [==============================] - 0s 1ms/step - loss: 2.1462 - mse: 2.1462\n",
            "Epoch 210/300\n",
            "9/9 [==============================] - 0s 2ms/step - loss: 2.1462 - mse: 2.1462\n",
            "Epoch 211/300\n",
            "9/9 [==============================] - 0s 1ms/step - loss: 2.1462 - mse: 2.1462\n",
            "Epoch 212/300\n",
            "9/9 [==============================] - 0s 1ms/step - loss: 2.1462 - mse: 2.1462\n",
            "Epoch 213/300\n",
            "9/9 [==============================] - 0s 2ms/step - loss: 2.1462 - mse: 2.1462\n",
            "Epoch 214/300\n",
            "9/9 [==============================] - 0s 2ms/step - loss: 2.1461 - mse: 2.1461\n",
            "Epoch 215/300\n",
            "9/9 [==============================] - 0s 1ms/step - loss: 2.1461 - mse: 2.1461\n",
            "Epoch 216/300\n",
            "9/9 [==============================] - 0s 2ms/step - loss: 2.1461 - mse: 2.1461\n",
            "Epoch 217/300\n",
            "9/9 [==============================] - 0s 2ms/step - loss: 2.1461 - mse: 2.1461\n",
            "Epoch 218/300\n",
            "9/9 [==============================] - 0s 2ms/step - loss: 2.1461 - mse: 2.1461\n",
            "Epoch 219/300\n",
            "9/9 [==============================] - 0s 2ms/step - loss: 2.1461 - mse: 2.1461\n",
            "Epoch 220/300\n",
            "9/9 [==============================] - 0s 3ms/step - loss: 2.1461 - mse: 2.1461\n",
            "Epoch 221/300\n",
            "9/9 [==============================] - 0s 1ms/step - loss: 2.1461 - mse: 2.1461\n",
            "Epoch 222/300\n",
            "9/9 [==============================] - 0s 1ms/step - loss: 2.1461 - mse: 2.1461\n",
            "Epoch 223/300\n",
            "9/9 [==============================] - 0s 2ms/step - loss: 2.1461 - mse: 2.1461\n",
            "Epoch 224/300\n",
            "9/9 [==============================] - 0s 2ms/step - loss: 2.1461 - mse: 2.1461\n",
            "Epoch 225/300\n",
            "9/9 [==============================] - 0s 2ms/step - loss: 2.1461 - mse: 2.1461\n",
            "Epoch 226/300\n",
            "9/9 [==============================] - 0s 2ms/step - loss: 2.1461 - mse: 2.1461\n",
            "Epoch 227/300\n",
            "9/9 [==============================] - 0s 1ms/step - loss: 2.1461 - mse: 2.1461\n",
            "Epoch 228/300\n",
            "9/9 [==============================] - 0s 1ms/step - loss: 2.1461 - mse: 2.1461\n",
            "Epoch 229/300\n",
            "9/9 [==============================] - 0s 1ms/step - loss: 2.1461 - mse: 2.1461\n",
            "Epoch 230/300\n",
            "9/9 [==============================] - 0s 2ms/step - loss: 2.1461 - mse: 2.1461\n",
            "Epoch 231/300\n",
            "9/9 [==============================] - 0s 2ms/step - loss: 2.1461 - mse: 2.1461\n",
            "Epoch 232/300\n",
            "9/9 [==============================] - 0s 2ms/step - loss: 2.1461 - mse: 2.1461\n",
            "Epoch 233/300\n",
            "9/9 [==============================] - 0s 2ms/step - loss: 2.1461 - mse: 2.1461\n",
            "Epoch 234/300\n",
            "9/9 [==============================] - 0s 1ms/step - loss: 2.1461 - mse: 2.1461\n",
            "Epoch 235/300\n",
            "9/9 [==============================] - 0s 1ms/step - loss: 2.1461 - mse: 2.1461\n",
            "Epoch 236/300\n",
            "9/9 [==============================] - 0s 1ms/step - loss: 2.1461 - mse: 2.1461\n",
            "Epoch 237/300\n",
            "9/9 [==============================] - 0s 1ms/step - loss: 2.1461 - mse: 2.1461\n",
            "Epoch 238/300\n",
            "9/9 [==============================] - 0s 1ms/step - loss: 2.1461 - mse: 2.1461\n",
            "Epoch 239/300\n",
            "9/9 [==============================] - 0s 1ms/step - loss: 2.1461 - mse: 2.1461\n",
            "Epoch 240/300\n",
            "9/9 [==============================] - 0s 1ms/step - loss: 2.1461 - mse: 2.1461\n",
            "Epoch 241/300\n",
            "9/9 [==============================] - 0s 1ms/step - loss: 2.1461 - mse: 2.1461\n",
            "Epoch 242/300\n",
            "9/9 [==============================] - 0s 1ms/step - loss: 2.1461 - mse: 2.1461\n",
            "Epoch 243/300\n",
            "9/9 [==============================] - 0s 1ms/step - loss: 2.1461 - mse: 2.1461\n",
            "Epoch 244/300\n",
            "9/9 [==============================] - 0s 1ms/step - loss: 2.1461 - mse: 2.1461\n",
            "Epoch 245/300\n",
            "9/9 [==============================] - 0s 1ms/step - loss: 2.1461 - mse: 2.1461\n",
            "Epoch 246/300\n",
            "9/9 [==============================] - 0s 1ms/step - loss: 2.1461 - mse: 2.1461\n",
            "Epoch 247/300\n",
            "9/9 [==============================] - 0s 1ms/step - loss: 2.1461 - mse: 2.1461\n",
            "Epoch 248/300\n",
            "9/9 [==============================] - 0s 1ms/step - loss: 2.1461 - mse: 2.1461\n",
            "Epoch 249/300\n",
            "9/9 [==============================] - 0s 1ms/step - loss: 2.1461 - mse: 2.1461\n",
            "Epoch 250/300\n",
            "9/9 [==============================] - 0s 1ms/step - loss: 2.1461 - mse: 2.1461\n",
            "Epoch 251/300\n",
            "9/9 [==============================] - 0s 1ms/step - loss: 2.1461 - mse: 2.1461\n",
            "Epoch 252/300\n",
            "9/9 [==============================] - 0s 1ms/step - loss: 2.1461 - mse: 2.1461\n",
            "Epoch 253/300\n",
            "9/9 [==============================] - 0s 1ms/step - loss: 2.1461 - mse: 2.1461\n",
            "Epoch 254/300\n",
            "9/9 [==============================] - 0s 1ms/step - loss: 2.1461 - mse: 2.1461\n",
            "Epoch 255/300\n",
            "9/9 [==============================] - 0s 1ms/step - loss: 2.1461 - mse: 2.1461\n",
            "Epoch 256/300\n",
            "9/9 [==============================] - 0s 1ms/step - loss: 2.1461 - mse: 2.1461\n",
            "Epoch 257/300\n",
            "9/9 [==============================] - 0s 1ms/step - loss: 2.1461 - mse: 2.1461\n",
            "Epoch 258/300\n",
            "9/9 [==============================] - 0s 1ms/step - loss: 2.1461 - mse: 2.1461\n",
            "Epoch 259/300\n",
            "9/9 [==============================] - 0s 1ms/step - loss: 2.1461 - mse: 2.1461\n",
            "Epoch 260/300\n",
            "9/9 [==============================] - 0s 3ms/step - loss: 2.1461 - mse: 2.1461\n",
            "Epoch 261/300\n",
            "9/9 [==============================] - 0s 2ms/step - loss: 2.1461 - mse: 2.1461\n",
            "Epoch 262/300\n",
            "9/9 [==============================] - 0s 1ms/step - loss: 2.1460 - mse: 2.1460\n",
            "Epoch 263/300\n",
            "9/9 [==============================] - 0s 2ms/step - loss: 2.1460 - mse: 2.1460\n",
            "Epoch 264/300\n",
            "9/9 [==============================] - 0s 1ms/step - loss: 2.1460 - mse: 2.1460\n",
            "Epoch 265/300\n",
            "9/9 [==============================] - 0s 2ms/step - loss: 2.1460 - mse: 2.1460\n",
            "Epoch 266/300\n",
            "9/9 [==============================] - 0s 1ms/step - loss: 2.1460 - mse: 2.1460\n",
            "Epoch 267/300\n",
            "9/9 [==============================] - 0s 2ms/step - loss: 2.1460 - mse: 2.1460\n",
            "Epoch 268/300\n",
            "9/9 [==============================] - 0s 1ms/step - loss: 2.1460 - mse: 2.1460\n",
            "Epoch 269/300\n",
            "9/9 [==============================] - 0s 2ms/step - loss: 2.1460 - mse: 2.1460\n",
            "Epoch 270/300\n",
            "9/9 [==============================] - 0s 2ms/step - loss: 2.1460 - mse: 2.1460\n",
            "Epoch 271/300\n",
            "9/9 [==============================] - 0s 2ms/step - loss: 2.1460 - mse: 2.1460\n",
            "Epoch 272/300\n",
            "9/9 [==============================] - 0s 1ms/step - loss: 2.1460 - mse: 2.1460\n",
            "Epoch 273/300\n",
            "9/9 [==============================] - 0s 2ms/step - loss: 2.1460 - mse: 2.1460\n",
            "Epoch 274/300\n",
            "9/9 [==============================] - 0s 2ms/step - loss: 2.1460 - mse: 2.1460\n",
            "Epoch 275/300\n",
            "9/9 [==============================] - 0s 2ms/step - loss: 2.1460 - mse: 2.1460\n",
            "Epoch 276/300\n",
            "9/9 [==============================] - 0s 2ms/step - loss: 2.1460 - mse: 2.1460\n",
            "Epoch 277/300\n",
            "9/9 [==============================] - 0s 2ms/step - loss: 2.1460 - mse: 2.1460\n",
            "Epoch 278/300\n",
            "9/9 [==============================] - 0s 1ms/step - loss: 2.1460 - mse: 2.1460\n",
            "Epoch 279/300\n",
            "9/9 [==============================] - 0s 1ms/step - loss: 2.1460 - mse: 2.1460\n",
            "Epoch 280/300\n",
            "9/9 [==============================] - 0s 2ms/step - loss: 2.1460 - mse: 2.1460\n",
            "Epoch 281/300\n",
            "9/9 [==============================] - 0s 1ms/step - loss: 2.1460 - mse: 2.1460\n",
            "Epoch 282/300\n",
            "9/9 [==============================] - 0s 2ms/step - loss: 2.1460 - mse: 2.1460\n",
            "Epoch 283/300\n",
            "9/9 [==============================] - 0s 2ms/step - loss: 2.1460 - mse: 2.1460\n",
            "Epoch 284/300\n",
            "9/9 [==============================] - 0s 1ms/step - loss: 2.1460 - mse: 2.1460\n",
            "Epoch 285/300\n",
            "9/9 [==============================] - 0s 1ms/step - loss: 2.1460 - mse: 2.1460\n",
            "Epoch 286/300\n",
            "9/9 [==============================] - 0s 1ms/step - loss: 2.1460 - mse: 2.1460\n",
            "Epoch 287/300\n",
            "9/9 [==============================] - 0s 1ms/step - loss: 2.1460 - mse: 2.1460\n",
            "Epoch 288/300\n",
            "9/9 [==============================] - 0s 1ms/step - loss: 2.1460 - mse: 2.1460\n",
            "Epoch 289/300\n",
            "9/9 [==============================] - 0s 1ms/step - loss: 2.1460 - mse: 2.1460\n",
            "Epoch 290/300\n",
            "9/9 [==============================] - 0s 1ms/step - loss: 2.1460 - mse: 2.1460\n",
            "Epoch 291/300\n",
            "9/9 [==============================] - 0s 1ms/step - loss: 2.1460 - mse: 2.1460\n",
            "Epoch 292/300\n",
            "9/9 [==============================] - 0s 1ms/step - loss: 2.1460 - mse: 2.1460\n",
            "Epoch 293/300\n",
            "9/9 [==============================] - 0s 1ms/step - loss: 2.1460 - mse: 2.1460\n",
            "Epoch 294/300\n",
            "9/9 [==============================] - 0s 1ms/step - loss: 2.1460 - mse: 2.1460\n",
            "Epoch 295/300\n",
            "9/9 [==============================] - 0s 1ms/step - loss: 2.1460 - mse: 2.1460\n",
            "Epoch 296/300\n",
            "9/9 [==============================] - 0s 1ms/step - loss: 2.1460 - mse: 2.1460\n",
            "Epoch 297/300\n",
            "9/9 [==============================] - 0s 1ms/step - loss: 2.1460 - mse: 2.1460\n",
            "Epoch 298/300\n",
            "9/9 [==============================] - 0s 1ms/step - loss: 2.1460 - mse: 2.1460\n",
            "Epoch 299/300\n",
            "9/9 [==============================] - 0s 1ms/step - loss: 2.1460 - mse: 2.1460\n",
            "Epoch 300/300\n",
            "9/9 [==============================] - 0s 1ms/step - loss: 2.1460 - mse: 2.1460\n"
          ],
          "name": "stdout"
        },
        {
          "output_type": "execute_result",
          "data": {
            "text/plain": [
              "<tensorflow.python.keras.callbacks.History at 0x7fa33c9405f8>"
            ]
          },
          "metadata": {
            "tags": []
          },
          "execution_count": 3
        }
      ]
    },
    {
      "cell_type": "markdown",
      "metadata": {
        "id": "2kXykn-iQwc1"
      },
      "source": [
        "위의 코드에서 우선 공부한 시간을 x, 각 공부한 시간에 따른 성적을 y라고 해봅시다. activation은 어떤 함수를 사용할 것인지를 의미하는데 선형 회귀를 사용할 경우에는 linear라고 기재합니다.\n",
        "\n",
        "옵티마이저로는 경사 하강법의 일종인 확률적 경사 하강법을 사용하였으며, 학습률은 0.01로 정하였습니다. 손실 함수로는 평균 제곱 오차를 사용합니다. 그리고 전체 데이터에 대한 훈련 횟수는 300으로 합니다."
      ]
    },
    {
      "cell_type": "code",
      "metadata": {
        "id": "qUI4558bQc7W",
        "outputId": "2331b686-9724-46f5-fd8d-3ce2a53fa5b5",
        "colab": {
          "base_uri": "https://localhost:8080/",
          "height": 35
        }
      },
      "source": [
        "# TensorFlow and tf.keras\n",
        "import tensorflow as tf\n",
        "from tensorflow import keras\n",
        "from tensorflow.keras.layers import Conv2D, MaxPooling2D, Dropout, Flatten, Dense\n",
        "\n",
        "# Commonly used modules\n",
        "import numpy as np\n",
        "import os\n",
        "import sys\n",
        "\n",
        "# Images, plots, display, and visualization\n",
        "import matplotlib.pyplot as plt\n",
        "import pandas as pd\n",
        "import seaborn as sns\n",
        "import cv2\n",
        "import IPython\n",
        "from six.moves import urllib\n",
        "\n",
        "print(tf.__version__)"
      ],
      "execution_count": 3,
      "outputs": [
        {
          "output_type": "stream",
          "text": [
            "2.3.0\n"
          ],
          "name": "stdout"
        }
      ]
    },
    {
      "cell_type": "markdown",
      "metadata": {
        "id": "1-s4tIm8Q1Gk"
      },
      "source": [
        "전체 데이터에 대한 훈련 횟수는 300으로 하였지만, 어느 순간 오차가 더 이상 줄어들지 않는데 이는 오차를 최소화하는 가중치 W와 b를 찾았기 때문으로 추정이 가능합니다. 이제 최종적으로 선택된 오차를 최소화하는 직선을 그래프로 그려보겠습니다."
      ]
    },
    {
      "cell_type": "code",
      "metadata": {
        "id": "ZlxaU8AnQ5SB",
        "outputId": "e10b0b98-db06-4e7e-a0cd-657b873e5cc1",
        "colab": {
          "base_uri": "https://localhost:8080/",
          "height": 301
        }
      },
      "source": [
        "import matplotlib.pyplot as plt\n",
        "plt.plot(X, model.predict(X), 'b', X,y, 'k.')"
      ],
      "execution_count": 110,
      "outputs": [
        {
          "output_type": "execute_result",
          "data": {
            "text/plain": [
              "[<matplotlib.lines.Line2D at 0x7f6911cc7b38>,\n",
              " <matplotlib.lines.Line2D at 0x7f6911cc7c50>]"
            ]
          },
          "metadata": {
            "tags": []
          },
          "execution_count": 110
        },
        {
          "output_type": "display_data",
          "data": {
            "image/png": "[encoded data removed]",
            "text/plain": [
              "<Figure size 432x288 with 1 Axes>"
            ]
          },
          "metadata": {
            "tags": [],
            "needs_background": "light"
          }
        }
      ]
    },
    {
      "cell_type": "markdown",
      "metadata": {
        "id": "BSIbnZGyQ922"
      },
      "source": [
        "위의 그래프에서 각 점은 우리가 실제 주었던 실제값에 해당되며, 직선은 실제값으로부터 오차를 최소화하는 W와 b의 값을 가지는 직선입니다. 이제 이 직선을 통해 9시간 30분을 공부하였을 때의 시험 성적을 예측하게 해봅시다. model.predict()은 학습이 완료된 모델이 입력된 데이터에 대해서 어떤 값을 예측하는지를 보여줍니다."
      ]
    },
    {
      "cell_type": "code",
      "metadata": {
        "id": "vaOQWiP7Q-or",
        "outputId": "8a48b965-ea1f-42f3-8975-19c79a1be531",
        "colab": {
          "base_uri": "https://localhost:8080/",
          "height": 35
        }
      },
      "source": [
        "print(model.predict([9.5]))"
      ],
      "execution_count": 4,
      "outputs": [
        {
          "output_type": "stream",
          "text": [
            "[[98.55646]]\n"
          ],
          "name": "stdout"
        }
      ]
    },
    {
      "cell_type": "markdown",
      "metadata": {
        "id": "R3o3pOUeRBAf"
      },
      "source": [
        "9시간 30분을 공부하면 약 98.5점을 얻는다고 예측하고 있습니다."
      ]
    },
    {
      "cell_type": "markdown",
      "metadata": {
        "id": "MjkmX7f1SAPU"
      },
      "source": [
        "2. Overfitting(과적합) 방지\n",
        "\n",
        "   EarlyStopping"
      ]
    },
    {
      "cell_type": "markdown",
      "metadata": {
        "id": "C2o-YX5qSn-y"
      },
      "source": [
        "위의 코드에 다음의 줄을 추가하고"
      ]
    },
    {
      "cell_type": "code",
      "metadata": {
        "id": "7gxV2xIsSG9j"
      },
      "source": [
        "\n",
        "from keras.callbacks import ModelCheckpoint, EarlyStopping"
      ],
      "execution_count": 5,
      "outputs": []
    },
    {
      "cell_type": "code",
      "metadata": {
        "id": "psk-WjPfUJeX"
      },
      "source": [
        "from sklearn.model_selection import train_test_split\n",
        "\n",
        "X_train, X_test, y_train, y_test = train_test_split(X, y,\n",
        "                                                    test_size=0.3,\n",
        "                                                    random_state=42)"
      ],
      "execution_count": 6,
      "outputs": []
    },
    {
      "cell_type": "code",
      "metadata": {
        "id": "2cwkuwkpSQCt"
      },
      "source": [
        "# 중간중간 조건을 만족했을때 auto save - 가장 best한 값만, mode=auto, monitor='val_loss' val_loss값이 개선되었을 때 호출\n",
        "checkpointer = ModelCheckpoint(filepath=\"./weights.hdf5\",\n",
        "                               verbose=1, save_best_only=True, mode='auto', monitor='val_loss')"
      ],
      "execution_count": 10,
      "outputs": []
    },
    {
      "cell_type": "code",
      "metadata": {
        "id": "DMqKbYyVSTWy"
      },
      "source": [
        "# 과적합되면 종료한다 val_loss가 1번이라도 개선되지 않으면 종료한다\n",
        "earlystopper = EarlyStopping(monitor='val_loss', min_delta=0,\n",
        "                             patience=1, verbose=1, mode='auto')"
      ],
      "execution_count": 11,
      "outputs": []
    },
    {
      "cell_type": "markdown",
      "metadata": {
        "id": "4fJXQtkoTlwL"
      },
      "source": [
        " 아래와 같이 학습 구문을 변경한다"
      ]
    },
    {
      "cell_type": "code",
      "metadata": {
        "id": "DQGOVlcNTqm6",
        "outputId": "b3232afc-a6fc-4a6a-d09a-a5d9b2b4216b",
        "colab": {
          "base_uri": "https://localhost:8080/",
          "height": 197
        }
      },
      "source": [
        "# 손실 함수(Loss function)은 평균제곱오차 mse를 사용합니다.\n",
        "model.fit(X,y, batch_size=1, epochs=300, shuffle=False,  validation_data=(X_test, y_test),\n",
        "          callbacks=[checkpointer, earlystopper])"
      ],
      "execution_count": 12,
      "outputs": [
        {
          "output_type": "stream",
          "text": [
            "Epoch 1/300\n",
            "1/9 [==>...........................] - ETA: 0s - loss: 2.5233 - mse: 2.5233\n",
            "Epoch 00001: val_loss improved from inf to 7.21150, saving model to ./weights.hdf5\n",
            "9/9 [==============================] - 0s 6ms/step - loss: 2.1460 - mse: 2.1460 - val_loss: 7.2115 - val_mse: 7.2115\n",
            "Epoch 2/300\n",
            "1/9 [==>...........................] - ETA: 0s - loss: 2.5233 - mse: 2.5233\n",
            "Epoch 00002: val_loss did not improve from 7.21150\n",
            "9/9 [==============================] - 0s 3ms/step - loss: 2.1460 - mse: 2.1460 - val_loss: 7.2115 - val_mse: 7.2115\n",
            "Epoch 00002: early stopping\n"
          ],
          "name": "stdout"
        },
        {
          "output_type": "execute_result",
          "data": {
            "text/plain": [
              "<tensorflow.python.keras.callbacks.History at 0x7fa338ec5e80>"
            ]
          },
          "metadata": {
            "tags": []
          },
          "execution_count": 12
        }
      ]
    },
    {
      "cell_type": "markdown",
      "metadata": {
        "id": "HwXkORKIQc7a"
      },
      "source": [
        "## Part 2: Boston Housing Price Prediction with Feed Forward Neural Networks\n",
        "\n",
        "Let's start with using a fully-connected neural network to do predict housing prices. The following image highlights the difference between regression and classification (see part 2). Given an observation as input, **regression** outputs a continuous value (e.g., exact temperature) and classificaiton outputs a class/category that the observation belongs to.\n",
        "\n",
        "<img src=\"https://i.imgur.com/vvSoAzg.jpg\" alt=\"classification_regression\" width=\"400\"/>\n",
        "\n",
        "For the Boston housing dataset, we get 506 rows of data, with 13 features in each. Our task is to build a regression model that takes these 13 features as input and output a single value prediction of the \"median value of owner-occupied homes (in $1000).\"\n",
        "\n",
        "Now, we load the dataset. Loading the dataset returns four NumPy arrays:\n",
        "\n",
        "* The `train_images` and `train_labels` arrays are the *training set*—the data the model uses to learn.\n",
        "* The model is tested against the *test set*, the `test_images`, and `test_labels` arrays."
      ]
    },
    {
      "cell_type": "code",
      "metadata": {
        "id": "v1ibI_XhQc7a"
      },
      "source": [
        "(train_features, train_labels), (test_features, test_labels) = keras.datasets.boston_housing.load_data()\n",
        "\n",
        "# get per-feature statistics (mean, standard deviation) from the training set to normalize by\n",
        "train_mean = np.mean(train_features, axis=0)\n",
        "train_std = np.std(train_features, axis=0)\n",
        "train_features = (train_features - train_mean) / train_std"
      ],
      "execution_count": 39,
      "outputs": []
    },
    {
      "cell_type": "markdown",
      "metadata": {
        "id": "RstyB-6BYS8j"
      },
      "source": [
        "보스턴 집 값의 데이터셋은 이렇게 생겼어용 ㅋㅋ.\n",
        "\n",
        "자세한 설명은 여기에 https://www.kaggle.com/prasadperera/the-boston-housing-dataset"
      ]
    },
    {
      "cell_type": "code",
      "metadata": {
        "id": "SmCTN-AvYdhj",
        "outputId": "916d09a2-a632-45e5-b2b9-b88a5798c6f0",
        "colab": {
          "base_uri": "https://localhost:8080/",
          "height": 204
        }
      },
      "source": [
        "import pandas as pd\n",
        "\n",
        "column_names = ['CRIM', 'ZN', 'INDUS', 'CHAS', 'NOX', 'RM', 'AGE', 'DIS', 'RAD',\n",
        "                'TAX', 'PTRATIO', 'B', 'LSTAT']\n",
        "\n",
        "df = pd.DataFrame(train_features, columns=column_names)\n",
        "df.head()"
      ],
      "execution_count": 40,
      "outputs": [
        {
          "output_type": "execute_result",
          "data": {
            "text/html": [
              "<div>\n",
              "<style scoped>\n",
              "    .dataframe tbody tr th:only-of-type {\n",
              "        vertical-align: middle;\n",
              "    }\n",
              "\n",
              "    .dataframe tbody tr th {\n",
              "        vertical-align: top;\n",
              "    }\n",
              "\n",
              "    .dataframe thead th {\n",
              "        text-align: right;\n",
              "    }\n",
              "</style>\n",
              "<table border=\"1\" class=\"dataframe\">\n",
              "  <thead>\n",
              "    <tr style=\"text-align: right;\">\n",
              "      <th></th>\n",
              "      <th>CRIM</th>\n",
              "      <th>ZN</th>\n",
              "      <th>INDUS</th>\n",
              "      <th>CHAS</th>\n",
              "      <th>NOX</th>\n",
              "      <th>RM</th>\n",
              "      <th>AGE</th>\n",
              "      <th>DIS</th>\n",
              "      <th>RAD</th>\n",
              "      <th>TAX</th>\n",
              "      <th>PTRATIO</th>\n",
              "      <th>B</th>\n",
              "      <th>LSTAT</th>\n",
              "    </tr>\n",
              "  </thead>\n",
              "  <tbody>\n",
              "    <tr>\n",
              "      <th>0</th>\n",
              "      <td>-0.272246</td>\n",
              "      <td>-0.483615</td>\n",
              "      <td>-0.435762</td>\n",
              "      <td>-0.256833</td>\n",
              "      <td>-0.165227</td>\n",
              "      <td>-0.176443</td>\n",
              "      <td>0.813062</td>\n",
              "      <td>0.116698</td>\n",
              "      <td>-0.626249</td>\n",
              "      <td>-0.595170</td>\n",
              "      <td>1.148500</td>\n",
              "      <td>0.448077</td>\n",
              "      <td>0.825220</td>\n",
              "    </tr>\n",
              "    <tr>\n",
              "      <th>1</th>\n",
              "      <td>-0.403427</td>\n",
              "      <td>2.991784</td>\n",
              "      <td>-1.333912</td>\n",
              "      <td>-0.256833</td>\n",
              "      <td>-1.215182</td>\n",
              "      <td>1.894346</td>\n",
              "      <td>-1.910361</td>\n",
              "      <td>1.247585</td>\n",
              "      <td>-0.856463</td>\n",
              "      <td>-0.348433</td>\n",
              "      <td>-1.718189</td>\n",
              "      <td>0.431906</td>\n",
              "      <td>-1.329202</td>\n",
              "    </tr>\n",
              "    <tr>\n",
              "      <th>2</th>\n",
              "      <td>0.124940</td>\n",
              "      <td>-0.483615</td>\n",
              "      <td>1.028326</td>\n",
              "      <td>-0.256833</td>\n",
              "      <td>0.628642</td>\n",
              "      <td>-1.829688</td>\n",
              "      <td>1.110488</td>\n",
              "      <td>-1.187439</td>\n",
              "      <td>1.675886</td>\n",
              "      <td>1.565287</td>\n",
              "      <td>0.784476</td>\n",
              "      <td>0.220617</td>\n",
              "      <td>-1.308500</td>\n",
              "    </tr>\n",
              "    <tr>\n",
              "      <th>3</th>\n",
              "      <td>-0.401494</td>\n",
              "      <td>-0.483615</td>\n",
              "      <td>-0.869402</td>\n",
              "      <td>-0.256833</td>\n",
              "      <td>-0.361560</td>\n",
              "      <td>-0.324558</td>\n",
              "      <td>-1.236672</td>\n",
              "      <td>1.107180</td>\n",
              "      <td>-0.511142</td>\n",
              "      <td>-1.094663</td>\n",
              "      <td>0.784476</td>\n",
              "      <td>0.448077</td>\n",
              "      <td>-0.652926</td>\n",
              "    </tr>\n",
              "    <tr>\n",
              "      <th>4</th>\n",
              "      <td>-0.005634</td>\n",
              "      <td>-0.483615</td>\n",
              "      <td>1.028326</td>\n",
              "      <td>-0.256833</td>\n",
              "      <td>1.328612</td>\n",
              "      <td>0.153642</td>\n",
              "      <td>0.694808</td>\n",
              "      <td>-0.578572</td>\n",
              "      <td>1.675886</td>\n",
              "      <td>1.565287</td>\n",
              "      <td>0.784476</td>\n",
              "      <td>0.389882</td>\n",
              "      <td>0.263497</td>\n",
              "    </tr>\n",
              "  </tbody>\n",
              "</table>\n",
              "</div>"
            ],
            "text/plain": [
              "       CRIM        ZN     INDUS  ...   PTRATIO         B     LSTAT\n",
              "0 -0.272246 -0.483615 -0.435762  ...  1.148500  0.448077  0.825220\n",
              "1 -0.403427  2.991784 -1.333912  ... -1.718189  0.431906 -1.329202\n",
              "2  0.124940 -0.483615  1.028326  ...  0.784476  0.220617 -1.308500\n",
              "3 -0.401494 -0.483615 -0.869402  ...  0.784476  0.448077 -0.652926\n",
              "4 -0.005634 -0.483615  1.028326  ...  0.784476  0.389882  0.263497\n",
              "\n",
              "[5 rows x 13 columns]"
            ]
          },
          "metadata": {
            "tags": []
          },
          "execution_count": 40
        }
      ]
    },
    {
      "cell_type": "markdown",
      "metadata": {
        "id": "SZze2tiXQc7c"
      },
      "source": [
        "### Build the model\n",
        "\n",
        "Building the neural network requires configuring the layers of the model, then compiling the model. First we stack a few layers together using `keras.Sequential`. Next we configure the loss function, optimizer, and metrics to monitor. These are added during the model's compile step:\n",
        "\n",
        "* *Loss function* - measures how accurate the model is during training, we want to minimize this with the optimizer.\n",
        "* *Optimizer* - how the model is updated based on the data it sees and its loss function.\n",
        "* *Metrics* - used to monitor the training and testing steps.\n",
        "\n",
        "Let's build a network with 1 hidden layer of 20 neurons, and use mean squared error (MSE) as the loss function (most common one for regression problems):"
      ]
    },
    {
      "cell_type": "code",
      "metadata": {
        "id": "NHuj53UpiFhR",
        "outputId": "9193c7c7-1d89-4819-8ff6-c0486f95859a",
        "colab": {
          "base_uri": "https://localhost:8080/",
          "height": 71
        }
      },
      "source": [
        "train_features[0]"
      ],
      "execution_count": 41,
      "outputs": [
        {
          "output_type": "execute_result",
          "data": {
            "text/plain": [
              "array([-0.27224633, -0.48361547, -0.43576161, -0.25683275, -0.1652266 ,\n",
              "       -0.1764426 ,  0.81306188,  0.1166983 , -0.62624905, -0.59517003,\n",
              "        1.14850044,  0.44807713,  0.8252202 ])"
            ]
          },
          "metadata": {
            "tags": []
          },
          "execution_count": 41
        }
      ]
    },
    {
      "cell_type": "code",
      "metadata": {
        "id": "0Fw1eYdkQc7d"
      },
      "source": [
        "def build_model():\n",
        "    model = keras.Sequential([\n",
        "        Dense(20, activation=tf.nn.relu, input_shape=[len(train_features[0])]),\n",
        "        Dense(1)\n",
        "    ])\n",
        "\n",
        "    model.compile(optimizer=tf.optimizers.Adam(), \n",
        "                  loss='mse',\n",
        "                  metrics=['mae', 'mse'])\n",
        "    return model"
      ],
      "execution_count": 42,
      "outputs": []
    },
    {
      "cell_type": "markdown",
      "metadata": {
        "id": "20lF18yGQc7f"
      },
      "source": [
        "### Train the model\n",
        "\n",
        "Training the neural network model requires the following steps:\n",
        "\n",
        "1. Feed the training data to the model—in this example, the `train_features` and `train_labels` arrays.\n",
        "2. The model learns to associate features and labels.\n",
        "3. We ask the model to make predictions about a test set—in this example, the `test_features` array. We verify that the predictions match the labels from the `test_labels` array. \n",
        "\n",
        "To start training,  call the `model.fit` method—the model is \"fit\" to the training data:"
      ]
    },
    {
      "cell_type": "code",
      "metadata": {
        "id": "kdg6SDozQc7f",
        "outputId": "21cb8e9e-1291-40fb-9668-22a4c5487f43",
        "colab": {
          "base_uri": "https://localhost:8080/",
          "height": 197
        }
      },
      "source": [
        "# this helps makes our output less verbose but still shows progress\n",
        "class PrintDot(keras.callbacks.Callback):\n",
        "    def on_epoch_end(self, epoch, logs):\n",
        "        if epoch % 100 == 0: print('')\n",
        "        print('.', end='')\n",
        "\n",
        "model = build_model()\n",
        "\n",
        "early_stop = keras.callbacks.EarlyStopping(monitor='val_loss', patience=50)\n",
        "history = model.fit(train_features, train_labels, epochs=1000, verbose=0, validation_split = 0.1,\n",
        "                    callbacks=[early_stop, PrintDot()])\n",
        "\n",
        "hist = pd.DataFrame(history.history)\n",
        "hist['epoch'] = history.epoch\n",
        "\n",
        "# show RMSE measure to compare to Kaggle leaderboard on https://www.kaggle.com/c/boston-housing/leaderboard\n",
        "rmse_final = np.sqrt(float(hist['val_mae'].tail(1)))\n",
        "print()\n",
        "print('Final Root Mean Square Error on validation set: {}'.format(round(rmse_final, 3)))"
      ],
      "execution_count": 43,
      "outputs": [
        {
          "output_type": "stream",
          "text": [
            "\n",
            "....................................................................................................\n",
            "....................................................................................................\n",
            "....................................................................................................\n",
            "....................................................................................................\n",
            "....................................................................................................\n",
            "....................................................................................................\n",
            "....................................................................................................\n",
            "...................................................\n",
            "Final Root Mean Square Error on validation set: 1.365\n"
          ],
          "name": "stdout"
        }
      ]
    },
    {
      "cell_type": "markdown",
      "metadata": {
        "id": "EG-ckdoXQc7i"
      },
      "source": [
        "Now, let's plot the loss function measure on the training and validation sets. The validation set is used to prevent overfitting ([learn more about it here](https://www.tensorflow.org/tutorials/keras/overfit_and_underfit)). However, because our network is small, the training convergence without noticeably overfitting the data as the plot shows."
      ]
    },
    {
      "cell_type": "code",
      "metadata": {
        "scrolled": true,
        "id": "CI-Y-4LVQc7i",
        "outputId": "54cbdeb2-9b6c-4874-b704-16486db3d2f9",
        "colab": {
          "base_uri": "https://localhost:8080/",
          "height": 283
        }
      },
      "source": [
        "def plot_history():\n",
        "    plt.figure()\n",
        "    plt.xlabel('Epoch')\n",
        "    plt.ylabel('Mean Square Error [Thousand Dollars$^2$]')\n",
        "    plt.plot(hist['epoch'], hist['mae'], label='Train Error')\n",
        "    plt.plot(hist['epoch'], hist['val_mae'], label = 'Val Error')\n",
        "    plt.legend()\n",
        "    plt.ylim([0,50])\n",
        "\n",
        "plot_history()"
      ],
      "execution_count": 44,
      "outputs": [
        {
          "output_type": "display_data",
          "data": {
            "image/png": "[encoded data removed]",
            "text/plain": [
              "<Figure size 432x288 with 1 Axes>"
            ]
          },
          "metadata": {
            "tags": [],
            "needs_background": "light"
          }
        }
      ]
    },
    {
      "cell_type": "code",
      "metadata": {
        "id": "m5dNB67XjMCX",
        "outputId": "0e8935da-2438-44f6-aeb6-6d058dba1ef6",
        "colab": {
          "base_uri": "https://localhost:8080/",
          "height": 419
        }
      },
      "source": [
        "hist"
      ],
      "execution_count": 45,
      "outputs": [
        {
          "output_type": "execute_result",
          "data": {
            "text/html": [
              "<div>\n",
              "<style scoped>\n",
              "    .dataframe tbody tr th:only-of-type {\n",
              "        vertical-align: middle;\n",
              "    }\n",
              "\n",
              "    .dataframe tbody tr th {\n",
              "        vertical-align: top;\n",
              "    }\n",
              "\n",
              "    .dataframe thead th {\n",
              "        text-align: right;\n",
              "    }\n",
              "</style>\n",
              "<table border=\"1\" class=\"dataframe\">\n",
              "  <thead>\n",
              "    <tr style=\"text-align: right;\">\n",
              "      <th></th>\n",
              "      <th>loss</th>\n",
              "      <th>mae</th>\n",
              "      <th>mse</th>\n",
              "      <th>val_loss</th>\n",
              "      <th>val_mae</th>\n",
              "      <th>val_mse</th>\n",
              "      <th>epoch</th>\n",
              "    </tr>\n",
              "  </thead>\n",
              "  <tbody>\n",
              "    <tr>\n",
              "      <th>0</th>\n",
              "      <td>605.083313</td>\n",
              "      <td>22.607826</td>\n",
              "      <td>605.083313</td>\n",
              "      <td>501.381195</td>\n",
              "      <td>21.376030</td>\n",
              "      <td>501.381195</td>\n",
              "      <td>0</td>\n",
              "    </tr>\n",
              "    <tr>\n",
              "      <th>1</th>\n",
              "      <td>593.849976</td>\n",
              "      <td>22.378319</td>\n",
              "      <td>593.849976</td>\n",
              "      <td>490.966797</td>\n",
              "      <td>21.142223</td>\n",
              "      <td>490.966797</td>\n",
              "      <td>1</td>\n",
              "    </tr>\n",
              "    <tr>\n",
              "      <th>2</th>\n",
              "      <td>582.589966</td>\n",
              "      <td>22.146441</td>\n",
              "      <td>582.589966</td>\n",
              "      <td>480.658722</td>\n",
              "      <td>20.906080</td>\n",
              "      <td>480.658722</td>\n",
              "      <td>2</td>\n",
              "    </tr>\n",
              "    <tr>\n",
              "      <th>3</th>\n",
              "      <td>571.430481</td>\n",
              "      <td>21.912970</td>\n",
              "      <td>571.430481</td>\n",
              "      <td>470.054962</td>\n",
              "      <td>20.660118</td>\n",
              "      <td>470.054962</td>\n",
              "      <td>3</td>\n",
              "    </tr>\n",
              "    <tr>\n",
              "      <th>4</th>\n",
              "      <td>559.861206</td>\n",
              "      <td>21.670412</td>\n",
              "      <td>559.861206</td>\n",
              "      <td>459.372864</td>\n",
              "      <td>20.407003</td>\n",
              "      <td>459.372864</td>\n",
              "      <td>4</td>\n",
              "    </tr>\n",
              "    <tr>\n",
              "      <th>...</th>\n",
              "      <td>...</td>\n",
              "      <td>...</td>\n",
              "      <td>...</td>\n",
              "      <td>...</td>\n",
              "      <td>...</td>\n",
              "      <td>...</td>\n",
              "      <td>...</td>\n",
              "    </tr>\n",
              "    <tr>\n",
              "      <th>746</th>\n",
              "      <td>6.531810</td>\n",
              "      <td>1.781578</td>\n",
              "      <td>6.531810</td>\n",
              "      <td>5.084618</td>\n",
              "      <td>1.876959</td>\n",
              "      <td>5.084618</td>\n",
              "      <td>746</td>\n",
              "    </tr>\n",
              "    <tr>\n",
              "      <th>747</th>\n",
              "      <td>6.532972</td>\n",
              "      <td>1.785978</td>\n",
              "      <td>6.532972</td>\n",
              "      <td>4.945518</td>\n",
              "      <td>1.861158</td>\n",
              "      <td>4.945518</td>\n",
              "      <td>747</td>\n",
              "    </tr>\n",
              "    <tr>\n",
              "      <th>748</th>\n",
              "      <td>6.522403</td>\n",
              "      <td>1.783288</td>\n",
              "      <td>6.522403</td>\n",
              "      <td>4.984499</td>\n",
              "      <td>1.861209</td>\n",
              "      <td>4.984499</td>\n",
              "      <td>748</td>\n",
              "    </tr>\n",
              "    <tr>\n",
              "      <th>749</th>\n",
              "      <td>6.494781</td>\n",
              "      <td>1.772888</td>\n",
              "      <td>6.494781</td>\n",
              "      <td>5.113054</td>\n",
              "      <td>1.875995</td>\n",
              "      <td>5.113054</td>\n",
              "      <td>749</td>\n",
              "    </tr>\n",
              "    <tr>\n",
              "      <th>750</th>\n",
              "      <td>6.496810</td>\n",
              "      <td>1.781515</td>\n",
              "      <td>6.496810</td>\n",
              "      <td>5.012630</td>\n",
              "      <td>1.863405</td>\n",
              "      <td>5.012630</td>\n",
              "      <td>750</td>\n",
              "    </tr>\n",
              "  </tbody>\n",
              "</table>\n",
              "<p>751 rows × 7 columns</p>\n",
              "</div>"
            ],
            "text/plain": [
              "           loss        mae         mse  ...    val_mae     val_mse  epoch\n",
              "0    605.083313  22.607826  605.083313  ...  21.376030  501.381195      0\n",
              "1    593.849976  22.378319  593.849976  ...  21.142223  490.966797      1\n",
              "2    582.589966  22.146441  582.589966  ...  20.906080  480.658722      2\n",
              "3    571.430481  21.912970  571.430481  ...  20.660118  470.054962      3\n",
              "4    559.861206  21.670412  559.861206  ...  20.407003  459.372864      4\n",
              "..          ...        ...         ...  ...        ...         ...    ...\n",
              "746    6.531810   1.781578    6.531810  ...   1.876959    5.084618    746\n",
              "747    6.532972   1.785978    6.532972  ...   1.861158    4.945518    747\n",
              "748    6.522403   1.783288    6.522403  ...   1.861209    4.984499    748\n",
              "749    6.494781   1.772888    6.494781  ...   1.875995    5.113054    749\n",
              "750    6.496810   1.781515    6.496810  ...   1.863405    5.012630    750\n",
              "\n",
              "[751 rows x 7 columns]"
            ]
          },
          "metadata": {
            "tags": []
          },
          "execution_count": 45
        }
      ]
    },
    {
      "cell_type": "markdown",
      "metadata": {
        "id": "J_XLYHjtQc7k"
      },
      "source": [
        "Next, compare how the model performs on the test dataset:"
      ]
    },
    {
      "cell_type": "code",
      "metadata": {
        "id": "O4GM3aiMQc7l",
        "outputId": "7135bf69-3bd1-4b0a-8c27-d2a16da5ed42",
        "colab": {
          "base_uri": "https://localhost:8080/",
          "height": 53
        }
      },
      "source": [
        "test_features_norm = (test_features - train_mean) / train_std\n",
        "mse, _, _ = model.evaluate(test_features_norm, test_labels)\n",
        "rmse = np.sqrt(mse)\n",
        "print('Root Mean Square Error on test set: {}'.format(round(rmse, 3)))"
      ],
      "execution_count": 46,
      "outputs": [
        {
          "output_type": "stream",
          "text": [
            "4/4 [==============================] - 0s 2ms/step - loss: 17.5253 - mae: 2.6349 - mse: 17.5253\n",
            "Root Mean Square Error on test set: 4.186\n"
          ],
          "name": "stdout"
        }
      ]
    },
    {
      "cell_type": "markdown",
      "metadata": {
        "id": "-SQuZZYFQc7p"
      },
      "source": [
        "Compare the RMSE measure you get to the [Kaggle leaderboard](https://www.kaggle.com/c/boston-housing/leaderboard). An RMSE of 2.651 puts us in 5th place."
      ]
    },
    {
      "cell_type": "markdown",
      "metadata": {
        "id": "V8AA9PEGQc7p"
      },
      "source": [
        "## Part 3: Classification of MNIST Dreams with Convolutional Neural Networks\n",
        "\n",
        "Next, let's build a convolutional neural network (CNN) classifier to classify images of handwritten digits in the MNIST dataset with a twist where we test our classifier on high-resolution hand-written digits from outside the dataset."
      ]
    },
    {
      "cell_type": "code",
      "metadata": {
        "id": "qI7npUgGQc7q"
      },
      "source": [
        "# Set common constants\n",
        "this_repo_url = 'https://github.com/lexfridman/mit-deep-learning/raw/master/'\n",
        "this_tutorial_url = this_repo_url + 'tutorial_deep_learning_basics'"
      ],
      "execution_count": 1,
      "outputs": []
    },
    {
      "cell_type": "markdown",
      "metadata": {
        "id": "Cw3Xblk7Qc7s"
      },
      "source": [
        "The MNIST dataset containss 70,000 grayscale images of handwritten digits at a resolution of 28 by 28 pixels. The task is to take one of these images as input and predict the most likely digit contained in the image (along with a relative confidence in this prediction):\n",
        "\n",
        "<img src=\"https://i.imgur.com/ITrm9x4.png\" width=\"500px\">\n",
        "\n",
        "Now, we load the dataset. The images are 28x28 NumPy arrays, with pixel values ranging between 0 and 255. The *labels* are an array of integers, ranging from 0 to 9."
      ]
    },
    {
      "cell_type": "code",
      "metadata": {
        "id": "rj46-Ar_6ixJ"
      },
      "source": [
        "(train_images, train_labels), (test_images, test_labels) = keras.datasets.mnist.load_data()\n",
        "# reshape images to specify that it's a single channel\n",
        "train_images = train_images.reshape(train_images.shape[0], 28, 28, 1)\n",
        "test_images = test_images.reshape(test_images.shape[0], 28, 28, 1)"
      ],
      "execution_count": 22,
      "outputs": []
    },
    {
      "cell_type": "markdown",
      "metadata": {
        "id": "Yx2ryxUJQc7u"
      },
      "source": [
        "We scale these values to a range of 0 to 1 before feeding to the neural network model. For this, we divide the values by 255. It's important that the *training set* and the *testing set* are preprocessed in the same way:"
      ]
    },
    {
      "cell_type": "code",
      "metadata": {
        "id": "xmwE0DMwQc7u"
      },
      "source": [
        "def preprocess_images(imgs): # should work for both a single image and multiple images\n",
        "    sample_img = imgs if len(imgs.shape) == 2 else imgs[0]\n",
        "    assert sample_img.shape in [(28, 28, 1), (28, 28)], sample_img.shape # make sure images are 28x28 and single-channel (grayscale)\n",
        "    return imgs / 255.0\n",
        "\n",
        "train_images = preprocess_images(train_images)\n",
        "test_images = preprocess_images(test_images)"
      ],
      "execution_count": 24,
      "outputs": []
    },
    {
      "cell_type": "markdown",
      "metadata": {
        "id": "x7XjrEuwQc7w"
      },
      "source": [
        "Display the first 5 images from the *training set* and display the class name below each image. Verify that the data is in the correct format and we're ready to build and train the network."
      ]
    },
    {
      "cell_type": "code",
      "metadata": {
        "id": "vxsNiWxgQc7x",
        "outputId": "4e349a45-5c6b-46c4-c04c-9f02a74cc1d6",
        "colab": {
          "base_uri": "https://localhost:8080/",
          "height": 141
        }
      },
      "source": [
        "plt.figure(figsize=(10,2))\n",
        "for i in range(5):\n",
        "    plt.subplot(1,5,i+1)\n",
        "    plt.xticks([])\n",
        "    plt.yticks([])\n",
        "    plt.grid(False)\n",
        "    plt.imshow(train_images[i].reshape(28, 28), cmap=plt.cm.binary)\n",
        "    plt.xlabel(train_labels[i])"
      ],
      "execution_count": 25,
      "outputs": [
        {
          "output_type": "display_data",
          "data": {
            "image/png": "[encoded data removed]",
            "text/plain": [
              "<Figure size 720x144 with 5 Axes>"
            ]
          },
          "metadata": {
            "tags": []
          }
        }
      ]
    },
    {
      "cell_type": "markdown",
      "metadata": {
        "id": "RZLyvWKJQc7z"
      },
      "source": [
        "### Build the model\n",
        "\n",
        "reference : https://dsbook.tistory.com/79\n",
        "\n",
        "Building the neural network requires configuring the layers of the model, then compiling the model. In many cases, this can be reduced to simply stacking together layers:"
      ]
    },
    {
      "cell_type": "code",
      "metadata": {
        "id": "56vMK1pFQc7z"
      },
      "source": [
        "model = keras.Sequential()\n",
        "# 32 convolution filters used each of size 3x3\n",
        "# 첫 번째 숫자인 32는 32개의 필터를 적용하겠다는 의미입니다.\n",
        "# kernel_size는 필터의 크기를 의미합니다.\n",
        "# input_shape는 (행, 열, 색상)을 의미합니다. 흑백의 경우 1의 값을 가집니다. RGB의 경우 3의 값을 가집니다\n",
        "model.add(Conv2D(32, kernel_size=(3, 3), activation='relu', input_shape=(28, 28, 1)))\n",
        "\n",
        "# 64 convolution filters used each of size 3x3\n",
        "model.add(Conv2D(64, (3, 3), activation='relu'))\n",
        "\n",
        "# choose the best features via pooling\n",
        "# MaxPooling2D는 풀링 기법 중 가장 많이 사용하는 맥스 풀링을 적용하는 함수입니다. 맥스 풀링은 정해진 영역 안에서 가장 큰 값만 남기고 나머지는 버리는 방식입니다. \n",
        "# pool_size는 풀링 윈도우 크기이며 2의 값은 전체 크기를 절반으로 줄입니다\n",
        "model.add(MaxPooling2D(pool_size=(2, 2)))\n",
        "\n",
        "# randomly turn neurons on and off to improve convergence\n",
        "# Dropout()는 특정 노드에 학습이 지나치게 몰리는 것을 방지하기 위해 랜덤하게 일부 노드를 꺼주는 역할을 합니다. Dropout을 통해 과적합을 조금 더 효과적으로 회피할 수 있습니다.\n",
        "model.add(Dropout(0.25))\n",
        "\n",
        "# flatten since too many dimensions, we only want a classification output\n",
        "# 지금까지 작업했던 이미지는 2차원 배열인데, Flattern() 함수를 통해 1차원 배열로 바꿔줄 수 있습니다\n",
        "model.add(Flatten())\n",
        "\n",
        "# fully connected to get all relevant data\n",
        "model.add(Dense(128, activation='relu'))\n",
        "# one more dropout\n",
        "model.add(Dropout(0.5))\n",
        "# output a softmax to squash the matrix into output probabilities\n",
        "model.add(Dense(10, activation='softmax'))"
      ],
      "execution_count": 18,
      "outputs": []
    },
    {
      "cell_type": "markdown",
      "metadata": {
        "id": "KYS2xpQpQc72"
      },
      "source": [
        "Before the model is ready for training, it needs a few more settings. These are added during the model's *compile* step:\n",
        "\n",
        "* *Loss function* - measures how accurate the model is during training, we want to minimize this with the optimizer.\n",
        "* *Optimizer* - how the model is updated based on the data it sees and its loss function.\n",
        "* *Metrics* - used to monitor the training and testing steps. \"accuracy\" is the fraction of images that are correctly classified."
      ]
    },
    {
      "cell_type": "code",
      "metadata": {
        "id": "3lw7LgY7Qc72"
      },
      "source": [
        "model.compile(optimizer = tf.keras.optimizers.Adam(),\n",
        "              loss = 'sparse_categorical_crossentropy',\n",
        "              metrics=['accuracy'])"
      ],
      "execution_count": 20,
      "outputs": []
    },
    {
      "cell_type": "markdown",
      "metadata": {
        "id": "trf2YsfVQc74"
      },
      "source": [
        "### Train the model\n",
        "\n",
        "Training the neural network model requires the following steps:\n",
        "\n",
        "1. Feed the training data to the model—in this example, the `train_images` and `train_labels` arrays.\n",
        "2. The model learns to associate images and labels.\n",
        "3. We ask the model to make predictions about a test set—in this example, the `test_images` array. We verify that the predictions match the labels from the `test_labels` array. \n",
        "\n",
        "To start training,  call the `model.fit` method—the model is \"fit\" to the training data:"
      ]
    },
    {
      "cell_type": "code",
      "metadata": {
        "id": "eX_tYl4vQc74",
        "outputId": "1b7f1977-38d9-4568-d9d1-3d65eb1e6c1e",
        "colab": {
          "base_uri": "https://localhost:8080/",
          "height": 197
        }
      },
      "source": [
        "history = model.fit(train_images, train_labels, epochs=5)"
      ],
      "execution_count": 21,
      "outputs": [
        {
          "output_type": "stream",
          "text": [
            "Epoch 1/5\n",
            "1875/1875 [==============================] - 163s 87ms/step - loss: 0.1983 - accuracy: 0.9396\n",
            "Epoch 2/5\n",
            "1875/1875 [==============================] - 159s 85ms/step - loss: 0.0807 - accuracy: 0.9755\n",
            "Epoch 3/5\n",
            "1875/1875 [==============================] - 158s 85ms/step - loss: 0.0651 - accuracy: 0.9804\n",
            "Epoch 4/5\n",
            "1875/1875 [==============================] - 157s 84ms/step - loss: 0.0531 - accuracy: 0.9837\n",
            "Epoch 5/5\n",
            "1875/1875 [==============================] - 158s 84ms/step - loss: 0.0455 - accuracy: 0.9855\n"
          ],
          "name": "stdout"
        }
      ]
    },
    {
      "cell_type": "markdown",
      "metadata": {
        "id": "jCD4Ra8wQc76"
      },
      "source": [
        "As the model trains, the loss and accuracy metrics are displayed. This model reaches an accuracy of about 98.68% on the training data."
      ]
    },
    {
      "cell_type": "markdown",
      "metadata": {
        "id": "swlL0kg3Qc76"
      },
      "source": [
        "### Evaluate accuracy\n",
        "\n",
        "Next, compare how the model performs on the test dataset:"
      ]
    },
    {
      "cell_type": "code",
      "metadata": {
        "id": "sg5cURzTQc77",
        "outputId": "8ff7dfb7-1ab0-4a9d-dcb1-3180ce680eee",
        "colab": {
          "base_uri": "https://localhost:8080/",
          "height": 71
        }
      },
      "source": [
        "print(test_images.shape)\n",
        "test_loss, test_acc = model.evaluate(test_images, test_labels)\n",
        "\n",
        "print('Test accuracy:', test_acc)"
      ],
      "execution_count": 22,
      "outputs": [
        {
          "output_type": "stream",
          "text": [
            "(10000, 28, 28, 1)\n",
            "313/313 [==============================] - 6s 19ms/step - loss: 0.0312 - accuracy: 0.9905\n",
            "Test accuracy: 0.9904999732971191\n"
          ],
          "name": "stdout"
        }
      ]
    },
    {
      "cell_type": "markdown",
      "metadata": {
        "id": "PtlkxdqAQc79"
      },
      "source": [
        "Often times, the accuracy on the test dataset is a little less than the accuracy on the training dataset. This gap between training accuracy and test accuracy is an example of *overfitting*. In our case, the accuracy is better at 99.19%! This is, in part, due to successful regularization accomplished with the Dropout layers."
      ]
    },
    {
      "cell_type": "markdown",
      "metadata": {
        "id": "cMiPWVMYQc79"
      },
      "source": [
        "### Make predictions\n",
        "\n",
        "With the model trained, we can use it to make predictions about some images. Let's step outside the MNIST dataset for that and go with the beautiful high-resolution images generated by a mixture of CPPN, GAN, VAE. See [great blog post by hardmaru](http://blog.otoro.net/2016/04/01/generating-large-images-from-latent-vectors/) for the source data and a description of how these morphed animations are generated:\n",
        "\n",
        "![MNIST dream](https://i.imgur.com/OrUJs9V.gif)"
      ]
    },
    {
      "cell_type": "code",
      "metadata": {
        "id": "hZItC7l4Qc79",
        "outputId": "c470850b-4999-48aa-eb73-b1aa88b1444b",
        "colab": {
          "base_uri": "https://localhost:8080/",
          "height": 377
        }
      },
      "source": [
        "mnist_dream_path = 'images/mnist_dream.mp4'\n",
        "mnist_prediction_path = 'images/mnist_dream_predicted.mp4'\n",
        "\n",
        "# download the video if running in Colab\n",
        "if not os.path.isfile(mnist_dream_path): \n",
        "    print('downloading the sample video...')\n",
        "    vid_url = this_tutorial_url + '/' + mnist_dream_path\n",
        "    \n",
        "    mnist_dream_path = urllib.request.urlretrieve(vid_url)[0]\n",
        "                                                                                                  \n",
        "def cv2_imshow(img):\n",
        "    ret = cv2.imencode('.png', img)[1].tobytes() \n",
        "    img_ip = IPython.display.Image(data=ret)\n",
        "    IPython.display.display(img_ip)\n",
        "\n",
        "cap = cv2.VideoCapture(mnist_dream_path) \n",
        "vw = None\n",
        "frame = -1 # counter for debugging (mostly), 0-indexed\n",
        "\n",
        "# go through all the frames and run our classifier on the high res MNIST images as they morph from number to number\n",
        "while True: # should 481 frames\n",
        "    frame += 1\n",
        "    ret, img = cap.read()\n",
        "    if not ret: break\n",
        "               \n",
        "    assert img.shape[0] == img.shape[1] # should be a square\n",
        "    if img.shape[0] != 720:\n",
        "        img = cv2.resize(img, (720, 720))\n",
        "       \n",
        "    #preprocess the image for prediction\n",
        "    img_proc = cv2.cvtColor(img, cv2.COLOR_BGR2GRAY)\n",
        "    img_proc = cv2.resize(img_proc, (28, 28))\n",
        "    img_proc = preprocess_images(img_proc)\n",
        "    img_proc = 1 - img_proc # inverse since training dataset is white text with black background\n",
        "\n",
        "    net_in = np.expand_dims(img_proc, axis=0) # expand dimension to specify batch size of 1\n",
        "    net_in = np.expand_dims(net_in, axis=3) # expand dimension to specify number of channels\n",
        "    \n",
        "    preds = model.predict(net_in)[0]\n",
        "    guess = np.argmax(preds)\n",
        "    perc = np.rint(preds * 100).astype(int)\n",
        "    \n",
        "    img = 255 - img\n",
        "    pad_color = 0\n",
        "    img = np.pad(img, ((0,0), (0,1280-720), (0,0)), mode='constant', constant_values=(pad_color))  \n",
        "    \n",
        "    line_type = cv2.LINE_AA\n",
        "    font_face = cv2.FONT_HERSHEY_SIMPLEX\n",
        "    font_scale = 1.3        \n",
        "    thickness = 2\n",
        "    x, y = 740, 60\n",
        "    color = (255, 255, 255)\n",
        "    \n",
        "    text = \"Neural Network Output:\"\n",
        "    cv2.putText(img, text=text, org=(x, y), fontScale=font_scale, fontFace=font_face, thickness=thickness,\n",
        "                    color=color, lineType=line_type)\n",
        "    \n",
        "    text = \"Input:\"\n",
        "    cv2.putText(img, text=text, org=(30, y), fontScale=font_scale, fontFace=font_face, thickness=thickness,\n",
        "                    color=color, lineType=line_type)   \n",
        "        \n",
        "    y = 130\n",
        "    for i, p in enumerate(perc):\n",
        "        if i == guess: color = (255, 218, 158)\n",
        "        else: color = (100, 100, 100)\n",
        "            \n",
        "        rect_width = 0\n",
        "        if p > 0: rect_width = int(p * 3.3)\n",
        "        \n",
        "        rect_start = 180\n",
        "        cv2.rectangle(img, (x+rect_start, y-5), (x+rect_start+rect_width, y-20), color, -1)\n",
        "\n",
        "        text = '{}: {:>3}%'.format(i, int(p))\n",
        "        cv2.putText(img, text=text, org=(x, y), fontScale=font_scale, fontFace=font_face, thickness=thickness,\n",
        "                    color=color, lineType=line_type)\n",
        "        y += 60\n",
        "    \n",
        "    # if you don't want to save the output as a video, set this to False\n",
        "    save_video = True\n",
        "    \n",
        "    if save_video:\n",
        "        if vw is None:\n",
        "            codec = cv2.VideoWriter_fourcc(*'DIVX')\n",
        "            vid_width_height = img.shape[1], img.shape[0]\n",
        "            vw = cv2.VideoWriter(mnist_prediction_path, codec, 30, vid_width_height)\n",
        "        # 15 fps above doesn't work robustly so we right frame twice at 30 fps\n",
        "        vw.write(img)\n",
        "        vw.write(img)\n",
        "    \n",
        "    # scale down image for display\n",
        "    img_disp = cv2.resize(img, (0,0), fx=0.5, fy=0.5)\n",
        "    cv2_imshow(img_disp)\n",
        "    IPython.display.clear_output(wait=True)\n",
        "        \n",
        "cap.release()\n",
        "if vw is not None:\n",
        "    vw.release()"
      ],
      "execution_count": 24,
      "outputs": [
        {
          "output_type": "display_data",
          "data": {
            "image/png": "[encoded data removed]",
            "text/plain": [
              "<IPython.core.display.Image object>"
            ]
          },
          "metadata": {
            "tags": []
          }
        }
      ]
    },
    {
      "cell_type": "markdown",
      "metadata": {
        "id": "ImjeSnilQc7_"
      },
      "source": [
        "The above shows the prediction of the network by choosing the neuron with the highest output. While the output layer values add 1 to one, these do not reflect well-calibrated measures of \"uncertainty\". Often, the network is overly confident about the top choice that does not reflect a learned measure of probability. If everything ran correctly you should get an animation like this:\n",
        "\n",
        "![MNIST dream predictions](https://i.imgur.com/eMF9FOG.gif)"
      ]
    },
    {
      "cell_type": "markdown",
      "metadata": {
        "id": "69Vp_FlTGvLT"
      },
      "source": [
        "## Prart 4: IMDB 데이터셋을 이용한 영화 리뷰 분류 : Binary classification"
      ]
    },
    {
      "cell_type": "markdown",
      "metadata": {
        "id": "EMtwIVKrSZdG"
      },
      "source": [
        "머신러닝은 크게 분류와 회귀 문제로 나누어 지게 됩니다.\n",
        "저희는 분류 문제에서도 이진분류를 진행해볼건데요.\n",
        "이진분류라는건 예를들어 메일을 받았을 때 이 메일이 스팸이냐 아니냐, 말을 했을 때 욕이냐 아니냐와 같이 문제에 대해 예/아니오 형태로 구분되는 문제에 적합합니다.\n",
        "\n",
        "이번에는 IMDB 데이터셋을 이용해 해당 리뷰가 긍정적인지 부정적인지 예측하는 이진 분류 모델을 만들어 보겠습니다."
      ]
    },
    {
      "cell_type": "markdown",
      "metadata": {
        "id": "qAevM6nVSdPZ"
      },
      "source": [
        "Dataset\n",
        "IMDB 데이터셋이란 영화에 대한 평점과 리뷰들이 들어가있는 데이터인데요, (영어로 되어 있습니다.)\n",
        "\n",
        "추후에는 한글로 된 데이터셋을 직접 구하고 만들어서 분류기를 만들어보시면 재밌지 않을까요?"
      ]
    },
    {
      "cell_type": "markdown",
      "metadata": {
        "id": "ZppMyUlESg17"
      },
      "source": [
        "Download\n",
        "데이터셋은 텐서플로의 패키지 안에 다운로더 및 로더가 내장되어 있습니다.\n",
        "(포스팅 시각 기준으로 저는 r1.12 버전의 텐서플로 패키지를 사용중이며, 너무 오래된 버전의 경우 keras 패키지가 내장되어 있지 않을 수 있습니다.)"
      ]
    },
    {
      "cell_type": "code",
      "metadata": {
        "id": "UCq35OMNSj0V",
        "outputId": "6c6501e4-f947-4eaa-bcd4-d9ddbed45960",
        "colab": {
          "base_uri": "https://localhost:8080/",
          "height": 53
        }
      },
      "source": [
        "from tensorflow.keras.datasets import imdb\n",
        "(train_data, train_labels), (test_data, test_labels) = imdb.load_data(num_words=10000)\n"
      ],
      "execution_count": 26,
      "outputs": [
        {
          "output_type": "stream",
          "text": [
            "Downloading data from https://storage.googleapis.com/tensorflow/tf-keras-datasets/imdb.npz\n",
            "17465344/17464789 [==============================] - 0s 0us/step\n"
          ],
          "name": "stdout"
        }
      ]
    },
    {
      "cell_type": "markdown",
      "metadata": {
        "id": "GsOg-kTlSyNR"
      },
      "source": [
        "데이터 확인\n",
        "25000개의 훈련용 데이터셋이 존재하며, 각 인덱스는 단어 인덱스의 리스트를 가지고 있습니다."
      ]
    },
    {
      "cell_type": "code",
      "metadata": {
        "id": "LZ_NOt0ZS19z",
        "outputId": "0723b9e9-e535-462a-d31b-827eb7e402b9",
        "colab": {
          "base_uri": "https://localhost:8080/",
          "height": 53
        }
      },
      "source": [
        "display(train_data[0][:10])\n",
        "display(train_labels)"
      ],
      "execution_count": 30,
      "outputs": [
        {
          "output_type": "display_data",
          "data": {
            "text/plain": [
              "[1, 14, 22, 16, 43, 530, 973, 1622, 1385, 65]"
            ]
          },
          "metadata": {
            "tags": []
          }
        },
        {
          "output_type": "display_data",
          "data": {
            "text/plain": [
              "array([1, 0, 0, ..., 0, 1, 0])"
            ]
          },
          "metadata": {
            "tags": []
          }
        }
      ]
    },
    {
      "cell_type": "markdown",
      "metadata": {
        "id": "ZnqMqykqS6gb"
      },
      "source": [
        "단어 인덱스를 단어로 치환"
      ]
    },
    {
      "cell_type": "code",
      "metadata": {
        "id": "DfG9IzraS8Ge",
        "outputId": "8ae74d2f-fe33-4a89-fdd1-e871203d684a",
        "colab": {
          "base_uri": "https://localhost:8080/",
          "height": 91
        }
      },
      "source": [
        "word_index = imdb.get_word_index()\n",
        "indexes = dict([(value, key) for (key, value) in word_index.items()])\n",
        "decoded_review = ' '.join(indexes.get(i - 3, '?') for i in train_data[0])\n",
        "print(decoded_review)"
      ],
      "execution_count": 28,
      "outputs": [
        {
          "output_type": "stream",
          "text": [
            "Downloading data from https://storage.googleapis.com/tensorflow/tf-keras-datasets/imdb_word_index.json\n",
            "1646592/1641221 [==============================] - 0s 0us/step\n",
            "? this film was just brilliant casting location scenery story direction everyone's really suited the part they played and you could just imagine being there robert ? is an amazing actor and now the same being director ? father came from the same scottish island as myself so i loved the fact there was a real connection with this film the witty remarks throughout the film were great it was just brilliant so much that i bought the film as soon as it was released for ? and would recommend it to everyone to watch and the fly fishing was amazing really cried at the end it was so sad and you know what they say if you cry at a film it must have been good and this definitely was also ? to the two little boy's that played the ? of norman and paul they were just brilliant children are often left out of the ? list i think because the stars that play them all grown up are such a big profile for the whole film but these children are amazing and should be praised for what they have done don't you think the whole story was so lovely because it was true and was someone's life after all that was shared with us all\n"
          ],
          "name": "stdout"
        }
      ]
    },
    {
      "cell_type": "markdown",
      "metadata": {
        "id": "cyXNpBWhSsTc"
      },
      "source": [
        "Dataset shape 확인"
      ]
    },
    {
      "cell_type": "code",
      "metadata": {
        "id": "Tiei5PLjStwm",
        "outputId": "382e176c-c9b9-4f6d-b8b0-6b60c5a1ffed",
        "colab": {
          "base_uri": "https://localhost:8080/",
          "height": 53
        }
      },
      "source": [
        "print(\"Train Datas Shape : {}\".format(train_data.shape))\n",
        "print(\"Train Labels Shape : {}\".format(train_labels.shape))\n"
      ],
      "execution_count": 29,
      "outputs": [
        {
          "output_type": "stream",
          "text": [
            "Train Datas Shape : (25000,)\n",
            "Train Labels Shape : (25000,)\n"
          ],
          "name": "stdout"
        }
      ]
    },
    {
      "cell_type": "markdown",
      "metadata": {
        "id": "QTmriZ7lTC2d"
      },
      "source": [
        "데이터 변환\n",
        "단어의 개수를 10,000개로 지정해두었고, 이 단어 인덱스를 원핫인코딩으로 변환하여 10,000차원의 벡터로 변경시키도록 합니다."
      ]
    },
    {
      "cell_type": "code",
      "metadata": {
        "id": "ylk9F1alTEWM"
      },
      "source": [
        "import numpy as np\n",
        "\n",
        "def vectorize_sequences(sequences, dimension=10000):\n",
        "    results = np.zeros((len(sequences), dimension)) # 크기가 들어온 리스트 (단어개수, 전체단어개수)이고, 모든 원소가 0인 행렬을 생성\n",
        "    for i, sequence in enumerate(sequences):\n",
        "        results[i, sequence] = 1.\n",
        "    return results"
      ],
      "execution_count": 30,
      "outputs": []
    },
    {
      "cell_type": "code",
      "metadata": {
        "id": "JDYp6cyQTIbv",
        "outputId": "be0ea226-4fe5-41a5-a09d-d2962bdf36b3",
        "colab": {
          "base_uri": "https://localhost:8080/",
          "height": 53
        }
      },
      "source": [
        "x_train = vectorize_sequences(train_data)\n",
        "x_test = vectorize_sequences(test_data)\n",
        "\n",
        "display(x_train.shape)\n",
        "display(x_test.shape)\n"
      ],
      "execution_count": 31,
      "outputs": [
        {
          "output_type": "display_data",
          "data": {
            "text/plain": [
              "(25000, 10000)"
            ]
          },
          "metadata": {
            "tags": []
          }
        },
        {
          "output_type": "display_data",
          "data": {
            "text/plain": [
              "(25000, 10000)"
            ]
          },
          "metadata": {
            "tags": []
          }
        }
      ]
    },
    {
      "cell_type": "code",
      "metadata": {
        "id": "M6nOFTN2TOxC",
        "outputId": "f9408d3f-da0e-45df-c955-c72cd02eb8e6",
        "colab": {
          "base_uri": "https://localhost:8080/",
          "height": 53
        }
      },
      "source": [
        "y_train = np.asarray(train_labels).astype('float32')\n",
        "y_test = np.asarray(test_labels).astype('float32')\n",
        "\n",
        "display(y_train)\n",
        "display(y_test)"
      ],
      "execution_count": 32,
      "outputs": [
        {
          "output_type": "display_data",
          "data": {
            "text/plain": [
              "array([1., 0., 0., ..., 0., 1., 0.], dtype=float32)"
            ]
          },
          "metadata": {
            "tags": []
          }
        },
        {
          "output_type": "display_data",
          "data": {
            "text/plain": [
              "array([0., 1., 1., ..., 0., 0., 0.], dtype=float32)"
            ]
          },
          "metadata": {
            "tags": []
          }
        }
      ]
    },
    {
      "cell_type": "markdown",
      "metadata": {
        "id": "fpVziojWTSAO"
      },
      "source": [
        "신경망 구성\n",
        "신경망 네트워크 구축"
      ]
    },
    {
      "cell_type": "code",
      "metadata": {
        "id": "BxW0JH5dTUVf"
      },
      "source": [
        "from tensorflow.keras import models\n",
        "from tensorflow.keras import layers\n"
      ],
      "execution_count": 33,
      "outputs": []
    },
    {
      "cell_type": "code",
      "metadata": {
        "id": "AUCkMykkTaCj",
        "outputId": "fa74d21a-76f4-4c44-bf19-d257bc8ead4f",
        "colab": {
          "base_uri": "https://localhost:8080/",
          "height": 269
        }
      },
      "source": [
        "model = models.Sequential()\n",
        "model.add(layers.Dense(16, activation='relu', input_shape=(10000, )))\n",
        "model.add(layers.Dense(16, activation='relu'))\n",
        "model.add(layers.Dense(1, activation='sigmoid'))\n",
        "\n",
        "model.summary()"
      ],
      "execution_count": 34,
      "outputs": [
        {
          "output_type": "stream",
          "text": [
            "Model: \"sequential\"\n",
            "_________________________________________________________________\n",
            "Layer (type)                 Output Shape              Param #   \n",
            "=================================================================\n",
            "dense (Dense)                (None, 16)                160016    \n",
            "_________________________________________________________________\n",
            "dense_1 (Dense)              (None, 16)                272       \n",
            "_________________________________________________________________\n",
            "dense_2 (Dense)              (None, 1)                 17        \n",
            "=================================================================\n",
            "Total params: 160,305\n",
            "Trainable params: 160,305\n",
            "Non-trainable params: 0\n",
            "_________________________________________________________________\n"
          ],
          "name": "stdout"
        }
      ]
    },
    {
      "cell_type": "markdown",
      "metadata": {
        "id": "xYLOYOGuTe-7"
      },
      "source": [
        "모델 컴파일\n",
        "모델을 사용하기 위해선 네트워크를 구성한 모델을 컴파일하는 과정이 필요합니다.\n",
        "rmsprop 옵티마이저를 사용하고,\n",
        "확률을 출력하는 모델을 사용할 때는 크로스엔트로피가 최선의 선택인데,\n",
        "이진 분류로 각 확률을 구하는 모델이니 binary crossentropy를 사용합니다."
      ]
    },
    {
      "cell_type": "code",
      "metadata": {
        "id": "JawXfh8dTgpP"
      },
      "source": [
        "from tensorflow.keras import optimizers\n",
        "from tensorflow.keras import metrics\n",
        "from tensorflow.keras import losses\n",
        "\n",
        "model.compile(\n",
        "#     optimizer='rmsprop',\n",
        "    optimizer=optimizers.RMSprop(lr=0.001),\n",
        "#     loss='binary_crossentropy',\n",
        "    loss=losses.binary_crossentropy,\n",
        "#     metrics=['accuracy']\n",
        "    metrics=[metrics.binary_accuracy]\n",
        ")"
      ],
      "execution_count": 35,
      "outputs": []
    },
    {
      "cell_type": "markdown",
      "metadata": {
        "id": "JyFdttF4TmVg"
      },
      "source": [
        "검증 데이터 준비 (Validation)\n",
        "훈련하는 동안 처음 본 데이터에 대한 모델의 정확도를 측정하기 위해\n",
        "원본 훈련 데이터에서 10,000개의 샘플을 떼내어 검증 데이터 세트를 만들겠습니다."
      ]
    },
    {
      "cell_type": "code",
      "metadata": {
        "id": "SNUnbdxyTnQZ"
      },
      "source": [
        "x_val = x_train[:10000]\n",
        "partial_x_train = x_train[10000:]\n",
        "y_val = y_train[:10000]\n",
        "partial_y_train = y_train[10000:]\n"
      ],
      "execution_count": 36,
      "outputs": []
    },
    {
      "cell_type": "markdown",
      "metadata": {
        "id": "Xg7wJV7OTtC9"
      },
      "source": [
        "모델 학습\n",
        "512의 샘플씩 미니배치를 만들어 20번의 에폭동안 훈련시키고,\n",
        "앞에서 떼어놓은 10,000개의 데이터를 이용해 손실과 정확도를 측정하겠습니다"
      ]
    },
    {
      "cell_type": "code",
      "metadata": {
        "id": "lxq1oR7nTuTW",
        "outputId": "97161314-be81-4230-94c6-6693a81adceb",
        "colab": {
          "base_uri": "https://localhost:8080/",
          "height": 737
        }
      },
      "source": [
        "history = model.fit(\n",
        "    partial_x_train,\n",
        "    partial_y_train,\n",
        "    epochs=20,\n",
        "    batch_size=512,\n",
        "    validation_data=(x_val, y_val),\n",
        ")"
      ],
      "execution_count": 37,
      "outputs": [
        {
          "output_type": "stream",
          "text": [
            "Epoch 1/20\n",
            "30/30 [==============================] - 2s 72ms/step - loss: 0.5094 - binary_accuracy: 0.7839 - val_loss: 0.3835 - val_binary_accuracy: 0.8646\n",
            "Epoch 2/20\n",
            "30/30 [==============================] - 1s 40ms/step - loss: 0.2993 - binary_accuracy: 0.9065 - val_loss: 0.3003 - val_binary_accuracy: 0.8889\n",
            "Epoch 3/20\n",
            "30/30 [==============================] - 1s 31ms/step - loss: 0.2220 - binary_accuracy: 0.9283 - val_loss: 0.2761 - val_binary_accuracy: 0.8902\n",
            "Epoch 4/20\n",
            "30/30 [==============================] - 1s 33ms/step - loss: 0.1726 - binary_accuracy: 0.9451 - val_loss: 0.2768 - val_binary_accuracy: 0.8889\n",
            "Epoch 5/20\n",
            "30/30 [==============================] - 1s 32ms/step - loss: 0.1433 - binary_accuracy: 0.9552 - val_loss: 0.3008 - val_binary_accuracy: 0.8802\n",
            "Epoch 6/20\n",
            "30/30 [==============================] - 1s 32ms/step - loss: 0.1163 - binary_accuracy: 0.9650 - val_loss: 0.2942 - val_binary_accuracy: 0.8859\n",
            "Epoch 7/20\n",
            "30/30 [==============================] - 1s 32ms/step - loss: 0.0976 - binary_accuracy: 0.9709 - val_loss: 0.3077 - val_binary_accuracy: 0.8833\n",
            "Epoch 8/20\n",
            "30/30 [==============================] - 1s 32ms/step - loss: 0.0798 - binary_accuracy: 0.9785 - val_loss: 0.3583 - val_binary_accuracy: 0.8714\n",
            "Epoch 9/20\n",
            "30/30 [==============================] - 1s 32ms/step - loss: 0.0649 - binary_accuracy: 0.9836 - val_loss: 0.3521 - val_binary_accuracy: 0.8778\n",
            "Epoch 10/20\n",
            "30/30 [==============================] - 1s 32ms/step - loss: 0.0551 - binary_accuracy: 0.9865 - val_loss: 0.3724 - val_binary_accuracy: 0.8792\n",
            "Epoch 11/20\n",
            "30/30 [==============================] - 1s 32ms/step - loss: 0.0444 - binary_accuracy: 0.9895 - val_loss: 0.4007 - val_binary_accuracy: 0.8756\n",
            "Epoch 12/20\n",
            "30/30 [==============================] - 1s 33ms/step - loss: 0.0344 - binary_accuracy: 0.9931 - val_loss: 0.4367 - val_binary_accuracy: 0.8716\n",
            "Epoch 13/20\n",
            "30/30 [==============================] - 1s 33ms/step - loss: 0.0290 - binary_accuracy: 0.9948 - val_loss: 0.4580 - val_binary_accuracy: 0.8728\n",
            "Epoch 14/20\n",
            "30/30 [==============================] - 1s 32ms/step - loss: 0.0229 - binary_accuracy: 0.9965 - val_loss: 0.4850 - val_binary_accuracy: 0.8731\n",
            "Epoch 15/20\n",
            "30/30 [==============================] - 1s 32ms/step - loss: 0.0163 - binary_accuracy: 0.9982 - val_loss: 0.5373 - val_binary_accuracy: 0.8653\n",
            "Epoch 16/20\n",
            "30/30 [==============================] - 1s 32ms/step - loss: 0.0146 - binary_accuracy: 0.9979 - val_loss: 0.5511 - val_binary_accuracy: 0.8707\n",
            "Epoch 17/20\n",
            "30/30 [==============================] - 1s 32ms/step - loss: 0.0108 - binary_accuracy: 0.9986 - val_loss: 0.5867 - val_binary_accuracy: 0.8678\n",
            "Epoch 18/20\n",
            "30/30 [==============================] - 1s 33ms/step - loss: 0.0080 - binary_accuracy: 0.9993 - val_loss: 0.6123 - val_binary_accuracy: 0.8672\n",
            "Epoch 19/20\n",
            "30/30 [==============================] - 1s 32ms/step - loss: 0.0064 - binary_accuracy: 0.9997 - val_loss: 0.6518 - val_binary_accuracy: 0.8676\n",
            "Epoch 20/20\n",
            "30/30 [==============================] - 1s 31ms/step - loss: 0.0056 - binary_accuracy: 0.9995 - val_loss: 0.6816 - val_binary_accuracy: 0.8663\n"
          ],
          "name": "stdout"
        }
      ]
    },
    {
      "cell_type": "markdown",
      "metadata": {
        "id": "-KwzJqtRT3N7"
      },
      "source": [
        "모델의 훈련 정보 그리기\n",
        "위에서 fit의 반환으로 받은 history는 각각의 훈련 데이터세트와 검증 데이터세트에 대한 매 에폭마다의 손실율과 정확도를 가지고 있습니다.\n",
        "해당 지표를 matplot를 이용해 시각화 하도록 해보겠습니다."
      ]
    },
    {
      "cell_type": "code",
      "metadata": {
        "id": "xzrmrcrjT4WS"
      },
      "source": [
        "import matplotlib.pyplot as plt\n",
        "\n",
        "def show_graph(history):\n",
        "    history_dict = history.history\n",
        "    accuracy = history_dict['binary_accuracy']\n",
        "    val_accuracy = history_dict['val_binary_accuracy']\n",
        "    loss = history_dict['loss']\n",
        "    val_loss = history_dict['val_loss']\n",
        "\n",
        "    epochs = range(1, len(loss) + 1)\n",
        "    \n",
        "    plt.figure(figsize=(16, 1))\n",
        "    \n",
        "    plt.subplot(121)\n",
        "    plt.subplots_adjust(top=2)\n",
        "    plt.plot(epochs, accuracy, 'ro', label='Training accuracy')\n",
        "    plt.plot(epochs, val_accuracy, 'r', label='Validation accuracy')\n",
        "    plt.title('Trainging and validation accuracy and loss')\n",
        "    plt.xlabel('Epochs')\n",
        "    plt.ylabel('Accuracy and Loss')\n",
        "\n",
        "    plt.legend(loc='upper center', bbox_to_anchor=(0.5, -0.1),\n",
        "              fancybox=True, shadow=True, ncol=5)\n",
        "#     plt.legend(bbox_to_anchor=(1, -0.1))\n",
        "\n",
        "    plt.subplot(122)\n",
        "    plt.plot(epochs, loss, 'bo', label='Training loss')\n",
        "    plt.plot(epochs, val_loss, 'b', label='Validation loss')\n",
        "    plt.title('Training and validation loss')\n",
        "    plt.xlabel('Epochs')\n",
        "    plt.ylabel('Loss')\n",
        "    plt.legend(loc='upper center', bbox_to_anchor=(0.5, -0.1),\n",
        "          fancybox=True, shadow=True, ncol=5)\n",
        "#     plt.legend(bbox_to_anchor=(1, 0))\n",
        "\n",
        "    plt.show()"
      ],
      "execution_count": 40,
      "outputs": []
    },
    {
      "cell_type": "code",
      "metadata": {
        "id": "HjGwI40IT-Yi",
        "outputId": "b96ecf8f-a0fd-42a0-f2ca-5b107ec01961",
        "colab": {
          "base_uri": "https://localhost:8080/",
          "height": 218
        }
      },
      "source": [
        "show_graph(history)\n"
      ],
      "execution_count": 41,
      "outputs": [
        {
          "output_type": "display_data",
          "data": {
            "image/png": "[encoded data removed]",
            "text/plain": [
              "<Figure size 1152x72 with 2 Axes>"
            ]
          },
          "metadata": {
            "tags": [],
            "needs_background": "light"
          }
        }
      ]
    },
    {
      "cell_type": "markdown",
      "metadata": {
        "id": "IaogDRZrUCOB"
      },
      "source": [
        "훈련 데이터셋의 그래프를(점선) 먼저 확인해보면,\n",
        "각 에폭이 돌때마다 정확도가 오르고, 손실은 줄어드는 형태로 제대로 학습이 된것 처럼 보이나, 검증 데이터셋(실선)을 보게 되면 그렇지 않습니다.\n",
        "각 에폭마다도 정확도는 오르지 않고, 손실이 늘어나는걸 확인할 수 있는데, 이런 경우 훈련 데이터셋에 과대적합(overfitting) 되었다고 합니다.\n",
        "과대적합이 된 경우 모델이 새로운 데이터셋을 만났을 때 제대로 분류를 하지 못하게 됩니다."
      ]
    },
    {
      "cell_type": "markdown",
      "metadata": {
        "id": "4ee7JYVIUD45"
      },
      "source": [
        "모델 재학습하기\n",
        "아까와 동일한 형태의 모델을 구성하고,\n",
        "학습과 관련된 하이퍼파라미터만 변경하여 과대적합을 피해보겠습니다."
      ]
    },
    {
      "cell_type": "code",
      "metadata": {
        "id": "l7WUsWuJUGRJ",
        "outputId": "4c1ff3f1-cc04-46c6-dda1-78bc849ec8f7",
        "colab": {
          "base_uri": "https://localhost:8080/",
          "height": 269
        }
      },
      "source": [
        "model = models.Sequential()\n",
        "model.add(layers.Dense(16, activation='relu', input_shape=(10000, )))\n",
        "model.add(layers.Dense(16, activation='relu'))\n",
        "model.add(layers.Dense(1, activation='sigmoid'))\n",
        "\n",
        "model.summary()"
      ],
      "execution_count": 42,
      "outputs": [
        {
          "output_type": "stream",
          "text": [
            "Model: \"sequential_3\"\n",
            "_________________________________________________________________\n",
            "Layer (type)                 Output Shape              Param #   \n",
            "=================================================================\n",
            "dense_9 (Dense)              (None, 16)                160016    \n",
            "_________________________________________________________________\n",
            "dense_10 (Dense)             (None, 16)                272       \n",
            "_________________________________________________________________\n",
            "dense_11 (Dense)             (None, 1)                 17        \n",
            "=================================================================\n",
            "Total params: 160,305\n",
            "Trainable params: 160,305\n",
            "Non-trainable params: 0\n",
            "_________________________________________________________________\n"
          ],
          "name": "stdout"
        }
      ]
    },
    {
      "cell_type": "code",
      "metadata": {
        "id": "B1gCyRyLUMA4"
      },
      "source": [
        "model.compile(\n",
        "    optimizer=optimizers.RMSprop(lr=0.001),\n",
        "    loss=losses.binary_crossentropy,\n",
        "    metrics=[metrics.binary_accuracy]\n",
        ")"
      ],
      "execution_count": 43,
      "outputs": []
    },
    {
      "cell_type": "code",
      "metadata": {
        "id": "wkoz7W9PUOLJ",
        "outputId": "03261f31-b57f-47f3-a14a-95bcf122930d",
        "colab": {
          "base_uri": "https://localhost:8080/",
          "height": 305
        }
      },
      "source": [
        "history = model.fit(\n",
        "    partial_x_train,\n",
        "    partial_y_train,\n",
        "    epochs=8,\n",
        "    batch_size=512,\n",
        "    validation_data=(x_val, y_val),\n",
        ")"
      ],
      "execution_count": 44,
      "outputs": [
        {
          "output_type": "stream",
          "text": [
            "Epoch 1/8\n",
            "30/30 [==============================] - 1s 40ms/step - loss: 0.5379 - binary_accuracy: 0.7813 - val_loss: 0.4133 - val_binary_accuracy: 0.8686\n",
            "Epoch 2/8\n",
            "30/30 [==============================] - 1s 31ms/step - loss: 0.3284 - binary_accuracy: 0.9013 - val_loss: 0.3163 - val_binary_accuracy: 0.8864\n",
            "Epoch 3/8\n",
            "30/30 [==============================] - 1s 32ms/step - loss: 0.2411 - binary_accuracy: 0.9216 - val_loss: 0.2877 - val_binary_accuracy: 0.8890\n",
            "Epoch 4/8\n",
            "30/30 [==============================] - 1s 32ms/step - loss: 0.1888 - binary_accuracy: 0.9407 - val_loss: 0.2740 - val_binary_accuracy: 0.8902\n",
            "Epoch 5/8\n",
            "30/30 [==============================] - 1s 31ms/step - loss: 0.1532 - binary_accuracy: 0.9519 - val_loss: 0.2763 - val_binary_accuracy: 0.8899\n",
            "Epoch 6/8\n",
            "30/30 [==============================] - 1s 33ms/step - loss: 0.1254 - binary_accuracy: 0.9609 - val_loss: 0.3152 - val_binary_accuracy: 0.8800\n",
            "Epoch 7/8\n",
            "30/30 [==============================] - 1s 32ms/step - loss: 0.1045 - binary_accuracy: 0.9683 - val_loss: 0.3107 - val_binary_accuracy: 0.8802\n",
            "Epoch 8/8\n",
            "30/30 [==============================] - 1s 32ms/step - loss: 0.0872 - binary_accuracy: 0.9751 - val_loss: 0.3193 - val_binary_accuracy: 0.8837\n"
          ],
          "name": "stdout"
        }
      ]
    },
    {
      "cell_type": "code",
      "metadata": {
        "id": "BfKrc9-0UT2X",
        "outputId": "a6e260d5-5e5c-4b4b-e6be-ddca47e3fadf",
        "colab": {
          "base_uri": "https://localhost:8080/",
          "height": 218
        }
      },
      "source": [
        "show_graph(history)\n"
      ],
      "execution_count": 45,
      "outputs": [
        {
          "output_type": "display_data",
          "data": {
            "image/png": "[encoded data removed]",
            "text/plain": [
              "<Figure size 1152x72 with 2 Axes>"
            ]
          },
          "metadata": {
            "tags": [],
            "needs_background": "light"
          }
        }
      ]
    },
    {
      "cell_type": "markdown",
      "metadata": {
        "id": "ocVa92GcUXsp"
      },
      "source": [
        "아까보단 모델이 상대적으로 과대적합 되지 않았습니다.\n",
        "손실 그래프를 확인했을 때 2에폭과 3에폭이 훈련 세트와 검증 세트가 가장 근접한 손실을 갖고있는걸 확인할 수 있고,\n",
        "정확도 또한 2,3에폭이 가장 근접한걸 확인할 수 있습니다.\n",
        "즉, 이 모델의 경우 2에폭 혹은 3에폭을 돌렸을 때 과대적합을 가장 피할 수 있는 학습상태가 된다는걸 확인할 수 있습니다.\n",
        "이렇게 학습에 파라미터를 조작하는 것 이외에도 과대적합을 피하는 기법이 많이 존재합니다."
      ]
    },
    {
      "cell_type": "markdown",
      "metadata": {
        "id": "Lx4fIBFBUaSk"
      },
      "source": [
        "모델의 평가\n",
        "모델의 정확도를 측정합니다."
      ]
    },
    {
      "cell_type": "code",
      "metadata": {
        "id": "5LPBi9pgUeHx",
        "outputId": "29881c6c-9578-4051-f792-eb729191ed64",
        "colab": {
          "base_uri": "https://localhost:8080/",
          "height": 53
        }
      },
      "source": [
        "loss, accuracy = model.evaluate(x_test, y_test)\n",
        "print('accuracy : {acc}, loss : {loss}'.format(acc=accuracy, loss=loss))\n"
      ],
      "execution_count": 46,
      "outputs": [
        {
          "output_type": "stream",
          "text": [
            "782/782 [==============================] - 1s 2ms/step - loss: 0.3486 - binary_accuracy: 0.8710\n",
            "accuracy : 0.8710399866104126, loss : 0.34857067465782166\n"
          ],
          "name": "stdout"
        }
      ]
    },
    {
      "cell_type": "markdown",
      "metadata": {
        "id": "PHb4buy9Uhik"
      },
      "source": [
        "모델의 예측\n",
        "긍정이거나 부정일 확률 (높으면 긍정, 낮으면 부정)"
      ]
    },
    {
      "cell_type": "code",
      "metadata": {
        "id": "EVtir7IvUk4N",
        "outputId": "f27ed4d6-fc32-4306-aa68-9e75c7e6af07",
        "colab": {
          "base_uri": "https://localhost:8080/",
          "height": 197
        }
      },
      "source": [
        "model.predict(x_test[:10])\n"
      ],
      "execution_count": 47,
      "outputs": [
        {
          "output_type": "execute_result",
          "data": {
            "text/plain": [
              "array([[0.13573644],\n",
              "       [0.9999739 ],\n",
              "       [0.95360404],\n",
              "       [0.82968354],\n",
              "       [0.964339  ],\n",
              "       [0.95451415],\n",
              "       [0.9969147 ],\n",
              "       [0.00833964],\n",
              "       [0.93460244],\n",
              "       [0.9993917 ]], dtype=float32)"
            ]
          },
          "metadata": {
            "tags": []
          },
          "execution_count": 47
        }
      ]
    },
    {
      "cell_type": "markdown",
      "metadata": {
        "id": "DzWCRr0XUoa1"
      },
      "source": [
        "번외. 레이어 변경하여 정확도 개선해보기\n",
        "레이어를 한개 더 추가하여 테스트 (Deep)"
      ]
    },
    {
      "cell_type": "code",
      "metadata": {
        "id": "MLCXTaBMUpT_",
        "outputId": "7d19c355-912b-4a9f-bec9-99584bc4ff98",
        "colab": {
          "base_uri": "https://localhost:8080/",
          "height": 305
        }
      },
      "source": [
        "model = models.Sequential()\n",
        "model.add(layers.Dense(16, activation='relu', input_shape=(10000, )))\n",
        "model.add(layers.Dense(16, activation='relu'))\n",
        "model.add(layers.Dense(16, activation='relu'))\n",
        "model.add(layers.Dense(1, activation='sigmoid'))\n",
        "\n",
        "model.summary()\n",
        "\n",
        "model.compile(\n",
        "    optimizer=optimizers.RMSprop(lr=0.001),\n",
        "    loss=losses.binary_crossentropy,\n",
        "    metrics=[metrics.binary_accuracy]\n",
        ")"
      ],
      "execution_count": 48,
      "outputs": [
        {
          "output_type": "stream",
          "text": [
            "Model: \"sequential_4\"\n",
            "_________________________________________________________________\n",
            "Layer (type)                 Output Shape              Param #   \n",
            "=================================================================\n",
            "dense_12 (Dense)             (None, 16)                160016    \n",
            "_________________________________________________________________\n",
            "dense_13 (Dense)             (None, 16)                272       \n",
            "_________________________________________________________________\n",
            "dense_14 (Dense)             (None, 16)                272       \n",
            "_________________________________________________________________\n",
            "dense_15 (Dense)             (None, 1)                 17        \n",
            "=================================================================\n",
            "Total params: 160,577\n",
            "Trainable params: 160,577\n",
            "Non-trainable params: 0\n",
            "_________________________________________________________________\n"
          ],
          "name": "stdout"
        }
      ]
    },
    {
      "cell_type": "code",
      "metadata": {
        "id": "0Qff6GCiUvl3",
        "outputId": "1257c30c-b545-4f09-e273-68ff374ba330",
        "colab": {
          "base_uri": "https://localhost:8080/",
          "height": 305
        }
      },
      "source": [
        "history = model.fit(\n",
        "    partial_x_train,\n",
        "    partial_y_train,\n",
        "    epochs=8,\n",
        "    batch_size=512,\n",
        "    validation_data=(x_val, y_val),\n",
        ")"
      ],
      "execution_count": 49,
      "outputs": [
        {
          "output_type": "stream",
          "text": [
            "Epoch 1/8\n",
            "30/30 [==============================] - 1s 41ms/step - loss: 0.5919 - binary_accuracy: 0.7607 - val_loss: 0.4611 - val_binary_accuracy: 0.8595\n",
            "Epoch 2/8\n",
            "30/30 [==============================] - 1s 32ms/step - loss: 0.3700 - binary_accuracy: 0.8941 - val_loss: 0.3649 - val_binary_accuracy: 0.8538\n",
            "Epoch 3/8\n",
            "30/30 [==============================] - 1s 33ms/step - loss: 0.2562 - binary_accuracy: 0.9209 - val_loss: 0.2871 - val_binary_accuracy: 0.8907\n",
            "Epoch 4/8\n",
            "30/30 [==============================] - 1s 33ms/step - loss: 0.1981 - binary_accuracy: 0.9361 - val_loss: 0.2967 - val_binary_accuracy: 0.8790\n",
            "Epoch 5/8\n",
            "30/30 [==============================] - 1s 33ms/step - loss: 0.1560 - binary_accuracy: 0.9520 - val_loss: 0.3058 - val_binary_accuracy: 0.8798\n",
            "Epoch 6/8\n",
            "30/30 [==============================] - 1s 33ms/step - loss: 0.1301 - binary_accuracy: 0.9595 - val_loss: 0.2881 - val_binary_accuracy: 0.8883\n",
            "Epoch 7/8\n",
            "30/30 [==============================] - 1s 33ms/step - loss: 0.1080 - binary_accuracy: 0.9676 - val_loss: 0.3112 - val_binary_accuracy: 0.8839\n",
            "Epoch 8/8\n",
            "30/30 [==============================] - 1s 33ms/step - loss: 0.0861 - binary_accuracy: 0.9763 - val_loss: 0.3232 - val_binary_accuracy: 0.8837\n"
          ],
          "name": "stdout"
        }
      ]
    },
    {
      "cell_type": "markdown",
      "metadata": {
        "id": "h05efV8uU3Fv"
      },
      "source": [
        "유닛을 추가하여 테스트 (Wide)"
      ]
    },
    {
      "cell_type": "code",
      "metadata": {
        "id": "vBGZvAdRU4Mz",
        "outputId": "96ef85ad-2428-40b6-caa4-82c5cd9c480c",
        "colab": {
          "base_uri": "https://localhost:8080/",
          "height": 269
        }
      },
      "source": [
        "model = models.Sequential()\n",
        "model.add(layers.Dense(64, activation='relu', input_shape=(10000, )))\n",
        "model.add(layers.Dense(64, activation='relu'))\n",
        "model.add(layers.Dense(1, activation='sigmoid'))\n",
        "\n",
        "model.summary()\n",
        "\n",
        "model.compile(\n",
        "    optimizer=optimizers.RMSprop(lr=0.001),\n",
        "    loss=losses.binary_crossentropy,\n",
        "    metrics=[metrics.binary_accuracy]\n",
        ")"
      ],
      "execution_count": 51,
      "outputs": [
        {
          "output_type": "stream",
          "text": [
            "Model: \"sequential_5\"\n",
            "_________________________________________________________________\n",
            "Layer (type)                 Output Shape              Param #   \n",
            "=================================================================\n",
            "dense_16 (Dense)             (None, 64)                640064    \n",
            "_________________________________________________________________\n",
            "dense_17 (Dense)             (None, 64)                4160      \n",
            "_________________________________________________________________\n",
            "dense_18 (Dense)             (None, 1)                 65        \n",
            "=================================================================\n",
            "Total params: 644,289\n",
            "Trainable params: 644,289\n",
            "Non-trainable params: 0\n",
            "_________________________________________________________________\n"
          ],
          "name": "stdout"
        }
      ]
    },
    {
      "cell_type": "code",
      "metadata": {
        "id": "IYMcYjTtU-ao",
        "outputId": "23a20c52-b271-495f-89ff-dca7edab5946",
        "colab": {
          "base_uri": "https://localhost:8080/",
          "height": 305
        }
      },
      "source": [
        "history = model.fit(\n",
        "    partial_x_train,\n",
        "    partial_y_train,\n",
        "    epochs=8,\n",
        "    batch_size=512,\n",
        "    validation_data=(x_val, y_val),\n",
        ")"
      ],
      "execution_count": 52,
      "outputs": [
        {
          "output_type": "stream",
          "text": [
            "Epoch 1/8\n",
            "30/30 [==============================] - 2s 60ms/step - loss: 0.4835 - binary_accuracy: 0.7782 - val_loss: 0.3422 - val_binary_accuracy: 0.8641\n",
            "Epoch 2/8\n",
            "30/30 [==============================] - 2s 53ms/step - loss: 0.2640 - binary_accuracy: 0.9033 - val_loss: 0.2990 - val_binary_accuracy: 0.8785\n",
            "Epoch 3/8\n",
            "30/30 [==============================] - 2s 54ms/step - loss: 0.1823 - binary_accuracy: 0.9345 - val_loss: 0.2994 - val_binary_accuracy: 0.8821\n",
            "Epoch 4/8\n",
            "30/30 [==============================] - 2s 54ms/step - loss: 0.1424 - binary_accuracy: 0.9481 - val_loss: 0.2967 - val_binary_accuracy: 0.8862\n",
            "Epoch 5/8\n",
            "30/30 [==============================] - 2s 53ms/step - loss: 0.1084 - binary_accuracy: 0.9621 - val_loss: 0.3196 - val_binary_accuracy: 0.8852\n",
            "Epoch 6/8\n",
            "30/30 [==============================] - 2s 55ms/step - loss: 0.0789 - binary_accuracy: 0.9747 - val_loss: 0.3481 - val_binary_accuracy: 0.8829\n",
            "Epoch 7/8\n",
            "30/30 [==============================] - 2s 53ms/step - loss: 0.0590 - binary_accuracy: 0.9814 - val_loss: 0.4161 - val_binary_accuracy: 0.8700\n",
            "Epoch 8/8\n",
            "30/30 [==============================] - 2s 55ms/step - loss: 0.0549 - binary_accuracy: 0.9830 - val_loss: 0.4184 - val_binary_accuracy: 0.8802\n"
          ],
          "name": "stdout"
        }
      ]
    },
    {
      "cell_type": "code",
      "metadata": {
        "id": "-dh0QcF4UzN_",
        "outputId": "b85a9398-6fd5-4964-883c-5a4bd1b37df6",
        "colab": {
          "base_uri": "https://localhost:8080/",
          "height": 218
        }
      },
      "source": [
        "show_graph(history)\n"
      ],
      "execution_count": 50,
      "outputs": [
        {
          "output_type": "display_data",
          "data": {
            "image/png": "[encoded data removed]",
            "text/plain": [
              "<Figure size 1152x72 with 2 Axes>"
            ]
          },
          "metadata": {
            "tags": [],
            "needs_background": "light"
          }
        }
      ]
    },
    {
      "cell_type": "markdown",
      "metadata": {
        "id": "zWZ2G3ERVIyV"
      },
      "source": [
        "깊고 넓게 구성하기 (Deep and wide network)"
      ]
    },
    {
      "cell_type": "code",
      "metadata": {
        "id": "2XkWx4doVLkA",
        "outputId": "e72ca4da-ad57-4193-9293-28ac783481a7",
        "colab": {
          "base_uri": "https://localhost:8080/",
          "height": 341
        }
      },
      "source": [
        "model = models.Sequential()\n",
        "model.add(layers.Dense(64, activation='relu', input_shape=(10000, )))\n",
        "model.add(layers.Dense(64, activation='relu'))\n",
        "model.add(layers.Dense(32, activation='relu'))\n",
        "model.add(layers.Dense(32, activation='relu'))\n",
        "model.add(layers.Dense(1, activation='sigmoid'))\n",
        "\n",
        "model.summary()\n",
        "\n",
        "model.compile(\n",
        "    optimizer=optimizers.RMSprop(lr=0.001),\n",
        "    loss=losses.binary_crossentropy,\n",
        "    metrics=[metrics.binary_accuracy]\n",
        ")"
      ],
      "execution_count": 54,
      "outputs": [
        {
          "output_type": "stream",
          "text": [
            "Model: \"sequential_6\"\n",
            "_________________________________________________________________\n",
            "Layer (type)                 Output Shape              Param #   \n",
            "=================================================================\n",
            "dense_19 (Dense)             (None, 64)                640064    \n",
            "_________________________________________________________________\n",
            "dense_20 (Dense)             (None, 64)                4160      \n",
            "_________________________________________________________________\n",
            "dense_21 (Dense)             (None, 32)                2080      \n",
            "_________________________________________________________________\n",
            "dense_22 (Dense)             (None, 32)                1056      \n",
            "_________________________________________________________________\n",
            "dense_23 (Dense)             (None, 1)                 33        \n",
            "=================================================================\n",
            "Total params: 647,393\n",
            "Trainable params: 647,393\n",
            "Non-trainable params: 0\n",
            "_________________________________________________________________\n"
          ],
          "name": "stdout"
        }
      ]
    },
    {
      "cell_type": "code",
      "metadata": {
        "id": "WbW-P_K7VPnz",
        "outputId": "67bcc0c8-b13d-4280-fe27-86c1fe039f21",
        "colab": {
          "base_uri": "https://localhost:8080/",
          "height": 305
        }
      },
      "source": [
        "history = model.fit(\n",
        "    partial_x_train,\n",
        "    partial_y_train,\n",
        "    epochs=8,\n",
        "    batch_size=512,\n",
        "    validation_data=(x_val, y_val),\n",
        ")"
      ],
      "execution_count": 55,
      "outputs": [
        {
          "output_type": "stream",
          "text": [
            "Epoch 1/8\n",
            "30/30 [==============================] - 2s 62ms/step - loss: 0.5157 - binary_accuracy: 0.7455 - val_loss: 0.3614 - val_binary_accuracy: 0.8526\n",
            "Epoch 2/8\n",
            "30/30 [==============================] - 2s 59ms/step - loss: 0.2784 - binary_accuracy: 0.8935 - val_loss: 0.2786 - val_binary_accuracy: 0.8884\n",
            "Epoch 3/8\n",
            "30/30 [==============================] - 2s 60ms/step - loss: 0.1898 - binary_accuracy: 0.9297 - val_loss: 0.3017 - val_binary_accuracy: 0.8816\n",
            "Epoch 4/8\n",
            "30/30 [==============================] - 2s 60ms/step - loss: 0.1434 - binary_accuracy: 0.9477 - val_loss: 0.2903 - val_binary_accuracy: 0.8900\n",
            "Epoch 5/8\n",
            "30/30 [==============================] - 2s 63ms/step - loss: 0.0916 - binary_accuracy: 0.9694 - val_loss: 0.3471 - val_binary_accuracy: 0.8845\n",
            "Epoch 6/8\n",
            "30/30 [==============================] - 2s 67ms/step - loss: 0.0847 - binary_accuracy: 0.9757 - val_loss: 0.3816 - val_binary_accuracy: 0.8854\n",
            "Epoch 7/8\n",
            "30/30 [==============================] - 2s 61ms/step - loss: 0.0634 - binary_accuracy: 0.9807 - val_loss: 0.3703 - val_binary_accuracy: 0.8808\n",
            "Epoch 8/8\n",
            "30/30 [==============================] - 2s 58ms/step - loss: 0.0129 - binary_accuracy: 0.9982 - val_loss: 0.5101 - val_binary_accuracy: 0.8806\n"
          ],
          "name": "stdout"
        }
      ]
    },
    {
      "cell_type": "code",
      "metadata": {
        "id": "UK4xJQW7VTf5",
        "outputId": "088c8aa0-2a34-4f44-ccf1-525f6f12d7dd",
        "colab": {
          "base_uri": "https://localhost:8080/",
          "height": 218
        }
      },
      "source": [
        "show_graph(history)\n"
      ],
      "execution_count": 56,
      "outputs": [
        {
          "output_type": "display_data",
          "data": {
            "image/png": "[encoded data removed]",
            "text/plain": [
              "<Figure size 1152x72 with 2 Axes>"
            ]
          },
          "metadata": {
            "tags": [],
            "needs_background": "light"
          }
        }
      ]
    },
    {
      "cell_type": "markdown",
      "metadata": {
        "id": "tr5FeVkgVWl1"
      },
      "source": [
        "손실함수 변경"
      ]
    },
    {
      "cell_type": "code",
      "metadata": {
        "id": "7M3ufFTOVXrW",
        "outputId": "7a8e8467-3b4a-4aa2-e687-4a45a8e4e568",
        "colab": {
          "base_uri": "https://localhost:8080/",
          "height": 341
        }
      },
      "source": [
        "model = models.Sequential()\n",
        "model.add(layers.Dense(64, activation='relu', input_shape=(10000, )))\n",
        "model.add(layers.Dense(64, activation='relu'))\n",
        "model.add(layers.Dense(32, activation='relu'))\n",
        "model.add(layers.Dense(32, activation='relu'))\n",
        "model.add(layers.Dense(1, activation='sigmoid'))\n",
        "\n",
        "model.summary()\n",
        "\n",
        "model.compile(\n",
        "    optimizer=optimizers.RMSprop(lr=0.001),\n",
        "    loss=losses.MSE,\n",
        "    metrics=[metrics.binary_accuracy]\n",
        ")"
      ],
      "execution_count": 57,
      "outputs": [
        {
          "output_type": "stream",
          "text": [
            "Model: \"sequential_7\"\n",
            "_________________________________________________________________\n",
            "Layer (type)                 Output Shape              Param #   \n",
            "=================================================================\n",
            "dense_24 (Dense)             (None, 64)                640064    \n",
            "_________________________________________________________________\n",
            "dense_25 (Dense)             (None, 64)                4160      \n",
            "_________________________________________________________________\n",
            "dense_26 (Dense)             (None, 32)                2080      \n",
            "_________________________________________________________________\n",
            "dense_27 (Dense)             (None, 32)                1056      \n",
            "_________________________________________________________________\n",
            "dense_28 (Dense)             (None, 1)                 33        \n",
            "=================================================================\n",
            "Total params: 647,393\n",
            "Trainable params: 647,393\n",
            "Non-trainable params: 0\n",
            "_________________________________________________________________\n"
          ],
          "name": "stdout"
        }
      ]
    },
    {
      "cell_type": "code",
      "metadata": {
        "id": "jt0ARL82Vdm7",
        "outputId": "490ab0f8-fa66-4268-a060-b83a4704d2dd",
        "colab": {
          "base_uri": "https://localhost:8080/",
          "height": 305
        }
      },
      "source": [
        "history = model.fit(\n",
        "    partial_x_train,\n",
        "    partial_y_train,\n",
        "    epochs=8,\n",
        "    batch_size=512,\n",
        "    validation_data=(x_val, y_val),\n",
        ")"
      ],
      "execution_count": 58,
      "outputs": [
        {
          "output_type": "stream",
          "text": [
            "Epoch 1/8\n",
            "30/30 [==============================] - 2s 60ms/step - loss: 0.1728 - binary_accuracy: 0.7488 - val_loss: 0.1075 - val_binary_accuracy: 0.8634\n",
            "Epoch 2/8\n",
            "30/30 [==============================] - 2s 53ms/step - loss: 0.0813 - binary_accuracy: 0.8973 - val_loss: 0.0965 - val_binary_accuracy: 0.8712\n",
            "Epoch 3/8\n",
            "30/30 [==============================] - 2s 54ms/step - loss: 0.0574 - binary_accuracy: 0.9257 - val_loss: 0.0887 - val_binary_accuracy: 0.8806\n",
            "Epoch 4/8\n",
            "30/30 [==============================] - 2s 54ms/step - loss: 0.0415 - binary_accuracy: 0.9489 - val_loss: 0.1058 - val_binary_accuracy: 0.8621\n",
            "Epoch 5/8\n",
            "30/30 [==============================] - 2s 66ms/step - loss: 0.0297 - binary_accuracy: 0.9649 - val_loss: 0.0965 - val_binary_accuracy: 0.8757\n",
            "Epoch 6/8\n",
            "30/30 [==============================] - 2s 80ms/step - loss: 0.0231 - binary_accuracy: 0.9725 - val_loss: 0.1033 - val_binary_accuracy: 0.8682\n",
            "Epoch 7/8\n",
            "30/30 [==============================] - 2s 54ms/step - loss: 0.0172 - binary_accuracy: 0.9799 - val_loss: 0.1120 - val_binary_accuracy: 0.8625\n",
            "Epoch 8/8\n",
            "30/30 [==============================] - 2s 53ms/step - loss: 0.0148 - binary_accuracy: 0.9826 - val_loss: 0.0985 - val_binary_accuracy: 0.8777\n"
          ],
          "name": "stdout"
        }
      ]
    },
    {
      "cell_type": "code",
      "metadata": {
        "id": "fRQU795GVgu7",
        "outputId": "08b2ab33-595b-44a8-a19d-36096e641580",
        "colab": {
          "base_uri": "https://localhost:8080/",
          "height": 218
        }
      },
      "source": [
        "show_graph(history)\n"
      ],
      "execution_count": 59,
      "outputs": [
        {
          "output_type": "display_data",
          "data": {
            "image/png": "[encoded data removed]",
            "text/plain": [
              "<Figure size 1152x72 with 2 Axes>"
            ]
          },
          "metadata": {
            "tags": [],
            "needs_background": "light"
          }
        }
      ]
    },
    {
      "cell_type": "markdown",
      "metadata": {
        "id": "zKtO3zB4CZnH"
      },
      "source": [
        "## Part 5:Multiple class classification"
      ]
    },
    {
      "cell_type": "code",
      "metadata": {
        "id": "rGm7FLKvCuJ8"
      },
      "source": [
        "Dataset\n",
        "로이터 데이터셋을 사용하도록 합니다.\n",
        "해당 데이터셋은 46개의 토픽을 갖고 있으며 각 뉴스기사마다 하나의 토픽이 정해져있습니다.\n",
        "즉, 단일 레이블 다중분류(class) 문제로 볼 수 있습니다."
      ],
      "execution_count": null,
      "outputs": []
    },
    {
      "cell_type": "markdown",
      "metadata": {
        "id": "Rnrs-fd-C5-p"
      },
      "source": [
        "Download"
      ]
    },
    {
      "cell_type": "code",
      "metadata": {
        "id": "1MMTB-wdC8Ri",
        "outputId": "c5203c47-f0a6-4264-9ddd-20db6dfa60f6",
        "colab": {
          "base_uri": "https://localhost:8080/",
          "height": 53
        }
      },
      "source": [
        "from tensorflow.keras.datasets import reuters\n",
        "(train_data, train_labels), (test_data, test_labels) = reuters.load_data(num_words=10000)\n"
      ],
      "execution_count": 1,
      "outputs": [
        {
          "output_type": "stream",
          "text": [
            "Downloading data from https://storage.googleapis.com/tensorflow/tf-keras-datasets/reuters.npz\n",
            "2113536/2110848 [==============================] - 0s 0us/step\n"
          ],
          "name": "stdout"
        }
      ]
    },
    {
      "cell_type": "markdown",
      "metadata": {
        "id": "LZTPpykIDHBW"
      },
      "source": [
        "Dataset shape확인"
      ]
    },
    {
      "cell_type": "code",
      "metadata": {
        "id": "VgPVodi-DLPw",
        "outputId": "e757cc26-e386-431c-da8b-b2c5579c4aae",
        "colab": {
          "base_uri": "https://localhost:8080/",
          "height": 53
        }
      },
      "source": [
        "print(\"Train Datas Shape : {}\".format(train_data.shape))\n",
        "print(\"Train Labels Shape : {}\".format(train_labels.shape))\n"
      ],
      "execution_count": 2,
      "outputs": [
        {
          "output_type": "stream",
          "text": [
            "Train Datas Shape : (8982,)\n",
            "Train Labels Shape : (8982,)\n"
          ],
          "name": "stdout"
        }
      ]
    },
    {
      "cell_type": "markdown",
      "metadata": {
        "id": "OrVGlTn3DTIp"
      },
      "source": [
        "데이터 확인\n",
        "확인한대로 8982개의 훈련 데이터셋이 존재하며,\n",
        "각 인덱스는 단어 인덱스의 리스트입니다."
      ]
    },
    {
      "cell_type": "code",
      "metadata": {
        "id": "MqYRXQQPDWOE",
        "outputId": "fb1036a8-f9cb-433f-a2f5-25b7f70e5f5c",
        "colab": {
          "base_uri": "https://localhost:8080/",
          "height": 71
        }
      },
      "source": [
        "display(train_data[0][:10])\n",
        "display(train_labels)\n",
        "\n",
        "display(test_labels)\n"
      ],
      "execution_count": 3,
      "outputs": [
        {
          "output_type": "display_data",
          "data": {
            "text/plain": [
              "[1, 2, 2, 8, 43, 10, 447, 5, 25, 207]"
            ]
          },
          "metadata": {
            "tags": []
          }
        },
        {
          "output_type": "display_data",
          "data": {
            "text/plain": [
              "array([ 3,  4,  3, ..., 25,  3, 25])"
            ]
          },
          "metadata": {
            "tags": []
          }
        },
        {
          "output_type": "display_data",
          "data": {
            "text/plain": [
              "array([ 3, 10,  1, ...,  3,  3, 24])"
            ]
          },
          "metadata": {
            "tags": []
          }
        }
      ]
    },
    {
      "cell_type": "markdown",
      "metadata": {
        "id": "GEdtCglcDc-1"
      },
      "source": [
        "단어를 텍스트로 디코딩"
      ]
    },
    {
      "cell_type": "code",
      "metadata": {
        "id": "XGwjz7P_Dgum",
        "outputId": "5743a953-e8d6-4e07-82ad-8f0225e3955b",
        "colab": {
          "base_uri": "https://localhost:8080/",
          "height": 91
        }
      },
      "source": [
        "word_index = reuters.get_word_index()\n",
        "reverse_word_index = dict([(val, key) for (key, val) in word_index.items()])\n",
        "decoded_news = ' '.join([reverse_word_index.get(i - 3, '?') for i in train_data[0]])\n",
        "print(decoded_news)"
      ],
      "execution_count": 4,
      "outputs": [
        {
          "output_type": "stream",
          "text": [
            "Downloading data from https://storage.googleapis.com/tensorflow/tf-keras-datasets/reuters_word_index.json\n",
            "557056/550378 [==============================] - 0s 0us/step\n",
            "? ? ? said as a result of its december acquisition of space co it expects earnings per share in 1987 of 1 15 to 1 30 dlrs per share up from 70 cts in 1986 the company said pretax net should rise to nine to 10 mln dlrs from six mln dlrs in 1986 and rental operation revenues to 19 to 22 mln dlrs from 12 5 mln dlrs it said cash flow per share this year should be 2 50 to three dlrs reuter 3\n"
          ],
          "name": "stdout"
        }
      ]
    },
    {
      "cell_type": "markdown",
      "metadata": {
        "id": "Ep_U5NqDDlMf"
      },
      "source": [
        "라벨확인\n",
        "샘플의 라벨은 토픽의 인덱스로 0~45의 값을 갖습니다."
      ]
    },
    {
      "cell_type": "code",
      "metadata": {
        "id": "JRSho3v-DoPC",
        "outputId": "0ad3ae88-845b-4bc5-cc5a-3a55724a6588",
        "colab": {
          "base_uri": "https://localhost:8080/",
          "height": 35
        }
      },
      "source": [
        "train_labels[0]"
      ],
      "execution_count": 5,
      "outputs": [
        {
          "output_type": "execute_result",
          "data": {
            "text/plain": [
              "3"
            ]
          },
          "metadata": {
            "tags": []
          },
          "execution_count": 5
        }
      ]
    },
    {
      "cell_type": "markdown",
      "metadata": {
        "id": "gkHn-RJgEEgY"
      },
      "source": [
        "데이터 변환\n",
        "학습에 용이하도록 뉴스 기사와 라벨 데이터를 벡터로 변환시킵니다.\n",
        "학습에 사용되는 데이터셋의 인풋 데이터는 해당 뉴스 기사의 들어가있는 단어 인덱스를 1.0 으로 변경시킵니다."
      ]
    },
    {
      "cell_type": "code",
      "metadata": {
        "id": "rhDHE4vJEJ5e"
      },
      "source": [
        "import numpy as np\n",
        "\n",
        "def vectorize_sequences(sequences, dimension=10000):\n",
        "    results = np.zeros((len(sequences), dimension)) # 크기가 들어온 리스트 (단어개수, 전체단어개수)이고, 모든 원소가 0인 행렬을 생성\n",
        "    for i, sequence in enumerate(sequences):\n",
        "        results[i, sequence] = 1.\n",
        "    return results"
      ],
      "execution_count": 6,
      "outputs": []
    },
    {
      "cell_type": "code",
      "metadata": {
        "id": "ddr1_RyAEQIp",
        "outputId": "b08c4b90-7332-4225-8db2-94051d1f0a78",
        "colab": {
          "base_uri": "https://localhost:8080/",
          "height": 89
        }
      },
      "source": [
        "from tensorflow.keras.utils import to_categorical\n",
        "\n",
        "x_train = vectorize_sequences(train_data)\n",
        "x_test = vectorize_sequences(test_data)\n",
        "\n",
        "display(x_train.shape)\n",
        "display(x_test.shape)\n",
        "\n",
        "one_hot_train_labels = to_categorical(train_labels)\n",
        "one_hot_test_labels = to_categorical(test_labels)\n",
        "\n",
        "display(one_hot_train_labels.shape)\n",
        "display(one_hot_test_labels.shape)"
      ],
      "execution_count": 7,
      "outputs": [
        {
          "output_type": "display_data",
          "data": {
            "text/plain": [
              "(8982, 10000)"
            ]
          },
          "metadata": {
            "tags": []
          }
        },
        {
          "output_type": "display_data",
          "data": {
            "text/plain": [
              "(2246, 10000)"
            ]
          },
          "metadata": {
            "tags": []
          }
        },
        {
          "output_type": "display_data",
          "data": {
            "text/plain": [
              "(8982, 46)"
            ]
          },
          "metadata": {
            "tags": []
          }
        },
        {
          "output_type": "display_data",
          "data": {
            "text/plain": [
              "(2246, 46)"
            ]
          },
          "metadata": {
            "tags": []
          }
        }
      ]
    },
    {
      "cell_type": "markdown",
      "metadata": {
        "id": "BtAhck-iETmP"
      },
      "source": [
        "신경망 네트워크 구축\n",
        "로이터 데이터셋의 단어수를 10,000개로 제한해두었으니,\n",
        "신경망의 입력 차원수도 10,000으로 설정합니다."
      ]
    },
    {
      "cell_type": "code",
      "metadata": {
        "id": "JfnXYtoGEYa8",
        "outputId": "6869ad88-1b7c-4468-904e-fd571bf38072",
        "colab": {
          "base_uri": "https://localhost:8080/",
          "height": 269
        }
      },
      "source": [
        "from tensorflow.keras import models\n",
        "from tensorflow.keras import layers\n",
        "\n",
        "model = models.Sequential()\n",
        "model.add(layers.Dense(64, activation='relu', input_shape=(10000, )))\n",
        "model.add(layers.Dense(64, activation='relu'))\n",
        "model.add(layers.Dense(46, activation='softmax'))\n",
        "\n",
        "model.summary()"
      ],
      "execution_count": 8,
      "outputs": [
        {
          "output_type": "stream",
          "text": [
            "Model: \"sequential\"\n",
            "_________________________________________________________________\n",
            "Layer (type)                 Output Shape              Param #   \n",
            "=================================================================\n",
            "dense (Dense)                (None, 64)                640064    \n",
            "_________________________________________________________________\n",
            "dense_1 (Dense)              (None, 64)                4160      \n",
            "_________________________________________________________________\n",
            "dense_2 (Dense)              (None, 46)                2990      \n",
            "=================================================================\n",
            "Total params: 647,214\n",
            "Trainable params: 647,214\n",
            "Non-trainable params: 0\n",
            "_________________________________________________________________\n"
          ],
          "name": "stdout"
        }
      ]
    },
    {
      "cell_type": "markdown",
      "metadata": {
        "id": "GUInnLPzEerI"
      },
      "source": [
        "이진분류와 비슷하게 마지막 Dense 레이어의 아웃풋 벡터 개수는(46개) 예측하기 위한 클래스의 개수와 동일합니다.\n",
        "다른점은 이진 분류에서는 활성함수로 sigmoid를 사용한 반면 여기서는 softmax를 이용했는데,\n",
        "softmax는 각 클래스별로 해당 클래스 일 확률을 표시하도록 만들어집니다."
      ]
    },
    {
      "cell_type": "markdown",
      "metadata": {
        "id": "UtTSu3MNEipH"
      },
      "source": [
        "모델 컴파일\n",
        "다중 분류에서 손실함수로써는 categorical_crossentropy를 주로 사용합니다.\n",
        "옵티마이저는 가장 빠르고 효과가 좋다고 알려진 adam 옵티마이저를 사용하도록 설정합니다."
      ]
    },
    {
      "cell_type": "code",
      "metadata": {
        "id": "5puKfm5SElli"
      },
      "source": [
        "model.compile(\n",
        "    optimizer='adam',\n",
        "    loss='categorical_crossentropy',\n",
        "    metrics=['accuracy'],\n",
        ")"
      ],
      "execution_count": 9,
      "outputs": []
    },
    {
      "cell_type": "markdown",
      "metadata": {
        "id": "7TEY3czdEsh-"
      },
      "source": [
        "검증 데이터셋 구성\n",
        "훈련용 데이터셋에서 Validation으로 사용할 데이터셋을 분리시킵니다."
      ]
    },
    {
      "cell_type": "code",
      "metadata": {
        "id": "WWJbt8knEt2G"
      },
      "source": [
        "x_val = x_train[:1000]\n",
        "partial_x_train = x_train[1000:]\n",
        "\n",
        "y_val = one_hot_train_labels[:1000]\n",
        "partial_y_train = one_hot_train_labels[1000:]\n"
      ],
      "execution_count": 10,
      "outputs": []
    },
    {
      "cell_type": "markdown",
      "metadata": {
        "id": "xE06Nb3GE2YC"
      },
      "source": [
        "모델 학습"
      ]
    },
    {
      "cell_type": "code",
      "metadata": {
        "id": "XAX10-shE3G-",
        "outputId": "388935c9-e303-40ad-bc78-a9d4458df31a",
        "colab": {
          "base_uri": "https://localhost:8080/",
          "height": 737
        }
      },
      "source": [
        "history = model.fit(\n",
        "    partial_x_train, \n",
        "    partial_y_train,\n",
        "    epochs=20,\n",
        "    batch_size=512,\n",
        "    validation_data=(x_val, y_val)\n",
        ")"
      ],
      "execution_count": 11,
      "outputs": [
        {
          "output_type": "stream",
          "text": [
            "Epoch 1/20\n",
            "16/16 [==============================] - 1s 55ms/step - loss: 3.2115 - accuracy: 0.4635 - val_loss: 2.4255 - val_accuracy: 0.5470\n",
            "Epoch 2/20\n",
            "16/16 [==============================] - 1s 43ms/step - loss: 1.9388 - accuracy: 0.5940 - val_loss: 1.5948 - val_accuracy: 0.6300\n",
            "Epoch 3/20\n",
            "16/16 [==============================] - 1s 41ms/step - loss: 1.3579 - accuracy: 0.7031 - val_loss: 1.3067 - val_accuracy: 0.7030\n",
            "Epoch 4/20\n",
            "16/16 [==============================] - 1s 42ms/step - loss: 1.0508 - accuracy: 0.7710 - val_loss: 1.1266 - val_accuracy: 0.7500\n",
            "Epoch 5/20\n",
            "16/16 [==============================] - 1s 43ms/step - loss: 0.8208 - accuracy: 0.8281 - val_loss: 1.0150 - val_accuracy: 0.7870\n",
            "Epoch 6/20\n",
            "16/16 [==============================] - 1s 41ms/step - loss: 0.6362 - accuracy: 0.8644 - val_loss: 0.9372 - val_accuracy: 0.8120\n",
            "Epoch 7/20\n",
            "16/16 [==============================] - 1s 42ms/step - loss: 0.4879 - accuracy: 0.8985 - val_loss: 0.8965 - val_accuracy: 0.8170\n",
            "Epoch 8/20\n",
            "16/16 [==============================] - 1s 41ms/step - loss: 0.3744 - accuracy: 0.9230 - val_loss: 0.8763 - val_accuracy: 0.8210\n",
            "Epoch 9/20\n",
            "16/16 [==============================] - 1s 42ms/step - loss: 0.2959 - accuracy: 0.9381 - val_loss: 0.8685 - val_accuracy: 0.8150\n",
            "Epoch 10/20\n",
            "16/16 [==============================] - 1s 47ms/step - loss: 0.2395 - accuracy: 0.9475 - val_loss: 0.8661 - val_accuracy: 0.8190\n",
            "Epoch 11/20\n",
            "16/16 [==============================] - 1s 46ms/step - loss: 0.1978 - accuracy: 0.9525 - val_loss: 0.8706 - val_accuracy: 0.8250\n",
            "Epoch 12/20\n",
            "16/16 [==============================] - 1s 48ms/step - loss: 0.1714 - accuracy: 0.9539 - val_loss: 0.8849 - val_accuracy: 0.8230\n",
            "Epoch 13/20\n",
            "16/16 [==============================] - 1s 50ms/step - loss: 0.1494 - accuracy: 0.9565 - val_loss: 0.8935 - val_accuracy: 0.8190\n",
            "Epoch 14/20\n",
            "16/16 [==============================] - 1s 49ms/step - loss: 0.1346 - accuracy: 0.9583 - val_loss: 0.9402 - val_accuracy: 0.8180\n",
            "Epoch 15/20\n",
            "16/16 [==============================] - 1s 54ms/step - loss: 0.1262 - accuracy: 0.9583 - val_loss: 0.9203 - val_accuracy: 0.8230\n",
            "Epoch 16/20\n",
            "16/16 [==============================] - 1s 56ms/step - loss: 0.1170 - accuracy: 0.9608 - val_loss: 0.9578 - val_accuracy: 0.8160\n",
            "Epoch 17/20\n",
            "16/16 [==============================] - 1s 52ms/step - loss: 0.1111 - accuracy: 0.9592 - val_loss: 0.9737 - val_accuracy: 0.8110\n",
            "Epoch 18/20\n",
            "16/16 [==============================] - 1s 47ms/step - loss: 0.1097 - accuracy: 0.9604 - val_loss: 0.9669 - val_accuracy: 0.8190\n",
            "Epoch 19/20\n",
            "16/16 [==============================] - 1s 46ms/step - loss: 0.1048 - accuracy: 0.9604 - val_loss: 0.9720 - val_accuracy: 0.8190\n",
            "Epoch 20/20\n",
            "16/16 [==============================] - 1s 42ms/step - loss: 0.0978 - accuracy: 0.9614 - val_loss: 0.9822 - val_accuracy: 0.8180\n"
          ],
          "name": "stdout"
        }
      ]
    },
    {
      "cell_type": "markdown",
      "metadata": {
        "id": "RLTnEAUOE-JO"
      },
      "source": [
        "훈련의 정확도와 손실 시각화\n",
        "이전 이진분류 포스팅에서 사용했던 함수를 그대로 끌어와 사용하도록 합니다."
      ]
    },
    {
      "cell_type": "code",
      "metadata": {
        "id": "8XcV5sDGE_wD"
      },
      "source": [
        "import matplotlib.pyplot as plt\n",
        "\n",
        "def show_graph(history):\n",
        "    history_dict = history.history\n",
        "    accuracy = history_dict['accuracy']\n",
        "    val_accuracy = history_dict['val_accuracy']\n",
        "    loss = history_dict['loss']\n",
        "    val_loss = history_dict['val_loss']\n",
        "\n",
        "    epochs = range(1, len(loss) + 1)\n",
        "    \n",
        "    plt.figure(figsize=(16, 1))\n",
        "    \n",
        "    plt.subplot(121)\n",
        "    plt.subplots_adjust(top=2)\n",
        "    plt.plot(epochs, accuracy, 'ro', label='Training accuracy')\n",
        "    plt.plot(epochs, val_accuracy, 'r', label='Validation accuracy')\n",
        "    plt.title('Trainging and validation accuracy')\n",
        "    plt.xlabel('Epochs')\n",
        "    plt.ylabel('Accuracy and Loss')\n",
        "\n",
        "    plt.legend(loc='upper center', bbox_to_anchor=(0.5, -0.1),\n",
        "              fancybox=True, shadow=True, ncol=5)\n",
        "#     plt.legend(bbox_to_anchor=(1, -0.1))\n",
        "\n",
        "    plt.subplot(122)\n",
        "    plt.plot(epochs, loss, 'bo', label='Training loss')\n",
        "    plt.plot(epochs, val_loss, 'b', label='Validation loss')\n",
        "    plt.title('Training and validation loss')\n",
        "    plt.xlabel('Epochs')\n",
        "    plt.ylabel('Loss')\n",
        "    plt.legend(loc='upper center', bbox_to_anchor=(0.5, -0.1),\n",
        "          fancybox=True, shadow=True, ncol=5)\n",
        "#     plt.legend(bbox_to_anchor=(1, 0))\n",
        "\n",
        "    plt.show()"
      ],
      "execution_count": 14,
      "outputs": []
    },
    {
      "cell_type": "code",
      "metadata": {
        "id": "YS3OiVI0FGbc",
        "outputId": "de5ccf40-2b2f-437c-dc0e-389eb88397f9",
        "colab": {
          "base_uri": "https://localhost:8080/",
          "height": 218
        }
      },
      "source": [
        "show_graph(history)\n"
      ],
      "execution_count": 15,
      "outputs": [
        {
          "output_type": "display_data",
          "data": {
            "image/png": "[encoded data removed]",
            "text/plain": [
              "<Figure size 1152x72 with 2 Axes>"
            ]
          },
          "metadata": {
            "tags": [],
            "needs_background": "light"
          }
        }
      ]
    },
    {
      "cell_type": "markdown",
      "metadata": {
        "id": "I2T4vJvVFTC5"
      },
      "source": [
        "그래프를 보면 대략 8~9번째 에폭부터 overfitting이 시작되는걸 알 수 있습니다."
      ]
    },
    {
      "cell_type": "markdown",
      "metadata": {
        "id": "BHgMh5bYFXUQ"
      },
      "source": [
        "새로운 데이터 예측해보기\n",
        "모델을 이용해 각 뉴스기사에 대한 토픽을 예측해보도록 합니다.\n",
        "softmax를 사용하여 각 뉴스별로 46개의 토픽에 해당하는 확률을 출력합니다.\n",
        "각 클래스 별 확률을 모두 더하면 1.0(100%)가 됩니다."
      ]
    },
    {
      "cell_type": "code",
      "metadata": {
        "id": "ZPRqn-RTFamD",
        "outputId": "1bf56da8-263c-47ad-fedb-8e487851f43e",
        "colab": {
          "base_uri": "https://localhost:8080/",
          "height": 35
        }
      },
      "source": [
        "predictions = model.predict(x_test)\n",
        "display(predictions.shape)"
      ],
      "execution_count": 16,
      "outputs": [
        {
          "output_type": "display_data",
          "data": {
            "text/plain": [
              "(2246, 46)"
            ]
          },
          "metadata": {
            "tags": []
          }
        }
      ]
    },
    {
      "cell_type": "markdown",
      "metadata": {
        "id": "zI3owm5cFgli"
      },
      "source": [
        "predictions는 테스트 데이터셋의 개수에 맞게 2246개의 결과가 들어있습니다.\n",
        "각 결과안에는 46개 클래스에 해당하는 확률값이 들어가있습니다."
      ]
    },
    {
      "cell_type": "code",
      "metadata": {
        "id": "TeQM_RVnFh26",
        "outputId": "02d55963-72d4-43f2-a14e-e724d065b038",
        "colab": {
          "base_uri": "https://localhost:8080/",
          "height": 35
        }
      },
      "source": [
        "np.sum(predictions[0])\n"
      ],
      "execution_count": 17,
      "outputs": [
        {
          "output_type": "execute_result",
          "data": {
            "text/plain": [
              "1.0"
            ]
          },
          "metadata": {
            "tags": []
          },
          "execution_count": 17
        }
      ]
    },
    {
      "cell_type": "markdown",
      "metadata": {
        "id": "Y4K672x4FnZY"
      },
      "source": [
        "각 46개의 모든 원소의 값을 모두 더하면 1.0(100%)가 된걸 확인할 수 있습니다."
      ]
    },
    {
      "cell_type": "code",
      "metadata": {
        "id": "HXkCthWcFoNQ",
        "outputId": "dbabe63f-0485-4512-dbd4-aa057a551e8e",
        "colab": {
          "base_uri": "https://localhost:8080/",
          "height": 53
        }
      },
      "source": [
        "display(np.argmax(predictions[0]))\n",
        "display(predictions[0][3])"
      ],
      "execution_count": 18,
      "outputs": [
        {
          "output_type": "display_data",
          "data": {
            "text/plain": [
              "3"
            ]
          },
          "metadata": {
            "tags": []
          }
        },
        {
          "output_type": "display_data",
          "data": {
            "text/plain": [
              "0.98763824"
            ]
          },
          "metadata": {
            "tags": []
          }
        }
      ]
    },
    {
      "cell_type": "markdown",
      "metadata": {
        "id": "RBCbrQ4mFwzH"
      },
      "source": [
        "predictions[0]의 3번째 인덱스가 가장 큰 값을 가진걸 확인하였고,\n",
        "해당 인덱스의 값을 확인하였더니 위의 정확도로 모델이 예측한걸 확인할 수 있습니다."
      ]
    },
    {
      "cell_type": "markdown",
      "metadata": {
        "id": "BIwonDXVF3vv"
      },
      "source": [
        "데이터 레이블 인코딩 방식 변경하여 학습하기\n",
        "one hot 인코딩이 아닌 정수형으로 토픽을 예측하도록 레이블 인코딩을 사용하도록 변경해봅니다.\n",
        "손실함수를 변경해주면 되는데,\n",
        "categorical_crossentropy는 범주형 인코딩일 시 사용하는 손실함수이고,\n",
        "정수형을 사용할 때에는 sparse_categorical_crossentropy를 사용합니다."
      ]
    },
    {
      "cell_type": "code",
      "metadata": {
        "id": "Ut_iqgXqF8F_"
      },
      "source": [
        "y_train = np.array(train_labels)\n",
        "y_test = np.array(test_labels)\n",
        "\n",
        "x_val = x_train[:1000]\n",
        "partial_x_train = x_train[1000:]\n",
        "\n",
        "y_val = y_train[:1000]\n",
        "partial_y_train = y_train[1000:]\n"
      ],
      "execution_count": 19,
      "outputs": []
    },
    {
      "cell_type": "code",
      "metadata": {
        "id": "4WA9ihLxGB48",
        "outputId": "e6e06b85-96c1-4e6b-867f-8062e0c63bb6",
        "colab": {
          "base_uri": "https://localhost:8080/",
          "height": 269
        }
      },
      "source": [
        "model = models.Sequential()\n",
        "model.add(layers.Dense(64, activation='relu', input_shape=(10000, )))\n",
        "model.add(layers.Dense(64, activation='relu'))\n",
        "model.add(layers.Dense(46, activation='softmax'))\n",
        "\n",
        "model.summary()"
      ],
      "execution_count": 20,
      "outputs": [
        {
          "output_type": "stream",
          "text": [
            "Model: \"sequential_1\"\n",
            "_________________________________________________________________\n",
            "Layer (type)                 Output Shape              Param #   \n",
            "=================================================================\n",
            "dense_3 (Dense)              (None, 64)                640064    \n",
            "_________________________________________________________________\n",
            "dense_4 (Dense)              (None, 64)                4160      \n",
            "_________________________________________________________________\n",
            "dense_5 (Dense)              (None, 46)                2990      \n",
            "=================================================================\n",
            "Total params: 647,214\n",
            "Trainable params: 647,214\n",
            "Non-trainable params: 0\n",
            "_________________________________________________________________\n"
          ],
          "name": "stdout"
        }
      ]
    },
    {
      "cell_type": "code",
      "metadata": {
        "id": "HWQ9wbNLGFes"
      },
      "source": [
        "model.compile(\n",
        "    optimizer='adam',\n",
        "    loss='sparse_categorical_crossentropy',\n",
        "    metrics=['accuracy']\n",
        ")"
      ],
      "execution_count": 24,
      "outputs": []
    },
    {
      "cell_type": "code",
      "metadata": {
        "id": "wNER9yrtGId3",
        "outputId": "09b710eb-c01b-4878-8238-51dcd09ee72b",
        "colab": {
          "base_uri": "https://localhost:8080/",
          "height": 341
        }
      },
      "source": [
        "history = model.fit(\n",
        "    partial_x_train, \n",
        "    partial_y_train,\n",
        "    epochs=9,\n",
        "    batch_size=512,\n",
        "    validation_data=(x_val, y_val)\n",
        ")"
      ],
      "execution_count": 25,
      "outputs": [
        {
          "output_type": "stream",
          "text": [
            "Epoch 1/9\n",
            "16/16 [==============================] - 1s 49ms/step - loss: 0.2906 - accuracy: 0.9371 - val_loss: 0.9070 - val_accuracy: 0.8080\n",
            "Epoch 2/9\n",
            "16/16 [==============================] - 1s 41ms/step - loss: 0.2175 - accuracy: 0.9476 - val_loss: 0.8860 - val_accuracy: 0.8160\n",
            "Epoch 3/9\n",
            "16/16 [==============================] - 1s 41ms/step - loss: 0.1805 - accuracy: 0.9520 - val_loss: 0.8886 - val_accuracy: 0.8170\n",
            "Epoch 4/9\n",
            "16/16 [==============================] - 1s 42ms/step - loss: 0.1509 - accuracy: 0.9553 - val_loss: 0.9195 - val_accuracy: 0.8150\n",
            "Epoch 5/9\n",
            "16/16 [==============================] - 1s 40ms/step - loss: 0.1336 - accuracy: 0.9578 - val_loss: 0.9368 - val_accuracy: 0.8130\n",
            "Epoch 6/9\n",
            "16/16 [==============================] - 1s 40ms/step - loss: 0.1246 - accuracy: 0.9584 - val_loss: 0.9755 - val_accuracy: 0.8120\n",
            "Epoch 7/9\n",
            "16/16 [==============================] - 1s 40ms/step - loss: 0.1167 - accuracy: 0.9617 - val_loss: 0.9796 - val_accuracy: 0.8100\n",
            "Epoch 8/9\n",
            "16/16 [==============================] - 1s 41ms/step - loss: 0.1102 - accuracy: 0.9599 - val_loss: 0.9648 - val_accuracy: 0.8160\n",
            "Epoch 9/9\n",
            "16/16 [==============================] - 1s 40ms/step - loss: 0.0994 - accuracy: 0.9613 - val_loss: 0.9953 - val_accuracy: 0.8170\n"
          ],
          "name": "stdout"
        }
      ]
    },
    {
      "cell_type": "code",
      "metadata": {
        "id": "CNzXu8b8GMwI",
        "outputId": "531d484a-e0e3-4536-ec7a-3083de872956",
        "colab": {
          "base_uri": "https://localhost:8080/",
          "height": 218
        }
      },
      "source": [
        "show_graph(history)\n"
      ],
      "execution_count": 26,
      "outputs": [
        {
          "output_type": "display_data",
          "data": {
            "image/png": "[encoded data removed]",
            "text/plain": [
              "<Figure size 1152x72 with 2 Axes>"
            ]
          },
          "metadata": {
            "tags": [],
            "needs_background": "light"
          }
        }
      ]
    },
    {
      "cell_type": "code",
      "metadata": {
        "id": "T3AxMJ5ED1Oh",
        "outputId": "078a2321-030d-4bb0-b77b-8f73023f2b07",
        "colab": {
          "base_uri": "https://localhost:8080/",
          "height": 161
        }
      },
      "source": [
        "result = model.predict([x_val],batch_size=512, verbose=1)\n",
        "result"
      ],
      "execution_count": 38,
      "outputs": [
        {
          "output_type": "stream",
          "text": [
            "20/20 [==============================] - 0s 10ms/step\n"
          ],
          "name": "stdout"
        },
        {
          "output_type": "execute_result",
          "data": {
            "text/plain": [
              "array([[9.9997437e-01],\n",
              "       [9.5992107e-07],\n",
              "       [1.6369922e-08],\n",
              "       ...,\n",
              "       [9.9992573e-01],\n",
              "       [5.4356456e-04],\n",
              "       [1.1198031e-05]], dtype=float32)"
            ]
          },
          "metadata": {
            "tags": []
          },
          "execution_count": 38
        }
      ]
    },
    {
      "cell_type": "markdown",
      "metadata": {
        "id": "EmY54xKsGZho"
      },
      "source": [
        "예측하는 방법은 아까와 동일하고,\n",
        "출력된 레이블 또한 softmax처럼 각 클래스 별 확률이 나오게 됩니다.\n",
        "9번의 에폭에서 과대적합 되던걸 확인하여 이번 학습은 최대 에폭을 9로 설정하여 학습을 진행한 내용의 그래프입니다."
      ]
    },
    {
      "cell_type": "markdown",
      "metadata": {
        "id": "vWTmk63yGeKk"
      },
      "source": [
        "추가 개선사항\n",
        "중간 레이어의 유닛수가 너무 작게 되면 데이터에 대한 손실이 발생할 수 있지만,\n",
        "데이터를 압축하여 노이즈를 줄이는 효과를 얻을 수도 있고, 반대로 유닛수를 크게 한다면,\n",
        "해당 레이블을 표현하기 위한 데이터를 더 넣을 수 있게 된다고 볼 수도 있습니다.\n",
        "이러한 내용을 잘 숙지하여 레이어 구성을 변경해가며 테스트를 진행해봅시다."
      ]
    },
    {
      "cell_type": "markdown",
      "metadata": {
        "id": "U58aHf2KbrXo"
      },
      "source": [
        "## Part 6: s & p 500 주가 예측 : RNN"
      ]
    },
    {
      "cell_type": "code",
      "metadata": {
        "id": "mEy4MXJWBGLY",
        "outputId": "7b5aeeeb-1e4d-4a5a-cf55-8e28d2a11375",
        "colab": {
          "base_uri": "https://localhost:8080/",
          "height": 35
        }
      },
      "source": [
        "from google.colab import drive\n",
        "drive.mount('/content/drive')"
      ],
      "execution_count": 61,
      "outputs": [
        {
          "output_type": "stream",
          "text": [
            "Mounted at /content/drive\n"
          ],
          "name": "stdout"
        }
      ]
    },
    {
      "cell_type": "markdown",
      "metadata": {
        "id": "3Gz5jeyTj0Hd"
      },
      "source": [
        "우리는 S&P 500 지수 데이터를 사용하려고 합니다. S&P 500이란 국제 신용평가기관인 미국의 스탠다드 푸어스(Standard & Poors, 약칭 S&P)가 작성한 주가 지수로, 500개 대형기업(대부분이 미국 기업)의 주식을 포함한 지수입니다. 우리가 사용할 데이터는 sp500.csv 파일에 들어있으며, S&P 500의 2000년 1월부터 2016년 8월까지의 종가(장 마감 시점의 가격)로 구성되어 있습니다."
      ]
    },
    {
      "cell_type": "markdown",
      "metadata": {
        "id": "WVhCfLOEdTqN"
      },
      "source": [
        "lstm.py"
      ]
    },
    {
      "cell_type": "code",
      "metadata": {
        "id": "gK_tkWGZdV5S"
      },
      "source": [
        "import time\n",
        "import warnings\n",
        "import numpy as np\n",
        "from numpy import newaxis\n",
        "from keras.layers.core import Dense, Activation, Dropout\n",
        "from keras.layers.recurrent import LSTM\n",
        "from keras.models import Sequential\n",
        "import matplotlib.pyplot as plt\n",
        "\n",
        "\n",
        "warnings.filterwarnings(\"ignore\")\n",
        "\n",
        "def plot_results_multiple(predicted_data, true_data, prediction_len):\n",
        "    fig = plt.figure(facecolor='white')\n",
        "    ax = fig.add_subplot(111)\n",
        "    ax.plot(true_data, label='True Data')\n",
        "    print ('yo')\n",
        "    #Pad the list of predictions to shift it in the graph to it's correct start\n",
        "    for i, data in enumerate(predicted_data):\n",
        "        padding = [None for p in range(i * prediction_len)]\n",
        "        plt.plot(padding + data, label='Prediction')\n",
        "        plt.legend()\n",
        "    plt.show()\n",
        "\n",
        "def load_data(filename, seq_len, normalise_window):\n",
        "    f = open(filename, 'r').read()\n",
        "    data = f.split('\\n')\n",
        "\n",
        "    sequence_length = seq_len + 1\n",
        "    result = []\n",
        "    for index in range(len(data) - sequence_length):\n",
        "        result.append(data[index: index + sequence_length])\n",
        "    \n",
        "    if normalise_window:\n",
        "        result = normalise_windows(result)\n",
        "\n",
        "    result = np.array(result)\n",
        "\n",
        "    row = round(0.9 * result.shape[0])\n",
        "    train = result[:int(row), :]\n",
        "    np.random.shuffle(train)\n",
        "    x_train = train[:, :-1]\n",
        "    y_train = train[:, -1]\n",
        "    x_test = result[int(row):, :-1]\n",
        "    y_test = result[int(row):, -1]\n",
        "\n",
        "    x_train = np.reshape(x_train, (x_train.shape[0], x_train.shape[1], 1))\n",
        "    x_test = np.reshape(x_test, (x_test.shape[0], x_test.shape[1], 1))  \n",
        "\n",
        "    return [x_train, y_train, x_test, y_test]\n",
        "\n",
        "def normalise_windows(window_data):\n",
        "    normalised_data = []\n",
        "    for window in window_data:\n",
        "        normalised_window = [((float(p) / float(window[0])) - 1) for p in window]\n",
        "        normalised_data.append(normalised_window)\n",
        "    return normalised_data\n",
        "\n",
        "def build_model(layers):\n",
        "    model = Sequential()\n",
        "\n",
        "    model.add(LSTM(\n",
        "        input_dim=layers[0],\n",
        "        output_dim=layers[1],\n",
        "        return_sequences=True))\n",
        "    model.add(Dropout(0.2))\n",
        "\n",
        "    model.add(LSTM(\n",
        "        layers[2],\n",
        "        return_sequences=False))\n",
        "    model.add(Dropout(0.2))\n",
        "\n",
        "    model.add(Dense(\n",
        "        output_dim=layers[3]))\n",
        "    model.add(Activation(\"linear\"))\n",
        "\n",
        "    start = time.time()\n",
        "    model.compile(loss=\"mse\", optimizer=\"rmsprop\")\n",
        "    print (\"Compilation Time : \", time.time() - start)\n",
        "    return model\n",
        "\n",
        "def predict_point_by_point(model, data):\n",
        "    #Predict each timestep given the last sequence of true data, in effect only predicting 1 step ahead each time\n",
        "    predicted = model.predict(data)\n",
        "    predicted = np.reshape(predicted, (predicted.size,))\n",
        "    return predicted\n",
        "\n",
        "def predict_sequence_full(model, data, window_size):\n",
        "    #Shift the window by 1 new prediction each time, re-run predictions on new window\n",
        "    curr_frame = data[0]\n",
        "    predicted = []\n",
        "    for i in range(len(data)):\n",
        "        predicted.append(model.predict(curr_frame[newaxis,:,:])[0,0])\n",
        "        curr_frame = curr_frame[1:]\n",
        "        curr_frame = np.insert(curr_frame, [window_size-1], predicted[-1], axis=0)\n",
        "    return predicted\n",
        "\n",
        "def predict_sequences_multiple(model, data, window_size, prediction_len):\n",
        "    #Predict sequence of 50 steps before shifting prediction run forward by 50 steps\n",
        "    prediction_seqs = []\n",
        "    for i in range(len(data)//prediction_len):\n",
        "        curr_frame = data[i*prediction_len]\n",
        "        predicted = []\n",
        "        for j in range(prediction_len):\n",
        "            predicted.append(model.predict(curr_frame[newaxis,:,:])[0,0])\n",
        "            curr_frame = curr_frame[1:]\n",
        "            curr_frame = np.insert(curr_frame, [window_size-1], predicted[-1], axis=0)\n",
        "        prediction_seqs.append(predicted)\n",
        "    return prediction_seqs"
      ],
      "execution_count": 99,
      "outputs": []
    },
    {
      "cell_type": "markdown",
      "metadata": {
        "id": "BJ3wUj6pklNq"
      },
      "source": [
        "LSTM은 RNN(Recurrent Neural Network)의 일종입니다. RNN은 학습을 할 때 현재 입력값뿐만 아니라 이전에 들어온 입력값을 함께 고려하기 때문에 시계열 데이터를 학습하기에 적합합니다. 신경망 중간에 있는 히든 레이어의 결과값들이 다시 입력값으로 들어가기 때문에 순환(Recurrent) 신경망(Neural Network)이라는 이름이 붙었습니다.\n",
        "\n",
        "그러나 RNN은 만약 데이터가 너무 길어져 이를 표현하는 신경망이 깊어져야만 할 경우 문제가 발생합니다. RNN은 역전파(Backpropagation)라는 방법을 통해 학습하는데, 위와 같은 경우 그래디언트가 너무 작아져 학습이 잘 안 되는 문제(Vanishing Gradient Problem)가 발생하는 것입니다. 이 문제를 해결하기 위해 LSTM이 만들어졌습니다."
      ]
    },
    {
      "cell_type": "markdown",
      "metadata": {
        "id": "wOonRvzIksJS"
      },
      "source": [
        "LSTM은 셀 스테이트(cell state)라는 개념을 도입하여 그 내부에 있는 게이트(gate)들을 통해 어떤 정보를 기억하고 어떤 정보를 버릴지 추가적인 학습을 가능하게 합니다. 이를 통해 RNN이 가진 문제(Vanishing Gradient Problem)를 해결할 수 있었습니다."
      ]
    },
    {
      "cell_type": "markdown",
      "metadata": {
        "id": "xmh7DPgPLqKV"
      },
      "source": [
        "데이터 불러오기 및 전처리"
      ]
    },
    {
      "cell_type": "code",
      "metadata": {
        "id": "oo2iNkCNDle5"
      },
      "source": [
        "from keras.layers.core import Dense, Activation, Dropout\n",
        "from keras.layers.recurrent import LSTM\n",
        "from keras.models import Sequential\n",
        "import time #helper libraries\n",
        "#import lstm"
      ],
      "execution_count": 100,
      "outputs": []
    },
    {
      "cell_type": "markdown",
      "metadata": {
        "id": "wO_RgNPSLxSE"
      },
      "source": [
        "lstm.py로 불리된 파일을 써야하지만 colab 노트북을 사용하는 경우 편의를 위해 함께 작성하였기에 import lstm 같은 구문을 주석처리 하였다."
      ]
    },
    {
      "cell_type": "code",
      "metadata": {
        "id": "u_KTKjN4Du5-"
      },
      "source": [
        "#Step 1 Load Data\n",
        "# X_train, y_train, X_test, y_test = lstm.load_data('sp500.csv', 50, True)\n",
        "X_train, y_train, X_test, y_test = load_data('sp500.csv', 50, True)"
      ],
      "execution_count": 101,
      "outputs": []
    },
    {
      "cell_type": "code",
      "metadata": {
        "id": "6ro3xDJXMPjB",
        "outputId": "64459b6a-3690-467f-adc3-f65faefc7376",
        "colab": {
          "base_uri": "https://localhost:8080/",
          "height": 899
        }
      },
      "source": [
        "print(X_train)"
      ],
      "execution_count": 105,
      "outputs": [
        {
          "output_type": "stream",
          "text": [
            "[[[ 0.00000000e+00]\n",
            "  [-6.44863361e-03]\n",
            "  [-1.64772277e-02]\n",
            "  ...\n",
            "  [ 4.93604140e-02]\n",
            "  [ 5.59750228e-02]\n",
            "  [ 4.30540249e-02]]\n",
            "\n",
            " [[ 0.00000000e+00]\n",
            "  [ 9.47934620e-04]\n",
            "  [ 8.05388239e-03]\n",
            "  ...\n",
            "  [-3.06195509e-02]\n",
            "  [-3.45898184e-02]\n",
            "  [-3.10165683e-02]]\n",
            "\n",
            " [[ 0.00000000e+00]\n",
            "  [ 4.76474786e-04]\n",
            "  [ 8.25039471e-03]\n",
            "  ...\n",
            "  [-9.70511409e-02]\n",
            "  [-8.99306913e-02]\n",
            "  [-9.37563676e-02]]\n",
            "\n",
            " ...\n",
            "\n",
            " [[ 0.00000000e+00]\n",
            "  [ 2.24884432e-02]\n",
            "  [ 4.07558471e-02]\n",
            "  ...\n",
            "  [ 1.22922408e-01]\n",
            "  [ 1.41881102e-01]\n",
            "  [ 1.24851026e-01]]\n",
            "\n",
            " [[ 0.00000000e+00]\n",
            "  [ 7.91082196e-05]\n",
            "  [-1.23998811e-02]\n",
            "  ...\n",
            "  [ 7.82404617e-02]\n",
            "  [ 6.16677323e-02]\n",
            "  [ 6.89939004e-02]]\n",
            "\n",
            " [[ 0.00000000e+00]\n",
            "  [ 9.62438084e-03]\n",
            "  [ 1.22597738e-02]\n",
            "  ...\n",
            "  [-3.65560494e-02]\n",
            "  [-3.25162845e-02]\n",
            "  [-4.22232581e-02]]]\n"
          ],
          "name": "stdout"
        }
      ]
    },
    {
      "cell_type": "markdown",
      "metadata": {
        "id": "fnKRl_oAkGVV"
      },
      "source": [
        "이는 load_data내의 normalise_windows 함수에서 먼저 정규화(normalization)를 해주기 때문인데요. 신경망이 빠르고 수월하게 학습하려면 데이터들을 -1과 1 사이의 값으로 작게 만들어야 합니다. 그래서 우리가 다루려는 S&P 500 데이터의 경우 첫 데이터인 2000년 1월 첫 거래일의 종가를 기준으로 각 종가가 얼마나 증가했는지 그 비율을 구해줍니다. 이런 방법을 통해 주가 데이터의 정규화를 할 수 있습니다. 코드와 수식으로 표현하자면 다음과 같습니다."
      ]
    },
    {
      "cell_type": "markdown",
      "metadata": {
        "id": "B4dVwtwJMykP"
      },
      "source": [
        "lstm 모델 생성"
      ]
    },
    {
      "cell_type": "code",
      "metadata": {
        "id": "KSUQejnhD2gt"
      },
      "source": [
        "#Step 2 Build Model\n",
        "model = Sequential()\n",
        "\n",
        "model.add(LSTM(units=50, input_dim=1,return_sequences=True))\n",
        "model.add(Dropout(0.2))\n"
      ],
      "execution_count": 106,
      "outputs": []
    },
    {
      "cell_type": "markdown",
      "metadata": {
        "id": "QdrXHL18M6yX"
      },
      "source": [
        "입력으로 들어가는 데이터는 1차원이기 때문에 이 에 따라 input_dim을 설정합니다. 다음 LSTM 레이어로 들어가는 입력값을 설정하기 위해 units 값을 정하고 return_sequences을 True로 설정해줍니다. 또 과적합(overfitting)을 피하기 위한 드롭아웃(dropout)을 20%로 설정합니다."
      ]
    },
    {
      "cell_type": "code",
      "metadata": {
        "id": "fOR_MTRmNaJi"
      },
      "source": [
        "\n",
        "model.add(LSTM(\n",
        "    100,\n",
        "    return_sequences=False))\n",
        "model.add(Dropout(0.2))\n",
        "\n"
      ],
      "execution_count": 107,
      "outputs": []
    },
    {
      "cell_type": "markdown",
      "metadata": {
        "id": "R3itzQLMNKxS"
      },
      "source": [
        "다음 LSTM 레이어에서는 노드를 100개, 그리고 마지막 Dense 레이어에 들어가기 전이므로 return_sequences를 False로 설정해줍니다. 마찬가지로 과적합(overfitting)을 피하기 위해 드롭아웃(dropout)을 20%로 설정합니다."
      ]
    },
    {
      "cell_type": "code",
      "metadata": {
        "id": "4HiWA5TmNc7C",
        "outputId": "2375b939-9297-4262-dcd9-8be6c3c74c59",
        "colab": {
          "base_uri": "https://localhost:8080/",
          "height": 35
        }
      },
      "source": [
        "model.add(Dense(\n",
        "    units=1))\n",
        "model.add(Activation('linear'))\n",
        "\n",
        "start = time.time()\n",
        "model.compile(loss='mse', optimizer='rmsprop')\n",
        "print ('compilation time : ', time.time() - start)"
      ],
      "execution_count": 108,
      "outputs": [
        {
          "output_type": "stream",
          "text": [
            "compilation time :  0.01050257682800293\n"
          ],
          "name": "stdout"
        }
      ]
    },
    {
      "cell_type": "markdown",
      "metadata": {
        "id": "zrH8tiYjNTkL"
      },
      "source": [
        "마지막으로 Dense 레이어와 linear 활성화 함수(activation function)을 통해 마지막 결과값을 계산해줍니다.\n",
        "\n",
        "그리고 모델의 학습 과정을 정해주는데요. 회귀(Regression) 문제를 풀 때 가장 일반적인 손실 함수(loss function)인 평균 제곱근 편차(Mean Squared Error, MSE)를 설정하고, 최적화 방법(Optimization)으로는 RMSProp을 설정해줍니다."
      ]
    },
    {
      "cell_type": "markdown",
      "metadata": {
        "id": "qIHv4cNgNhpf"
      },
      "source": [
        "모델 학습"
      ]
    },
    {
      "cell_type": "code",
      "metadata": {
        "id": "BovW6-MrFCh9",
        "outputId": "ddaf8acc-119b-4bca-bdcc-a229eac54275",
        "colab": {
          "base_uri": "https://localhost:8080/",
          "height": 91
        }
      },
      "source": [
        "#Step 3 Train the model\n",
        "model.fit(\n",
        "    X_train,\n",
        "    y_train,\n",
        "    batch_size=512,\n",
        "    epochs=1,\n",
        "    validation_split=0.05)"
      ],
      "execution_count": 103,
      "outputs": [
        {
          "output_type": "stream",
          "text": [
            "7/7 [==============================] - ETA: 0s - loss: 0.0024WARNING:tensorflow:6 out of the last 165 calls to <function Model.make_test_function.<locals>.test_function at 0x7f69127b79d8> triggered tf.function retracing. Tracing is expensive and the excessive number of tracings could be due to (1) creating @tf.function repeatedly in a loop, (2) passing tensors with different shapes, (3) passing Python objects instead of tensors. For (1), please define your @tf.function outside of the loop. For (2), @tf.function has experimental_relax_shapes=True option that relaxes argument shapes that can avoid unnecessary retracing. For (3), please refer to https://www.tensorflow.org/tutorials/customization/performance#python_or_tensor_args and https://www.tensorflow.org/api_docs/python/tf/function for  more details.\n",
            "7/7 [==============================] - 4s 520ms/step - loss: 0.0024 - val_loss: 8.7543e-04\n"
          ],
          "name": "stdout"
        },
        {
          "output_type": "execute_result",
          "data": {
            "text/plain": [
              "<tensorflow.python.keras.callbacks.History at 0x7f6912bd2fd0>"
            ]
          },
          "metadata": {
            "tags": []
          },
          "execution_count": 103
        }
      ]
    },
    {
      "cell_type": "markdown",
      "metadata": {
        "id": "hbGTHoJHNlSd"
      },
      "source": [
        "주가 예측 시각화하기\n",
        "아래와 같이 앞으로의 추세를 그려볼 수 있다"
      ]
    },
    {
      "cell_type": "code",
      "metadata": {
        "id": "MDU-FklIJ0Iu",
        "outputId": "24e254cc-650b-470a-8235-7123648944ac",
        "colab": {
          "base_uri": "https://localhost:8080/",
          "height": 283
        }
      },
      "source": [
        "#Step 4 - Plot the predictions!\n",
        "predictions = predict_sequences_multiple(model, X_test, 50, 50)\n",
        "plot_results_multiple(predictions, y_test, 50)"
      ],
      "execution_count": 104,
      "outputs": [
        {
          "output_type": "stream",
          "text": [
            "yo\n"
          ],
          "name": "stdout"
        },
        {
          "output_type": "display_data",
          "data": {
            "image/png": "[encoded data removed]",
            "text/plain": [
              "<Figure size 432x288 with 1 Axes>"
            ]
          },
          "metadata": {
            "tags": []
          }
        }
      ]
    },
    {
      "cell_type": "markdown",
      "metadata": {
        "id": "6eWskMwaYQ39"
      },
      "source": [
        "## Part7: word-level 번역기 만들기 (seq2seq) : RNN"
      ]
    },
    {
      "cell_type": "markdown",
      "metadata": {
        "id": "QSNVgtzfYv7J"
      },
      "source": [
        "대표적인 사례 \n",
        "번역기, 챗봇"
      ]
    },
    {
      "cell_type": "markdown",
      "metadata": {
        "id": "4wBtk7H8Y1hR"
      },
      "source": [
        "필요한 도구들 임포트"
      ]
    },
    {
      "cell_type": "code",
      "metadata": {
        "id": "lirh0uZyY3ck"
      },
      "source": [
        "import numpy as np\n",
        "import pandas as pd\n",
        "import re\n",
        "import shutil\n",
        "import os\n",
        "import unicodedata\n",
        "import urllib3\n",
        "import zipfile\n",
        "import tensorflow as tf\n",
        "from tensorflow.keras.preprocessing.text import Tokenizer\n",
        "from tensorflow.keras.preprocessing.sequence import pad_sequences"
      ],
      "execution_count": 111,
      "outputs": []
    },
    {
      "cell_type": "markdown",
      "metadata": {
        "id": "nsLT4c97Y8cp"
      },
      "source": [
        "데이터로드"
      ]
    },
    {
      "cell_type": "code",
      "metadata": {
        "id": "ChCketb9Y_hX"
      },
      "source": [
        "http = urllib3.PoolManager()\n",
        "url ='http://www.manythings.org/anki/kor-eng.zip'\n",
        "filename = 'fra-eng.zip'\n",
        "path = os.getcwd()\n",
        "zipfilename = os.path.join(path, filename)\n",
        "with http.request('GET', url, preload_content=False) as r, open(zipfilename, 'wb') as out_file:       \n",
        "    shutil.copyfileobj(r, out_file)\n",
        "\n",
        "with zipfile.ZipFile(zipfilename, 'r') as zip_ref:\n",
        "    zip_ref.extractall(path)"
      ],
      "execution_count": 144,
      "outputs": []
    },
    {
      "cell_type": "markdown",
      "metadata": {
        "id": "EhPKP2JRZFQm"
      },
      "source": [
        "이번 챕터에서는 총 33,000개의 샘플을 사용할 예정입니다. 이 값을 변수에 지정합니다."
      ]
    },
    {
      "cell_type": "code",
      "metadata": {
        "id": "a4HoljPfZGS_"
      },
      "source": [
        "num_samples = 33000"
      ],
      "execution_count": 145,
      "outputs": []
    },
    {
      "cell_type": "markdown",
      "metadata": {
        "id": "1cMURAyRZKT5"
      },
      "source": [
        "전처리 함수들을 구현"
      ]
    },
    {
      "cell_type": "code",
      "metadata": {
        "id": "_GK2ttOZZMCM"
      },
      "source": [
        "def unicode_to_ascii(s):\n",
        "  return ''.join(c for c in unicodedata.normalize('NFD', s)\n",
        "      if unicodedata.category(c) != 'Mn')"
      ],
      "execution_count": 146,
      "outputs": []
    },
    {
      "cell_type": "code",
      "metadata": {
        "id": "T1ThxwczZO8i"
      },
      "source": [
        "def preprocess_sentence(sent):\n",
        "    # 위에서 구현한 함수를 내부적으로 호출\n",
        "    sent = unicode_to_ascii(sent.lower())\n",
        "\n",
        "    # 단어와 구두점 사이에 공백을 만듭니다.\n",
        "    # Ex) \"he is a boy.\" => \"he is a boy .\"\n",
        "    sent = re.sub(r\"([?.!,¿])\", r\" \\1\", sent)\n",
        "\n",
        "    # (a-z, A-Z, \".\", \"?\", \"!\", \",\") 이들을 제외하고는 전부 공백으로 변환합니다.\n",
        "    sent = re.sub(r\"[^a-zA-Z!.?]+\", r\" \", sent)\n",
        "\n",
        "    sent = re.sub(r\"\\s+\", \" \", sent)\n",
        "    return sent"
      ],
      "execution_count": 147,
      "outputs": []
    },
    {
      "cell_type": "markdown",
      "metadata": {
        "id": "Utdjuyw7ZR0c"
      },
      "source": [
        "구현한 전처리 함수들을 임의의 문장으로 입력해 테스트"
      ]
    },
    {
      "cell_type": "code",
      "metadata": {
        "id": "E6jH-oWNZYRJ",
        "outputId": "4e94742e-80b4-4533-dbfc-0413da86efe1",
        "colab": {
          "base_uri": "https://localhost:8080/",
          "height": 53
        }
      },
      "source": [
        "# 전처리 테스트\n",
        "en_sent = u\"Have you had dinner?\"\n",
        "kr_sent = u\"저녁은 드셨어요?\"\n",
        "print(preprocess_sentence(en_sent))\n",
        "print(preprocess_sentence(kr_sent).encode('utf-8'))"
      ],
      "execution_count": 148,
      "outputs": [
        {
          "output_type": "stream",
          "text": [
            "have you had dinner ?\n",
            "b' ?'\n"
          ],
          "name": "stdout"
        }
      ]
    },
    {
      "cell_type": "markdown",
      "metadata": {
        "id": "JZVum-1gZe2D"
      },
      "source": [
        "전체 데이터에서 33,000개의 샘플만 불러오되, 모든 전처리를 수행하는 함수를 만듭니다. 또한 훈련 과정에서 교사 강요(Teacher Forcing)을 사용할 예정이므로, 훈련 시 사용할 디코더의 입력 시퀀스와 실제값에 해당되는 출력 시퀀스를 따로 분리하여 저장합니다. 입력 시퀀스에는 시작을 의미하는 토큰인 <sos>를 추가하고, 출력 시퀀스에는 종료를 의미하는 토큰인 <eos>를 추가합니다."
      ]
    },
    {
      "cell_type": "code",
      "metadata": {
        "id": "SK8aInMrZgBF"
      },
      "source": [
        "def load_preprocessed_data():\n",
        "    encoder_input, decoder_input, decoder_target = [], [], []\n",
        "\n",
        "    with open(\"fra.txt\", \"r\") as lines:\n",
        "        for i, line in enumerate(lines):\n",
        "\n",
        "            # source 데이터와 target 데이터 분리\n",
        "            src_line, tar_line, _ = line.strip().split('\\t')\n",
        "\n",
        "            # source 데이터 전처리\n",
        "            src_line_input = [w for w in preprocess_sentence(src_line).split()]\n",
        "\n",
        "            # target 데이터 전처리\n",
        "            tar_line = preprocess_sentence(tar_line)\n",
        "            tar_line_input = [w for w in (\"<sos> \" + tar_line).split()]\n",
        "            tar_line_target = [w for w in (tar_line + \" <eos>\").split()]\n",
        "\n",
        "            encoder_input.append(src_line_input)\n",
        "            decoder_input.append(tar_line_input)\n",
        "            decoder_target.append(tar_line_target)\n",
        "\n",
        "            if i == num_samples - 1:\n",
        "                break\n",
        "\n",
        "    return encoder_input, decoder_input, decoder_target"
      ],
      "execution_count": 149,
      "outputs": []
    },
    {
      "cell_type": "markdown",
      "metadata": {
        "id": "jOdS3a2dZmLh"
      },
      "source": [
        "이렇게 얻은 3개의 데이터셋은 인코더의 입력, 디코더의 입력, 디코더의 실제값을 상위 5개 샘플만 출력해봅시다."
      ]
    },
    {
      "cell_type": "code",
      "metadata": {
        "id": "4emeiar-ZnJY",
        "outputId": "7f86c9e0-51fd-4611-fae6-6d1ce9e31d1b",
        "colab": {
          "base_uri": "https://localhost:8080/",
          "height": 71
        }
      },
      "source": [
        "sents_en_in, sents_kor_in, sents_kor_out = load_preprocessed_data()\n",
        "print(sents_en_in[:5])\n",
        "print(sents_kor_in[:5])\n",
        "print(sents_kor_out[:5])"
      ],
      "execution_count": 150,
      "outputs": [
        {
          "output_type": "stream",
          "text": [
            "[['go', '.'], ['hi', '.'], ['hi', '.'], ['run', '!'], ['run', '!']]\n",
            "[['<sos>', 'va', '!'], ['<sos>', 'salut', '!'], ['<sos>', 'salut', '.'], ['<sos>', 'cours', '!'], ['<sos>', 'courez', '!']]\n",
            "[['va', '!', '<eos>'], ['salut', '!', '<eos>'], ['salut', '.', '<eos>'], ['cours', '!', '<eos>'], ['courez', '!', '<eos>']]\n"
          ],
          "name": "stdout"
        }
      ]
    },
    {
      "cell_type": "markdown",
      "metadata": {
        "id": "6be9A_XJZt51"
      },
      "source": [
        "이제 케라스 토크나이저를 통해 단어 집합을 생성하고, 텍스트 시퀀스를 정수 시퀀스로 변환하는 정수 인코딩 과정을 거칩니다."
      ]
    },
    {
      "cell_type": "code",
      "metadata": {
        "id": "9k7tWh3FZxUF"
      },
      "source": [
        "tokenizer_en = Tokenizer(filters=\"\", lower=False)\n",
        "tokenizer_en.fit_on_texts(sents_en_in)\n",
        "encoder_input = tokenizer_en.texts_to_sequences(sents_en_in)\n",
        "\n",
        "tokenizer_kor = Tokenizer(filters=\"\", lower=False)\n",
        "tokenizer_kor.fit_on_texts(sents_kor_in)\n",
        "tokenizer_kor.fit_on_texts(sents_kor_out)\n",
        "decoder_input = tokenizer_fra.texts_to_sequences(sents_kor_in)\n",
        "decoder_target = tokenizer_fra.texts_to_sequences(sents_kor_out)"
      ],
      "execution_count": 154,
      "outputs": []
    },
    {
      "cell_type": "markdown",
      "metadata": {
        "id": "wlUw91CuZzoX"
      },
      "source": [
        "이어서 패딩을 수행합니다."
      ]
    },
    {
      "cell_type": "code",
      "metadata": {
        "id": "sER7ziS3Z11j"
      },
      "source": [
        "encoder_input = pad_sequences(encoder_input, padding=\"post\")\n",
        "decoder_input = pad_sequences(decoder_input, padding=\"post\")\n",
        "decoder_target = pad_sequences(decoder_target, padding=\"post\")"
      ],
      "execution_count": 155,
      "outputs": []
    },
    {
      "cell_type": "markdown",
      "metadata": {
        "id": "ENPAGS4CZ4GX"
      },
      "source": [
        "샘플은 총 33,000개 존재하며 영어 문장의 길이는 8, 프랑스어 문장의 길이는 16입니다. 단어 집합의 크기를 정의합니다."
      ]
    },
    {
      "cell_type": "code",
      "metadata": {
        "id": "k3QMPKLTaBkY",
        "outputId": "025077ea-abd5-4cc0-f715-33dc205dda9a",
        "colab": {
          "base_uri": "https://localhost:8080/",
          "height": 35
        }
      },
      "source": [
        "src_vocab_size = len(tokenizer_en.word_index) + 1\n",
        "tar_vocab_size = len(tokenizer_kor.word_index) + 1\n",
        "print(\"영어 단어 집합의 크기 : {:d}, 한국어 단어 집합의 크기 : {:d}\".format(src_vocab_size, tar_vocab_size))"
      ],
      "execution_count": 156,
      "outputs": [
        {
          "output_type": "stream",
          "text": [
            "영어 단어 집합의 크기 : 4663, 한국어 단어 집합의 크기 : 8038\n"
          ],
          "name": "stdout"
        }
      ]
    },
    {
      "cell_type": "markdown",
      "metadata": {
        "id": "t-7euh7aaEa3"
      },
      "source": [
        "단어 집합의 크기는 각각 4,647개와 8,022개입니다. 단어로부터 정수를 얻는 딕셔너리와 정수로부터 단어를 얻는 딕셔너리를 각각 만들어줍니다. 이들은 훈련을 마치고 예측 과정과 실제값과 결과를 비교하는 경우에 사용됩니다."
      ]
    },
    {
      "cell_type": "code",
      "metadata": {
        "id": "IJtZ8g3qaG35"
      },
      "source": [
        "src_to_index = tokenizer_en.word_index\n",
        "index_to_src = tokenizer_en.index_word # 훈련 후 결과 비교할 때 사용\n",
        "\n",
        "tar_to_index = tokenizer_kor.word_index # 훈련 후 예측 과정에서 사용\n",
        "index_to_tar = tokenizer_kor.index_word # 훈련 후 결과 비교할 때 사용"
      ],
      "execution_count": 157,
      "outputs": []
    },
    {
      "cell_type": "markdown",
      "metadata": {
        "id": "fWJ2Q0koaJ2O"
      },
      "source": [
        "이제 테스트 데이터를 분리할 차례입니다. 테스트 데이터를 분리하기 전에, 적절한 분포를 갖도록 데이터를 섞어주는 과정을 진행합니다. 이를 위해서 우선 순서가 섞인 정수 시퀀스 리스트를 만듭니다."
      ]
    },
    {
      "cell_type": "code",
      "metadata": {
        "id": "sW1_oSPGaMoo",
        "outputId": "dd4e863c-2713-446b-9872-ddbc76fb22bd",
        "colab": {
          "base_uri": "https://localhost:8080/",
          "height": 35
        }
      },
      "source": [
        "indices = np.arange(encoder_input.shape[0])\n",
        "np.random.shuffle(indices)\n",
        "print(indices)"
      ],
      "execution_count": 158,
      "outputs": [
        {
          "output_type": "stream",
          "text": [
            "[20583  8554 17451 ...   731 23078  7035]\n"
          ],
          "name": "stdout"
        }
      ]
    },
    {
      "cell_type": "markdown",
      "metadata": {
        "id": "hidFcsEvaOpc"
      },
      "source": [
        "이를 데이터셋의 순서로 지정해주면 샘플들이 기존 순서와 다른 순서로 섞이게 됩니다."
      ]
    },
    {
      "cell_type": "code",
      "metadata": {
        "id": "6ZlAAyI7aQZz"
      },
      "source": [
        "encoder_input = encoder_input[indices]\n",
        "decoder_input = decoder_input[indices]\n",
        "decoder_target = decoder_target[indices]"
      ],
      "execution_count": 159,
      "outputs": []
    },
    {
      "cell_type": "markdown",
      "metadata": {
        "id": "9lFgQHLKaSxm"
      },
      "source": [
        "임의로 30,997번째 샘플을 출력해봅시다. 이때, decoder_input과 decoder_target은 데이터의 구조상으로 앞에 붙은 <sos> 토큰과 뒤에 붙은 <eos>을 제외하면 동일한 정수 시퀀스를 가져야하므로 이를 확인해주면 됩니다."
      ]
    },
    {
      "cell_type": "code",
      "metadata": {
        "id": "XBbjndGRaktV",
        "outputId": "7828ea1d-3a3a-4119-91b0-035fe9e2ac83",
        "colab": {
          "base_uri": "https://localhost:8080/",
          "height": 53
        }
      },
      "source": [
        "encoder_input[30997]\n",
        "decoder_input[30997]\n",
        "decoder_input[30997]"
      ],
      "execution_count": 160,
      "outputs": [
        {
          "output_type": "execute_result",
          "data": {
            "text/plain": [
              "array([   2,  190,   23, 6249,    1,    0,    0,    0,    0,    0,    0,\n",
              "          0,    0,    0,    0,    0], dtype=int32)"
            ]
          },
          "metadata": {
            "tags": []
          },
          "execution_count": 160
        }
      ]
    },
    {
      "cell_type": "code",
      "metadata": {
        "id": "7-lA_KUeavZ1",
        "outputId": "deededda-c94e-477a-f09a-86f82d06d733",
        "colab": {
          "base_uri": "https://localhost:8080/",
          "height": 35
        }
      },
      "source": [
        "n_of_val = int(33000*0.1)\n",
        "print(n_of_val)"
      ],
      "execution_count": 161,
      "outputs": [
        {
          "output_type": "stream",
          "text": [
            "3300\n"
          ],
          "name": "stdout"
        }
      ]
    },
    {
      "cell_type": "markdown",
      "metadata": {
        "id": "zMrxv3zOayFm"
      },
      "source": [
        "33,000개의 10%에 해당되는 3,300개의 데이터를 테스트 데이터로 사용합니다."
      ]
    },
    {
      "cell_type": "code",
      "metadata": {
        "id": "vlEV9Pnya0Qn"
      },
      "source": [
        "encoder_input_train = encoder_input[:-n_of_val]\n",
        "decoder_input_train = decoder_input[:-n_of_val]\n",
        "decoder_target_train = decoder_target[:-n_of_val]\n",
        "\n",
        "encoder_input_test = encoder_input[-n_of_val:]\n",
        "decoder_input_test = decoder_input[-n_of_val:]\n",
        "decoder_target_test = decoder_target[-n_of_val:]"
      ],
      "execution_count": 162,
      "outputs": []
    },
    {
      "cell_type": "markdown",
      "metadata": {
        "id": "roMjgwOea4dk"
      },
      "source": [
        "훈련 데이터와 테스트 데이터의 크기(shape)를 출력해봅시다."
      ]
    },
    {
      "cell_type": "code",
      "metadata": {
        "id": "9JiO0GzWa8Jk",
        "outputId": "87fe6dea-168e-4c04-e1b4-0b24fb1c8eaa",
        "colab": {
          "base_uri": "https://localhost:8080/",
          "height": 125
        }
      },
      "source": [
        "print(encoder_input_train.shape)\n",
        "print(decoder_input_train.shape)\n",
        "print(decoder_target_train.shape)\n",
        "print(encoder_input_test.shape)\n",
        "print(decoder_input_test.shape)\n",
        "print(decoder_target_test.shape)"
      ],
      "execution_count": 163,
      "outputs": [
        {
          "output_type": "stream",
          "text": [
            "(29700, 8)\n",
            "(29700, 16)\n",
            "(29700, 16)\n",
            "(3300, 8)\n",
            "(3300, 16)\n",
            "(3300, 16)\n"
          ],
          "name": "stdout"
        }
      ]
    },
    {
      "cell_type": "markdown",
      "metadata": {
        "id": "uIt987wva-D2"
      },
      "source": [
        "기계번역 만들기 실제"
      ]
    },
    {
      "cell_type": "markdown",
      "metadata": {
        "id": "0Pis1vpWbD6-"
      },
      "source": [
        "모델 설계를 위해 필요한 도구 임포트"
      ]
    },
    {
      "cell_type": "code",
      "metadata": {
        "id": "481Bw_wpbHAv"
      },
      "source": [
        "from tensorflow.keras.layers import Input, LSTM, Embedding, Dense, Masking\n",
        "from tensorflow.keras.models import Model"
      ],
      "execution_count": 164,
      "outputs": []
    },
    {
      "cell_type": "markdown",
      "metadata": {
        "id": "yW1-7LRSbLCc"
      },
      "source": [
        "임베딩 벡터와 LSTM의 은닉 상태의 크기를 특정 크기로 고정하고자 합니다. 여기서는 50을 사용합니다."
      ]
    },
    {
      "cell_type": "code",
      "metadata": {
        "id": "C960ACewbMPb"
      },
      "source": [
        "latent_dim = 50"
      ],
      "execution_count": 165,
      "outputs": []
    },
    {
      "cell_type": "markdown",
      "metadata": {
        "id": "Mxl9PuKObPbG"
      },
      "source": [
        "인코더를 설계합니다. Masking은 패딩 토큰인 숫자 0의 경우에는 연산을 제외하는 역할을 수행합니다."
      ]
    },
    {
      "cell_type": "code",
      "metadata": {
        "id": "NRMhp2VVbQr7"
      },
      "source": [
        "# 인코더\n",
        "encoder_inputs = Input(shape=(None,))\n",
        "enc_emb =  Embedding(src_vocab_size, latent_dim)(encoder_inputs) # 임베딩 층\n",
        "enc_masking = Masking(mask_value=0.0)(enc_emb) # 패딩 0은 연산에서 제외\n",
        "encoder_lstm = LSTM(latent_dim, return_state=True) # 상태값 리턴을 위해 return_state는 True\n",
        "encoder_outputs, state_h, state_c = encoder_lstm(enc_masking) # 은닉 상태와 셀 상태를 리턴\n",
        "encoder_states = [state_h, state_c] # 인코더의 은닉 상태와 셀 상태를 저장"
      ],
      "execution_count": 166,
      "outputs": []
    },
    {
      "cell_type": "markdown",
      "metadata": {
        "id": "gCHFBztabVAA"
      },
      "source": [
        "이제 디코더를 설계합니다."
      ]
    },
    {
      "cell_type": "code",
      "metadata": {
        "id": "FxYkMSrKbV3v"
      },
      "source": [
        "# 디코더\n",
        "decoder_inputs = Input(shape=(None,))\n",
        "dec_emb_layer = Embedding(tar_vocab_size, latent_dim) # 임베딩 층\n",
        "dec_emb = dec_emb_layer(decoder_inputs) # 패딩 0은 연산에서 제외\n",
        "dec_masking = Masking(mask_value=0.0)(dec_emb)\n",
        "\n",
        "# 상태값 리턴을 위해 return_state는 True, 모든 시점에 대해서 단어를 예측하기 위해 return_sequences는 True\n",
        "decoder_lstm = LSTM(latent_dim, return_sequences=True, return_state=True) \n",
        "\n",
        "# 인코더의 은닉 상태를 초기 은닉 상태(initial_state)로 사용\n",
        "decoder_outputs, _, _ = decoder_lstm(dec_masking,\n",
        "                                     initial_state=encoder_states)\n",
        "\n",
        "# 모든 시점의 결과에 대해서 소프트맥스 함수를 사용한 출력층을 통해 단어 예측\n",
        "decoder_dense = Dense(tar_vocab_size, activation='softmax')\n",
        "decoder_outputs = decoder_dense(decoder_outputs)"
      ],
      "execution_count": 167,
      "outputs": []
    },
    {
      "cell_type": "markdown",
      "metadata": {
        "id": "PPyFo2NDbZ48"
      },
      "source": [
        "모델의 입력과 출력을 정의하므로서 모델을 정의합니다."
      ]
    },
    {
      "cell_type": "code",
      "metadata": {
        "id": "ppR9ll10bbfQ"
      },
      "source": [
        "model = Model([encoder_inputs, decoder_inputs], decoder_outputs)"
      ],
      "execution_count": 168,
      "outputs": []
    },
    {
      "cell_type": "markdown",
      "metadata": {
        "id": "2GWDhLLIbdlo"
      },
      "source": [
        "seq2seq의 디코더는 기본적으로 각각의 시점(timestep)에 대해서 다중 클래스 분류 문제를 풀고있습니다. 매 시점마다 프랑스어 단어 집합의 크기의 선택지에서 단어를 1개 선택하여 이를 이번 시점에서 예측한 단어로 택합니다. 다중 클래스 분류 문제이므로 위의 설계에서 출력층으로 소프트맥스 함수를 사용했습니다. 이 경우 손실 함수를 지금까지 categorical_crossentropy를 사용해왔습니다.\n",
        "\n",
        "categorical_crossentropy를 사용하려면 레이블은 원-핫 인코딩이 된 상태여야 합니다. 그런데 현재 decoder_outputs의 경우에는 원-핫 인코딩을 하지 않은 상태입니다. 원-핫 인코딩을 하지 않은 상태로, 정수 레이블에 대해서 다중 클래스 분류 문제를 풀고자 하는 경우에는 categorical_crossentropy함수가 아니라 sparse_categorical_crossentropy를 사용하면 됩니다. 이는 케라스에서 규정한 약속입니다."
      ]
    },
    {
      "cell_type": "code",
      "metadata": {
        "id": "s_ODyZCPbfpN"
      },
      "source": [
        "model.compile(optimizer='rmsprop', loss='sparse_categorical_crossentropy', metrics=['accuracy'])"
      ],
      "execution_count": 169,
      "outputs": []
    },
    {
      "cell_type": "markdown",
      "metadata": {
        "id": "3iY6NQGnbjdR"
      },
      "source": [
        "모델의 파라미터를 확인해봅시다."
      ]
    },
    {
      "cell_type": "code",
      "metadata": {
        "id": "G057bts5bkMJ",
        "outputId": "b6fea8c9-2c8e-4a89-c252-5c8f7e311a54",
        "colab": {
          "base_uri": "https://localhost:8080/",
          "height": 521
        }
      },
      "source": [
        "model.summary()"
      ],
      "execution_count": 170,
      "outputs": [
        {
          "output_type": "stream",
          "text": [
            "Model: \"functional_3\"\n",
            "__________________________________________________________________________________________________\n",
            "Layer (type)                    Output Shape         Param #     Connected to                     \n",
            "==================================================================================================\n",
            "input_3 (InputLayer)            [(None, None)]       0                                            \n",
            "__________________________________________________________________________________________________\n",
            "input_4 (InputLayer)            [(None, None)]       0                                            \n",
            "__________________________________________________________________________________________________\n",
            "embedding_2 (Embedding)         (None, None, 50)     233150      input_3[0][0]                    \n",
            "__________________________________________________________________________________________________\n",
            "embedding_3 (Embedding)         (None, None, 50)     401900      input_4[0][0]                    \n",
            "__________________________________________________________________________________________________\n",
            "masking_2 (Masking)             (None, None, 50)     0           embedding_2[0][0]                \n",
            "__________________________________________________________________________________________________\n",
            "masking_3 (Masking)             (None, None, 50)     0           embedding_3[0][0]                \n",
            "__________________________________________________________________________________________________\n",
            "lstm_16 (LSTM)                  [(None, 50), (None,  20200       masking_2[0][0]                  \n",
            "__________________________________________________________________________________________________\n",
            "lstm_17 (LSTM)                  [(None, None, 50), ( 20200       masking_3[0][0]                  \n",
            "                                                                 lstm_16[0][1]                    \n",
            "                                                                 lstm_16[0][2]                    \n",
            "__________________________________________________________________________________________________\n",
            "dense_37 (Dense)                (None, None, 8038)   409938      lstm_17[0][0]                    \n",
            "==================================================================================================\n",
            "Total params: 1,085,388\n",
            "Trainable params: 1,085,388\n",
            "Non-trainable params: 0\n",
            "__________________________________________________________________________________________________\n"
          ],
          "name": "stdout"
        }
      ]
    },
    {
      "cell_type": "markdown",
      "metadata": {
        "id": "7QRqOCJUbm3h"
      },
      "source": [
        "지면의 한계로 여기서는 출력 결과를 생략했지만, 현재 모델의 총 파라미터 개수는 1,082,972개입니다. 이제 모델을 훈련합니다. 128개의 배치 크기로 총 50 에포크 학습합니다. 테스트 데이터를 검증 데이터로 사용하여 훈련이 제대로 되고있는지 모니터링하겠습니다."
      ]
    },
    {
      "cell_type": "code",
      "metadata": {
        "id": "XMjtGLpabpdK",
        "outputId": "9f8c2ca4-10aa-4993-c532-99bad9896eb4",
        "colab": {
          "base_uri": "https://localhost:8080/",
          "height": 557
        }
      },
      "source": [
        "model.fit(x = [encoder_input_train, decoder_input_train], y = decoder_target_train, \\\n",
        "          validation_data = ([encoder_input_test, decoder_input_test], decoder_target_test),\n",
        "          batch_size = 128, epochs = 50)"
      ],
      "execution_count": null,
      "outputs": [
        {
          "output_type": "stream",
          "text": [
            "Epoch 1/50\n",
            "233/233 [==============================] - 173s 744ms/step - loss: 3.1737 - accuracy: 0.6059 - val_loss: 1.9389 - val_accuracy: 0.6836\n",
            "Epoch 2/50\n",
            "233/233 [==============================] - 170s 729ms/step - loss: 1.7413 - accuracy: 0.7232 - val_loss: 1.6464 - val_accuracy: 0.7362\n",
            "Epoch 3/50\n",
            "233/233 [==============================] - 170s 730ms/step - loss: 1.5542 - accuracy: 0.7460 - val_loss: 1.5330 - val_accuracy: 0.7522\n",
            "Epoch 4/50\n",
            "233/233 [==============================] - 169s 724ms/step - loss: 1.4482 - accuracy: 0.7622 - val_loss: 1.4386 - val_accuracy: 0.7698\n",
            "Epoch 5/50\n",
            "233/233 [==============================] - 169s 726ms/step - loss: 1.3545 - accuracy: 0.7791 - val_loss: 1.3889 - val_accuracy: 0.7776\n",
            "Epoch 6/50\n",
            "233/233 [==============================] - 168s 723ms/step - loss: 1.2858 - accuracy: 0.7895 - val_loss: 1.3233 - val_accuracy: 0.7875\n",
            "Epoch 7/50\n",
            "233/233 [==============================] - 170s 730ms/step - loss: 1.2327 - accuracy: 0.7980 - val_loss: 1.2664 - val_accuracy: 0.7984\n",
            "Epoch 8/50\n",
            "233/233 [==============================] - 169s 727ms/step - loss: 1.1872 - accuracy: 0.8052 - val_loss: 1.2366 - val_accuracy: 0.8016\n",
            "Epoch 9/50\n",
            "233/233 [==============================] - 170s 730ms/step - loss: 1.1475 - accuracy: 0.8108 - val_loss: 1.1989 - val_accuracy: 0.8097\n",
            "Epoch 10/50\n",
            "233/233 [==============================] - 168s 721ms/step - loss: 1.1127 - accuracy: 0.8157 - val_loss: 1.1666 - val_accuracy: 0.8121\n",
            "Epoch 11/50\n",
            "233/233 [==============================] - 170s 730ms/step - loss: 1.0816 - accuracy: 0.8204 - val_loss: 1.1459 - val_accuracy: 0.8155\n",
            "Epoch 12/50\n",
            "233/233 [==============================] - 170s 730ms/step - loss: 1.0523 - accuracy: 0.8240 - val_loss: 1.1214 - val_accuracy: 0.8177\n",
            "Epoch 13/50\n",
            "233/233 [==============================] - 169s 727ms/step - loss: 1.0261 - accuracy: 0.8270 - val_loss: 1.1093 - val_accuracy: 0.8194\n",
            "Epoch 14/50\n",
            "233/233 [==============================] - 169s 727ms/step - loss: 1.0028 - accuracy: 0.8301 - val_loss: 1.1027 - val_accuracy: 0.8212\n",
            "Epoch 15/50\n",
            "233/233 [==============================] - 170s 728ms/step - loss: 0.9818 - accuracy: 0.8327 - val_loss: 1.0823 - val_accuracy: 0.8231\n"
          ],
          "name": "stdout"
        }
      ]
    },
    {
      "cell_type": "markdown",
      "metadata": {
        "id": "LlG62RZubxSp"
      },
      "source": [
        "seq2seq 번역기 동작시키기"
      ]
    },
    {
      "cell_type": "markdown",
      "metadata": {
        "id": "mcSElphbb47T"
      },
      "source": [
        "seq2seq는 훈련 과정과 테스트 과정에서의 동작 방식이 다릅니다. 그래서 테스트 과정을 위해 모델을 다시 설계해주어야 합니다. 특히 디코더를 많이 수정해야 합니다. 우선 테스트 과정에서의 인코더 모델을 설계합니다."
      ]
    },
    {
      "cell_type": "code",
      "metadata": {
        "id": "t0hJYg3qb8bX"
      },
      "source": [
        "# 인코더\n",
        "encoder_model = Model(encoder_inputs, encoder_states)"
      ],
      "execution_count": null,
      "outputs": []
    },
    {
      "cell_type": "markdown",
      "metadata": {
        "id": "KRWBtBGTb-tb"
      },
      "source": [
        "디코더를 설계합니다."
      ]
    },
    {
      "cell_type": "code",
      "metadata": {
        "id": "2MKExEELcC7D"
      },
      "source": [
        "# 디코더\n",
        "# 이전 시점의 상태를 보관할 텐서\n",
        "decoder_state_input_h = Input(shape=(latent_dim,))\n",
        "decoder_state_input_c = Input(shape=(latent_dim,))\n",
        "decoder_states_inputs = [decoder_state_input_h, decoder_state_input_c]\n",
        "\n",
        "# 훈련 때 사용했던 임베딩 층을 재사용\n",
        "dec_emb2= dec_emb_layer(decoder_inputs)\n",
        "\n",
        "# 다음 단어 예측을 위해 이전 시점의 상태를 현 시점의 초기 상태로 사용\n",
        "decoder_outputs2, state_h2, state_c2 = decoder_lstm(dec_emb2, initial_state=decoder_states_inputs)\n",
        "decoder_states2 = [state_h2, state_c2]\n",
        "\n",
        "# 모든 시점에 대해서 단어 예측\n",
        "decoder_outputs2 = decoder_dense(decoder_outputs2)"
      ],
      "execution_count": null,
      "outputs": []
    },
    {
      "cell_type": "markdown",
      "metadata": {
        "id": "toky6HidcFe_"
      },
      "source": [
        "디코더를 정의합니다."
      ]
    },
    {
      "cell_type": "code",
      "metadata": {
        "id": "WjgRo0hDcH3R"
      },
      "source": [
        "decoder_model = Model(\n",
        "    [decoder_inputs] + decoder_states_inputs,\n",
        "    [decoder_outputs2] + decoder_states2)"
      ],
      "execution_count": null,
      "outputs": []
    },
    {
      "cell_type": "markdown",
      "metadata": {
        "id": "nrJaIt4EcKV5"
      },
      "source": [
        "테스트 과정을 위한 모델 설계를 완료하였습니다. 이제 테스트 과정에서의 동작을 위한 decode_sequence 함수를 구현합니다."
      ]
    },
    {
      "cell_type": "code",
      "metadata": {
        "id": "DQcYDefIcNIl"
      },
      "source": [
        "def decode_sequence(input_seq):\n",
        "    # 입력으로부터 인코더의 상태를 얻음\n",
        "    states_value = encoder_model.predict(input_seq)\n",
        "\n",
        "    # <SOS>에 해당하는 정수 생성\n",
        "    target_seq = np.zeros((1,1))\n",
        "    target_seq[0, 0] = tar_to_index['<sos>']\n",
        "\n",
        "    stop_condition = False\n",
        "    decoded_sentence = ''\n",
        "\n",
        "    # stop_condition이 True가 될 때까지 루프 반복\n",
        "    # 구현의 간소화를 위해서 이 함수는 배치 크기를 1로 가정합니다.\n",
        "    while not stop_condition:\n",
        "        # 이점 시점의 상태 states_value를 현 시점의 초기 상태로 사용\n",
        "        output_tokens, h, c = decoder_model.predict([target_seq] + states_value)\n",
        "\n",
        "        # 예측 결과를 단어로 변환\n",
        "        sampled_token_index = np.argmax(output_tokens[0, -1, :])\n",
        "        sampled_char = index_to_tar[sampled_token_index]\n",
        "\n",
        "         # 현재 시점의 예측 단어를 예측 문장에 추가\n",
        "        decoded_sentence += ' '+sampled_char\n",
        "\n",
        "        # <eos>에 도달하거나 정해진 길이를 넘으면 중단.\n",
        "        if (sampled_char == '<eos>' or\n",
        "           len(decoded_sentence) > 50):\n",
        "            stop_condition = True\n",
        "\n",
        "        # 현재 시점의 예측 결과를 다음 시점의 입력으로 사용하기 위해 저장\n",
        "        target_seq = np.zeros((1,1))\n",
        "        target_seq[0, 0] = sampled_token_index\n",
        "\n",
        "        # 현재 시점의 상태를 다음 시점의 상태로 사용하기 위해 저장\n",
        "        states_value = [h, c]\n",
        "\n",
        "    return decoded_sentence"
      ],
      "execution_count": null,
      "outputs": []
    },
    {
      "cell_type": "markdown",
      "metadata": {
        "id": "vHA6gPgecOzJ"
      },
      "source": [
        "결과 확인을 위한 함수를 만듭니다."
      ]
    },
    {
      "cell_type": "code",
      "metadata": {
        "id": "HrCgfFRYcRLj"
      },
      "source": [
        "# 원문의 정수 시퀀스를 텍스트 시퀀스로 변환\n",
        "def seq2src(input_seq):\n",
        "    temp=''\n",
        "    for i in input_seq:\n",
        "        if(i!=0):\n",
        "            temp = temp + index_to_src[i]+' '\n",
        "    return temp\n",
        "\n",
        "# 번역문의 정수 시퀀스를 텍스트 시퀀스로 변환\n",
        "def seq2tar(input_seq):\n",
        "    temp=''\n",
        "    for i in input_seq:\n",
        "        if((i!=0 and i!=tar_to_index['<sos>']) and i!=tar_to_index['<eos>']):\n",
        "            temp = temp + index_to_tar[i] + ' '\n",
        "    return temp"
      ],
      "execution_count": null,
      "outputs": []
    },
    {
      "cell_type": "markdown",
      "metadata": {
        "id": "dlLRN1gncU2h"
      },
      "source": [
        "훈련 데이터에 대해서 임의로 선택한 인덱스의 샘플의 결과를 출력해봅시다."
      ]
    },
    {
      "cell_type": "code",
      "metadata": {
        "id": "TaaCjcxVcXB7"
      },
      "source": [
        "for seq_index in [3,50,100,300,1001]:\n",
        "  input_seq = encoder_input_train[seq_index: seq_index + 1]\n",
        "  decoded_sentence = decode_sequence(input_seq)\n",
        "\n",
        "  print(\"원문 : \",seq2src(encoder_input_train[seq_index]))\n",
        "  print(\"번역문 :\",seq2tar(decoder_input_train[seq_index]))\n",
        "  print(\"예측문 :\",decoded_sentence[:-5])\n",
        "  print(\"\\n\")"
      ],
      "execution_count": null,
      "outputs": []
    },
    {
      "cell_type": "markdown",
      "metadata": {
        "id": "cQVt3TqFcfu3"
      },
      "source": [
        "이번엔 테스트 데이터에 대해서"
      ]
    },
    {
      "cell_type": "code",
      "metadata": {
        "id": "Mn3A6achciy6"
      },
      "source": [
        "for seq_index in [3,50,100,300,1001]:\n",
        "  input_seq = encoder_input_test[seq_index: seq_index + 1]\n",
        "  decoded_sentence = decode_sequence(input_seq)\n",
        "\n",
        "  print(\"원문 : \",seq2src(encoder_input_test[seq_index]))\n",
        "  print(\"번역문 :\",seq2tar(decoder_input_test[seq_index]))\n",
        "  print(\"예측문 :\",decoded_sentence[:-5])\n",
        "  print(\"\\n\")"
      ],
      "execution_count": null,
      "outputs": []
    }
  ]
}